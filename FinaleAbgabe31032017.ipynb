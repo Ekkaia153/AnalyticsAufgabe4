{
 "cells": [
  {
   "cell_type": "markdown",
   "metadata": {},
   "source": [
    "# Aufgabe 4:"
   ]
  },
  {
   "cell_type": "code",
   "execution_count": 101,
   "metadata": {
    "collapsed": true
   },
   "outputs": [],
   "source": [
    "#Import stuff & things\n",
    "import pandas as pd\n",
    "from sklearn.feature_extraction.text import CountVectorizer\n",
    "from sklearn.naive_bayes import MultinomialNB\n",
    "from sklearn.metrics import accuracy_score"
   ]
  },
  {
   "cell_type": "markdown",
   "metadata": {},
   "source": [
    "# Hilfsfunktionen"
   ]
  },
  {
   "cell_type": "code",
   "execution_count": 102,
   "metadata": {
    "collapsed": true
   },
   "outputs": [],
   "source": [
    "# Convenient function to output test items\n",
    "def show_test_item(clf, i, text=True, classify=True):\n",
    "    a = 'actual: ' + str(test.iloc[i].recommended)\n",
    "    p = ''\n",
    "    if classify:\n",
    "        p = ' / predicted: ' + str(clf.predict(vectorizer.transform([test.iloc[i].content_text]))[0])\n",
    "    print('[' + str(i) + '] ' +a + p)\n",
    "    if text:\n",
    "        print('\\n')\n",
    "        print(test.iloc[i].content_text)"
   ]
  },
  {
   "cell_type": "markdown",
   "metadata": {},
   "source": [
    "# Dokumente laden"
   ]
  },
  {
   "cell_type": "code",
   "execution_count": 103,
   "metadata": {
    "collapsed": false
   },
   "outputs": [],
   "source": [
    "#Read Datasets for all Areas\n",
    "dir = 'C:/Users/IBM_ADMIN/HTW/Analytics/4_Classification'\n",
    "\n",
    "games = pd.read_json(dir + '/games.json', orient='records', encoding='utf8')\n",
    "music = pd.read_json(dir + '/music.json', orient='records', encoding='utf8')\n",
    "apps = pd.read_json(dir + '/apps.json', orient='records', encoding='utf8')"
   ]
  },
  {
   "cell_type": "markdown",
   "metadata": {},
   "source": [
    "# Aufbereiten Tabellen"
   ]
  },
  {
   "cell_type": "markdown",
   "metadata": {},
   "source": [
    "# Aufspalten in Train und Test"
   ]
  },
  {
   "cell_type": "code",
   "execution_count": 104,
   "metadata": {
    "collapsed": false
   },
   "outputs": [],
   "source": [
    "#Set Randomn State\n",
    "random_state = 100\n",
    "\n",
    "#Set Traindata for games\n",
    "train_games_positiv = games[games.recommended==True].sample(frac=0.8, random_state=random_state)\n",
    "train_games_negativ = games[games.recommended==False].sample(frac=0.8, random_state=random_state)\n",
    "train_games = pd.concat([train_games_positiv, train_games_negativ])\n",
    "test_games = games.drop(train_games.index)\n",
    "\n",
    "#Set Traindata for music\n",
    "train_music_positiv = music[music.rating.isin(['8', '9', '10', '11', '12', '13', '14', '15'])].sample(frac=0.8, random_state=random_state)\n",
    "train_music_negativ = music[music.rating.isin(['1', '2', '3', '4', '5', '6', '7'])].sample(frac=0.8, random_state=random_state)\n",
    "train_music = pd.concat([train_music_positiv, train_music_negativ])\n",
    "test_music = music.drop(train_music.index)\n",
    "\n",
    "#Set Traindata for apps\n",
    "train_apps_positiv = apps[apps.Rating >= 3].sample(frac=0.8, random_state=random_state)\n",
    "train_apps_negativ = apps[apps.Rating < 3].sample(frac=0.8, random_state=random_state)\n",
    "train_apps = pd.concat([train_apps_positiv, train_apps_negativ])\n",
    "test_apps = apps.drop(train_apps.index)"
   ]
  },
  {
   "cell_type": "markdown",
   "metadata": {},
   "source": [
    "# Spalten vereinheitlichen"
   ]
  },
  {
   "cell_type": "code",
   "execution_count": 106,
   "metadata": {
    "collapsed": false
   },
   "outputs": [
    {
     "data": {
      "text/html": [
       "<div>\n",
       "<table border=\"1\" class=\"dataframe\">\n",
       "  <thead>\n",
       "    <tr style=\"text-align: right;\">\n",
       "      <th></th>\n",
       "      <th>content_text</th>\n",
       "      <th>recommended</th>\n",
       "      <th>Positiv</th>\n",
       "      <th>Text</th>\n",
       "    </tr>\n",
       "  </thead>\n",
       "  <tbody>\n",
       "    <tr>\n",
       "      <th>27954</th>\n",
       "      <td>Der absolut beste Teil der Serie! Hab zuvor Fa...</td>\n",
       "      <td>True</td>\n",
       "      <td>True</td>\n",
       "      <td>Der absolut beste Teil der Serie! Hab zuvor Fa...</td>\n",
       "    </tr>\n",
       "    <tr>\n",
       "      <th>25306</th>\n",
       "      <td>Von den Trailern und Reviews bekommt man ja gu...</td>\n",
       "      <td>True</td>\n",
       "      <td>True</td>\n",
       "      <td>Von den Trailern und Reviews bekommt man ja gu...</td>\n",
       "    </tr>\n",
       "    <tr>\n",
       "      <th>12535</th>\n",
       "      <td>Als ich von theHunter: Primal gehört habe, hat...</td>\n",
       "      <td>True</td>\n",
       "      <td>True</td>\n",
       "      <td>Als ich von theHunter: Primal gehört habe, hat...</td>\n",
       "    </tr>\n",
       "    <tr>\n",
       "      <th>14045</th>\n",
       "      <td>Yay!</td>\n",
       "      <td>True</td>\n",
       "      <td>True</td>\n",
       "      <td>Yay!</td>\n",
       "    </tr>\n",
       "    <tr>\n",
       "      <th>6696</th>\n",
       "      <td>ETS 2 ein einfach geniales Spiel ;)</td>\n",
       "      <td>True</td>\n",
       "      <td>True</td>\n",
       "      <td>ETS 2 ein einfach geniales Spiel ;)</td>\n",
       "    </tr>\n",
       "    <tr>\n",
       "      <th>13857</th>\n",
       "      <td>Meiner Meinung nach eines der besten und logis...</td>\n",
       "      <td>True</td>\n",
       "      <td>True</td>\n",
       "      <td>Meiner Meinung nach eines der besten und logis...</td>\n",
       "    </tr>\n",
       "    <tr>\n",
       "      <th>20836</th>\n",
       "      <td>Es gibt zwar noch den ein oder anderen Bug*, a...</td>\n",
       "      <td>True</td>\n",
       "      <td>True</td>\n",
       "      <td>Es gibt zwar noch den ein oder anderen Bug*, a...</td>\n",
       "    </tr>\n",
       "    <tr>\n",
       "      <th>16646</th>\n",
       "      <td>Man sollte zuerst sagen, dass das Spiel nichts...</td>\n",
       "      <td>True</td>\n",
       "      <td>True</td>\n",
       "      <td>Man sollte zuerst sagen, dass das Spiel nichts...</td>\n",
       "    </tr>\n",
       "    <tr>\n",
       "      <th>10932</th>\n",
       "      <td>sehr gutes Spiel feier ich persöhnlich auch im...</td>\n",
       "      <td>True</td>\n",
       "      <td>True</td>\n",
       "      <td>sehr gutes Spiel feier ich persöhnlich auch im...</td>\n",
       "    </tr>\n",
       "    <tr>\n",
       "      <th>2378</th>\n",
       "      <td>http://youtu.be/ty0Ty1CiQ5U</td>\n",
       "      <td>True</td>\n",
       "      <td>True</td>\n",
       "      <td>http://youtu.be/ty0Ty1CiQ5U</td>\n",
       "    </tr>\n",
       "  </tbody>\n",
       "</table>\n",
       "</div>"
      ],
      "text/plain": [
       "                                            content_text recommended Positiv  \\\n",
       "27954  Der absolut beste Teil der Serie! Hab zuvor Fa...        True    True   \n",
       "25306  Von den Trailern und Reviews bekommt man ja gu...        True    True   \n",
       "12535  Als ich von theHunter: Primal gehört habe, hat...        True    True   \n",
       "14045                                               Yay!        True    True   \n",
       "6696                 ETS 2 ein einfach geniales Spiel ;)        True    True   \n",
       "13857  Meiner Meinung nach eines der besten und logis...        True    True   \n",
       "20836  Es gibt zwar noch den ein oder anderen Bug*, a...        True    True   \n",
       "16646  Man sollte zuerst sagen, dass das Spiel nichts...        True    True   \n",
       "10932  sehr gutes Spiel feier ich persöhnlich auch im...        True    True   \n",
       "2378                         http://youtu.be/ty0Ty1CiQ5U        True    True   \n",
       "\n",
       "                                                    Text  \n",
       "27954  Der absolut beste Teil der Serie! Hab zuvor Fa...  \n",
       "25306  Von den Trailern und Reviews bekommt man ja gu...  \n",
       "12535  Als ich von theHunter: Primal gehört habe, hat...  \n",
       "14045                                               Yay!  \n",
       "6696                 ETS 2 ein einfach geniales Spiel ;)  \n",
       "13857  Meiner Meinung nach eines der besten und logis...  \n",
       "20836  Es gibt zwar noch den ein oder anderen Bug*, a...  \n",
       "16646  Man sollte zuerst sagen, dass das Spiel nichts...  \n",
       "10932  sehr gutes Spiel feier ich persöhnlich auch im...  \n",
       "2378                         http://youtu.be/ty0Ty1CiQ5U  "
      ]
     },
     "execution_count": 106,
     "metadata": {},
     "output_type": "execute_result"
    }
   ],
   "source": [
    "#Einfügen positiv Spalte und Text\n",
    "#games.reset_index(inplace=True)\n",
    "train_games['Positiv'] = (games.recommended)\n",
    "train_games['Text'] = (games.content_text)\n",
    "train_games[:10]"
   ]
  },
  {
   "cell_type": "code",
   "execution_count": 108,
   "metadata": {
    "collapsed": false
   },
   "outputs": [
    {
     "data": {
      "text/html": [
       "<div>\n",
       "<table border=\"1\" class=\"dataframe\">\n",
       "  <thead>\n",
       "    <tr style=\"text-align: right;\">\n",
       "      <th></th>\n",
       "      <th>content_text</th>\n",
       "      <th>recommended</th>\n",
       "      <th>Positiv</th>\n",
       "      <th>Text</th>\n",
       "    </tr>\n",
       "  </thead>\n",
       "  <tbody>\n",
       "    <tr>\n",
       "      <th>3</th>\n",
       "      <td>leider ist die grafic für den absoluter mist u...</td>\n",
       "      <td>False</td>\n",
       "      <td>False</td>\n",
       "      <td>leider ist die grafic für den absoluter mist u...</td>\n",
       "    </tr>\n",
       "    <tr>\n",
       "      <th>12</th>\n",
       "      <td>nice the game!</td>\n",
       "      <td>True</td>\n",
       "      <td>True</td>\n",
       "      <td>nice the game!</td>\n",
       "    </tr>\n",
       "    <tr>\n",
       "      <th>13</th>\n",
       "      <td>Super Spiel</td>\n",
       "      <td>True</td>\n",
       "      <td>True</td>\n",
       "      <td>Super Spiel</td>\n",
       "    </tr>\n",
       "    <tr>\n",
       "      <th>18</th>\n",
       "      <td>Leider ein Fehlkauf ;-(</td>\n",
       "      <td>False</td>\n",
       "      <td>False</td>\n",
       "      <td>Leider ein Fehlkauf ;-(</td>\n",
       "    </tr>\n",
       "    <tr>\n",
       "      <th>23</th>\n",
       "      <td>Das is scheiße!!!! Holt es euch nicht!</td>\n",
       "      <td>False</td>\n",
       "      <td>False</td>\n",
       "      <td>Das is scheiße!!!! Holt es euch nicht!</td>\n",
       "    </tr>\n",
       "    <tr>\n",
       "      <th>27</th>\n",
       "      <td>Also eines der besten Sonic Spiele die ich jem...</td>\n",
       "      <td>True</td>\n",
       "      <td>True</td>\n",
       "      <td>Also eines der besten Sonic Spiele die ich jem...</td>\n",
       "    </tr>\n",
       "    <tr>\n",
       "      <th>39</th>\n",
       "      <td>Die beste Bananenrepublik, die man für Geld ka...</td>\n",
       "      <td>True</td>\n",
       "      <td>True</td>\n",
       "      <td>Die beste Bananenrepublik, die man für Geld ka...</td>\n",
       "    </tr>\n",
       "    <tr>\n",
       "      <th>44</th>\n",
       "      <td>Cooles Game, zumindest was die 1.te knappe Stu...</td>\n",
       "      <td>True</td>\n",
       "      <td>True</td>\n",
       "      <td>Cooles Game, zumindest was die 1.te knappe Stu...</td>\n",
       "    </tr>\n",
       "    <tr>\n",
       "      <th>50</th>\n",
       "      <td>Wir haben es jetzt einige Stunden im lokalen 2...</td>\n",
       "      <td>True</td>\n",
       "      <td>True</td>\n",
       "      <td>Wir haben es jetzt einige Stunden im lokalen 2...</td>\n",
       "    </tr>\n",
       "    <tr>\n",
       "      <th>51</th>\n",
       "      <td>da es kostenlos ist lohnt sich das spiel auf j...</td>\n",
       "      <td>True</td>\n",
       "      <td>True</td>\n",
       "      <td>da es kostenlos ist lohnt sich das spiel auf j...</td>\n",
       "    </tr>\n",
       "  </tbody>\n",
       "</table>\n",
       "</div>"
      ],
      "text/plain": [
       "                                         content_text recommended Positiv  \\\n",
       "3   leider ist die grafic für den absoluter mist u...       False   False   \n",
       "12                                     nice the game!        True    True   \n",
       "13                                        Super Spiel        True    True   \n",
       "18                            Leider ein Fehlkauf ;-(       False   False   \n",
       "23             Das is scheiße!!!! Holt es euch nicht!       False   False   \n",
       "27  Also eines der besten Sonic Spiele die ich jem...        True    True   \n",
       "39  Die beste Bananenrepublik, die man für Geld ka...        True    True   \n",
       "44  Cooles Game, zumindest was die 1.te knappe Stu...        True    True   \n",
       "50  Wir haben es jetzt einige Stunden im lokalen 2...        True    True   \n",
       "51  da es kostenlos ist lohnt sich das spiel auf j...        True    True   \n",
       "\n",
       "                                                 Text  \n",
       "3   leider ist die grafic für den absoluter mist u...  \n",
       "12                                     nice the game!  \n",
       "13                                        Super Spiel  \n",
       "18                            Leider ein Fehlkauf ;-(  \n",
       "23             Das is scheiße!!!! Holt es euch nicht!  \n",
       "27  Also eines der besten Sonic Spiele die ich jem...  \n",
       "39  Die beste Bananenrepublik, die man für Geld ka...  \n",
       "44  Cooles Game, zumindest was die 1.te knappe Stu...  \n",
       "50  Wir haben es jetzt einige Stunden im lokalen 2...  \n",
       "51  da es kostenlos ist lohnt sich das spiel auf j...  "
      ]
     },
     "execution_count": 108,
     "metadata": {},
     "output_type": "execute_result"
    }
   ],
   "source": [
    "#Einfügen positiv Spalte und Text\n",
    "#games.reset_index(inplace=True)\n",
    "test_games['Positiv'] = (games.recommended)\n",
    "test_games['Text'] = (games.content_text)\n",
    "test_games[:10]"
   ]
  },
  {
   "cell_type": "code",
   "execution_count": 109,
   "metadata": {
    "collapsed": false
   },
   "outputs": [
    {
     "name": "stderr",
     "output_type": "stream",
     "text": [
      "C:\\Users\\IBM_ADMIN\\Anaconda3\\Ana\\lib\\site-packages\\ipykernel\\__main__.py:4: SettingWithCopyWarning: \n",
      "A value is trying to be set on a copy of a slice from a DataFrame.\n",
      "Try using .loc[row_indexer,col_indexer] = value instead\n",
      "\n",
      "See the caveats in the documentation: http://pandas.pydata.org/pandas-docs/stable/indexing.html#indexing-view-versus-copy\n"
     ]
    },
    {
     "data": {
      "text/html": [
       "<div>\n",
       "<table border=\"1\" class=\"dataframe\">\n",
       "  <thead>\n",
       "    <tr style=\"text-align: right;\">\n",
       "      <th></th>\n",
       "      <th>index</th>\n",
       "      <th>Heading</th>\n",
       "      <th>Rating</th>\n",
       "      <th>Text</th>\n",
       "      <th>Positiv</th>\n",
       "    </tr>\n",
       "  </thead>\n",
       "  <tbody>\n",
       "    <tr>\n",
       "      <th>0</th>\n",
       "      <td>0</td>\n",
       "      <td>Widgets?</td>\n",
       "      <td>4</td>\n",
       "      <td>App ist hervorragend designt, mir fehlt aber d...</td>\n",
       "      <td>True</td>\n",
       "    </tr>\n",
       "    <tr>\n",
       "      <th>1</th>\n",
       "      <td>1</td>\n",
       "      <td>Super</td>\n",
       "      <td>5</td>\n",
       "      <td>Passt</td>\n",
       "      <td>True</td>\n",
       "    </tr>\n",
       "    <tr>\n",
       "      <th>2</th>\n",
       "      <td>2</td>\n",
       "      <td>Klasse Wecker</td>\n",
       "      <td>4</td>\n",
       "      <td>Er ist recht einfach zu bedienen, selbst im Ha...</td>\n",
       "      <td>True</td>\n",
       "    </tr>\n",
       "    <tr>\n",
       "      <th>3</th>\n",
       "      <td>3</td>\n",
       "      <td>None</td>\n",
       "      <td>5</td>\n",
       "      <td>Echt super.nur zum ausstellen des Weckers muss...</td>\n",
       "      <td>True</td>\n",
       "    </tr>\n",
       "    <tr>\n",
       "      <th>4</th>\n",
       "      <td>4</td>\n",
       "      <td>Echt cool</td>\n",
       "      <td>5</td>\n",
       "      <td>Das ist der erste wecker den man hört :D also ...</td>\n",
       "      <td>True</td>\n",
       "    </tr>\n",
       "    <tr>\n",
       "      <th>5</th>\n",
       "      <td>6</td>\n",
       "      <td>Sehr guter app</td>\n",
       "      <td>5</td>\n",
       "      <td>Welle gelek rind e. Morovan ji xewê radike.</td>\n",
       "      <td>False</td>\n",
       "    </tr>\n",
       "    <tr>\n",
       "      <th>6</th>\n",
       "      <td>7</td>\n",
       "      <td>Klasse</td>\n",
       "      <td>5</td>\n",
       "      <td>Klasse</td>\n",
       "      <td>True</td>\n",
       "    </tr>\n",
       "    <tr>\n",
       "      <th>7</th>\n",
       "      <td>8</td>\n",
       "      <td>Sehr gut</td>\n",
       "      <td>5</td>\n",
       "      <td>Wecker, Countdown, Stoppuhr als Erweiterung. M...</td>\n",
       "      <td>True</td>\n",
       "    </tr>\n",
       "    <tr>\n",
       "      <th>8</th>\n",
       "      <td>9</td>\n",
       "      <td>None</td>\n",
       "      <td>5</td>\n",
       "      <td>Testversion verspricht viel, soweit funzt alle...</td>\n",
       "      <td>True</td>\n",
       "    </tr>\n",
       "    <tr>\n",
       "      <th>9</th>\n",
       "      <td>10</td>\n",
       "      <td>Bitte um Fehlerbehebung</td>\n",
       "      <td>2</td>\n",
       "      <td>Ich nutze diese APP seid Jahren ,war immer sup...</td>\n",
       "      <td>True</td>\n",
       "    </tr>\n",
       "  </tbody>\n",
       "</table>\n",
       "</div>"
      ],
      "text/plain": [
       "   index                  Heading  Rating  \\\n",
       "0      0                 Widgets?       4   \n",
       "1      1                    Super       5   \n",
       "2      2            Klasse Wecker       4   \n",
       "3      3                     None       5   \n",
       "4      4                Echt cool       5   \n",
       "5      6           Sehr guter app       5   \n",
       "6      7                   Klasse       5   \n",
       "7      8                 Sehr gut       5   \n",
       "8      9                     None       5   \n",
       "9     10  Bitte um Fehlerbehebung       2   \n",
       "\n",
       "                                                Text Positiv  \n",
       "0  App ist hervorragend designt, mir fehlt aber d...    True  \n",
       "1                                              Passt    True  \n",
       "2  Er ist recht einfach zu bedienen, selbst im Ha...    True  \n",
       "3  Echt super.nur zum ausstellen des Weckers muss...    True  \n",
       "4  Das ist der erste wecker den man hört :D also ...    True  \n",
       "5        Welle gelek rind e. Morovan ji xewê radike.   False  \n",
       "6                                             Klasse    True  \n",
       "7  Wecker, Countdown, Stoppuhr als Erweiterung. M...    True  \n",
       "8  Testversion verspricht viel, soweit funzt alle...    True  \n",
       "9  Ich nutze diese APP seid Jahren ,war immer sup...    True  "
      ]
     },
     "execution_count": 109,
     "metadata": {},
     "output_type": "execute_result"
    }
   ],
   "source": [
    "#Einfügen positiv Spalte und Text\n",
    "train_apps = apps[apps.Rating!=3]\n",
    "train_apps.reset_index(inplace=True)\n",
    "train_apps['Positiv'] = (apps.Rating > 3)\n",
    "train_apps[:10]"
   ]
  },
  {
   "cell_type": "code",
   "execution_count": 110,
   "metadata": {
    "collapsed": false
   },
   "outputs": [
    {
     "name": "stderr",
     "output_type": "stream",
     "text": [
      "C:\\Users\\IBM_ADMIN\\Anaconda3\\Ana\\lib\\site-packages\\ipykernel\\__main__.py:4: SettingWithCopyWarning: \n",
      "A value is trying to be set on a copy of a slice from a DataFrame.\n",
      "Try using .loc[row_indexer,col_indexer] = value instead\n",
      "\n",
      "See the caveats in the documentation: http://pandas.pydata.org/pandas-docs/stable/indexing.html#indexing-view-versus-copy\n"
     ]
    },
    {
     "data": {
      "text/html": [
       "<div>\n",
       "<table border=\"1\" class=\"dataframe\">\n",
       "  <thead>\n",
       "    <tr style=\"text-align: right;\">\n",
       "      <th></th>\n",
       "      <th>index</th>\n",
       "      <th>Heading</th>\n",
       "      <th>Rating</th>\n",
       "      <th>Text</th>\n",
       "      <th>Positiv</th>\n",
       "    </tr>\n",
       "  </thead>\n",
       "  <tbody>\n",
       "    <tr>\n",
       "      <th>0</th>\n",
       "      <td>0</td>\n",
       "      <td>Widgets?</td>\n",
       "      <td>4</td>\n",
       "      <td>App ist hervorragend designt, mir fehlt aber d...</td>\n",
       "      <td>True</td>\n",
       "    </tr>\n",
       "    <tr>\n",
       "      <th>1</th>\n",
       "      <td>1</td>\n",
       "      <td>Super</td>\n",
       "      <td>5</td>\n",
       "      <td>Passt</td>\n",
       "      <td>True</td>\n",
       "    </tr>\n",
       "    <tr>\n",
       "      <th>2</th>\n",
       "      <td>2</td>\n",
       "      <td>Klasse Wecker</td>\n",
       "      <td>4</td>\n",
       "      <td>Er ist recht einfach zu bedienen, selbst im Ha...</td>\n",
       "      <td>True</td>\n",
       "    </tr>\n",
       "    <tr>\n",
       "      <th>3</th>\n",
       "      <td>3</td>\n",
       "      <td>None</td>\n",
       "      <td>5</td>\n",
       "      <td>Echt super.nur zum ausstellen des Weckers muss...</td>\n",
       "      <td>True</td>\n",
       "    </tr>\n",
       "    <tr>\n",
       "      <th>4</th>\n",
       "      <td>4</td>\n",
       "      <td>Echt cool</td>\n",
       "      <td>5</td>\n",
       "      <td>Das ist der erste wecker den man hört :D also ...</td>\n",
       "      <td>True</td>\n",
       "    </tr>\n",
       "    <tr>\n",
       "      <th>5</th>\n",
       "      <td>6</td>\n",
       "      <td>Sehr guter app</td>\n",
       "      <td>5</td>\n",
       "      <td>Welle gelek rind e. Morovan ji xewê radike.</td>\n",
       "      <td>False</td>\n",
       "    </tr>\n",
       "    <tr>\n",
       "      <th>6</th>\n",
       "      <td>7</td>\n",
       "      <td>Klasse</td>\n",
       "      <td>5</td>\n",
       "      <td>Klasse</td>\n",
       "      <td>True</td>\n",
       "    </tr>\n",
       "    <tr>\n",
       "      <th>7</th>\n",
       "      <td>8</td>\n",
       "      <td>Sehr gut</td>\n",
       "      <td>5</td>\n",
       "      <td>Wecker, Countdown, Stoppuhr als Erweiterung. M...</td>\n",
       "      <td>True</td>\n",
       "    </tr>\n",
       "    <tr>\n",
       "      <th>8</th>\n",
       "      <td>9</td>\n",
       "      <td>None</td>\n",
       "      <td>5</td>\n",
       "      <td>Testversion verspricht viel, soweit funzt alle...</td>\n",
       "      <td>True</td>\n",
       "    </tr>\n",
       "    <tr>\n",
       "      <th>9</th>\n",
       "      <td>10</td>\n",
       "      <td>Bitte um Fehlerbehebung</td>\n",
       "      <td>2</td>\n",
       "      <td>Ich nutze diese APP seid Jahren ,war immer sup...</td>\n",
       "      <td>True</td>\n",
       "    </tr>\n",
       "  </tbody>\n",
       "</table>\n",
       "</div>"
      ],
      "text/plain": [
       "   index                  Heading  Rating  \\\n",
       "0      0                 Widgets?       4   \n",
       "1      1                    Super       5   \n",
       "2      2            Klasse Wecker       4   \n",
       "3      3                     None       5   \n",
       "4      4                Echt cool       5   \n",
       "5      6           Sehr guter app       5   \n",
       "6      7                   Klasse       5   \n",
       "7      8                 Sehr gut       5   \n",
       "8      9                     None       5   \n",
       "9     10  Bitte um Fehlerbehebung       2   \n",
       "\n",
       "                                                Text Positiv  \n",
       "0  App ist hervorragend designt, mir fehlt aber d...    True  \n",
       "1                                              Passt    True  \n",
       "2  Er ist recht einfach zu bedienen, selbst im Ha...    True  \n",
       "3  Echt super.nur zum ausstellen des Weckers muss...    True  \n",
       "4  Das ist der erste wecker den man hört :D also ...    True  \n",
       "5        Welle gelek rind e. Morovan ji xewê radike.   False  \n",
       "6                                             Klasse    True  \n",
       "7  Wecker, Countdown, Stoppuhr als Erweiterung. M...    True  \n",
       "8  Testversion verspricht viel, soweit funzt alle...    True  \n",
       "9  Ich nutze diese APP seid Jahren ,war immer sup...    True  "
      ]
     },
     "execution_count": 110,
     "metadata": {},
     "output_type": "execute_result"
    }
   ],
   "source": [
    "#Einfügen positiv Spalte und Text\n",
    "test_apps = apps[apps.Rating!=3]\n",
    "test_apps.reset_index(inplace=True)\n",
    "test_apps['Positiv'] = (apps.Rating > 3)\n",
    "test_apps[:10]"
   ]
  },
  {
   "cell_type": "code",
   "execution_count": 111,
   "metadata": {
    "collapsed": false
   },
   "outputs": [
    {
     "data": {
      "text/html": [
       "<div>\n",
       "<table border=\"1\" class=\"dataframe\">\n",
       "  <thead>\n",
       "    <tr style=\"text-align: right;\">\n",
       "      <th></th>\n",
       "      <th>index</th>\n",
       "      <th>description</th>\n",
       "      <th>rating</th>\n",
       "      <th>summary</th>\n",
       "      <th>Text</th>\n",
       "      <th>Positiv</th>\n",
       "    </tr>\n",
       "  </thead>\n",
       "  <tbody>\n",
       "    <tr>\n",
       "      <th>0</th>\n",
       "      <td>11964</td>\n",
       "      <td>Sechs Songs in rund 22 Minuten, davon einer do...</td>\n",
       "      <td>8</td>\n",
       "      <td>FAZIT:  Wenn ich gewusst hätte, das mir   über...</td>\n",
       "      <td>Sechs Songs in rund 22 Minuten, davon einer do...</td>\n",
       "      <td>True</td>\n",
       "    </tr>\n",
       "    <tr>\n",
       "      <th>1</th>\n",
       "      <td>4766</td>\n",
       "      <td>Es ist unbestreitbar, dass  s Stammband UNDERW...</td>\n",
       "      <td>11</td>\n",
       "      <td>FAZIT: Hinsichtlich experimenteller Sounds kan...</td>\n",
       "      <td>Es ist unbestreitbar, dass  s Stammband UNDERW...</td>\n",
       "      <td>False</td>\n",
       "    </tr>\n",
       "    <tr>\n",
       "      <th>2</th>\n",
       "      <td>1663</td>\n",
       "      <td>Russland, das Land der „lupenreinen Demokraten...</td>\n",
       "      <td>14</td>\n",
       "      <td>FAZIT: Wenn Schönheit und musikalische Eleganz...</td>\n",
       "      <td>Russland, das Land der „lupenreinen Demokraten...</td>\n",
       "      <td>True</td>\n",
       "    </tr>\n",
       "    <tr>\n",
       "      <th>3</th>\n",
       "      <td>2954</td>\n",
       "      <td>\" \" ist optisch nicht mehr ganz so pompös wie ...</td>\n",
       "      <td>12</td>\n",
       "      <td>FAZIT: Der metallisch-progressiv-alternative M...</td>\n",
       "      <td>\" \" ist optisch nicht mehr ganz so pompös wie ...</td>\n",
       "      <td>False</td>\n",
       "    </tr>\n",
       "    <tr>\n",
       "      <th>4</th>\n",
       "      <td>5458</td>\n",
       "      <td>Eine traurige Nachricht überschattet die Veröf...</td>\n",
       "      <td>9</td>\n",
       "      <td>FAZIT: Das B-Movie unter den Prog-Metal-Epigon...</td>\n",
       "      <td>Eine traurige Nachricht überschattet die Veröf...</td>\n",
       "      <td>True</td>\n",
       "    </tr>\n",
       "    <tr>\n",
       "      <th>5</th>\n",
       "      <td>8003</td>\n",
       "      <td>In den ersten Sekunden rumpelt 80er-Jahre-Hard...</td>\n",
       "      <td>14</td>\n",
       "      <td>FAZIT: In der Anwartschaft auf den Titel des b...</td>\n",
       "      <td>In den ersten Sekunden rumpelt 80er-Jahre-Hard...</td>\n",
       "      <td>True</td>\n",
       "    </tr>\n",
       "    <tr>\n",
       "      <th>6</th>\n",
       "      <td>1985</td>\n",
       "      <td>Es gibt Leute, für die ist Brian Johnson auch ...</td>\n",
       "      <td>13</td>\n",
       "      <td>FAZIT: Die Hardrock-Scheibe des Jahres? Bis je...</td>\n",
       "      <td>Es gibt Leute, für die ist Brian Johnson auch ...</td>\n",
       "      <td>True</td>\n",
       "    </tr>\n",
       "    <tr>\n",
       "      <th>7</th>\n",
       "      <td>1219</td>\n",
       "      <td>Karisma, norwegische Band, was sonst? Neu ist,...</td>\n",
       "      <td>13</td>\n",
       "      <td>FAZIT: Hört jetzt rein und wisst später über d...</td>\n",
       "      <td>Karisma, norwegische Band, was sonst? Neu ist,...</td>\n",
       "      <td>True</td>\n",
       "    </tr>\n",
       "    <tr>\n",
       "      <th>8</th>\n",
       "      <td>4901</td>\n",
       "      <td>2012 warteten SUSPYRE aus New Jersey in Eigeni...</td>\n",
       "      <td>11</td>\n",
       "      <td>FAZIT: Für SUSPYRE gilt aktuell, ihre Bemühung...</td>\n",
       "      <td>2012 warteten SUSPYRE aus New Jersey in Eigeni...</td>\n",
       "      <td>True</td>\n",
       "    </tr>\n",
       "    <tr>\n",
       "      <th>9</th>\n",
       "      <td>7965</td>\n",
       "      <td>Das letzte Album von   erschien vor über zehn ...</td>\n",
       "      <td>12</td>\n",
       "      <td>FAZIT: Elf Punkte gibt es für die Musik, einen...</td>\n",
       "      <td>Das letzte Album von   erschien vor über zehn ...</td>\n",
       "      <td>True</td>\n",
       "    </tr>\n",
       "  </tbody>\n",
       "</table>\n",
       "</div>"
      ],
      "text/plain": [
       "   index                                        description rating  \\\n",
       "0  11964  Sechs Songs in rund 22 Minuten, davon einer do...      8   \n",
       "1   4766  Es ist unbestreitbar, dass  s Stammband UNDERW...     11   \n",
       "2   1663  Russland, das Land der „lupenreinen Demokraten...     14   \n",
       "3   2954  \" \" ist optisch nicht mehr ganz so pompös wie ...     12   \n",
       "4   5458  Eine traurige Nachricht überschattet die Veröf...      9   \n",
       "5   8003  In den ersten Sekunden rumpelt 80er-Jahre-Hard...     14   \n",
       "6   1985  Es gibt Leute, für die ist Brian Johnson auch ...     13   \n",
       "7   1219  Karisma, norwegische Band, was sonst? Neu ist,...     13   \n",
       "8   4901  2012 warteten SUSPYRE aus New Jersey in Eigeni...     11   \n",
       "9   7965  Das letzte Album von   erschien vor über zehn ...     12   \n",
       "\n",
       "                                             summary  \\\n",
       "0  FAZIT:  Wenn ich gewusst hätte, das mir   über...   \n",
       "1  FAZIT: Hinsichtlich experimenteller Sounds kan...   \n",
       "2  FAZIT: Wenn Schönheit und musikalische Eleganz...   \n",
       "3  FAZIT: Der metallisch-progressiv-alternative M...   \n",
       "4  FAZIT: Das B-Movie unter den Prog-Metal-Epigon...   \n",
       "5  FAZIT: In der Anwartschaft auf den Titel des b...   \n",
       "6  FAZIT: Die Hardrock-Scheibe des Jahres? Bis je...   \n",
       "7  FAZIT: Hört jetzt rein und wisst später über d...   \n",
       "8  FAZIT: Für SUSPYRE gilt aktuell, ihre Bemühung...   \n",
       "9  FAZIT: Elf Punkte gibt es für die Musik, einen...   \n",
       "\n",
       "                                                Text Positiv  \n",
       "0  Sechs Songs in rund 22 Minuten, davon einer do...    True  \n",
       "1  Es ist unbestreitbar, dass  s Stammband UNDERW...   False  \n",
       "2  Russland, das Land der „lupenreinen Demokraten...    True  \n",
       "3  \" \" ist optisch nicht mehr ganz so pompös wie ...   False  \n",
       "4  Eine traurige Nachricht überschattet die Veröf...    True  \n",
       "5  In den ersten Sekunden rumpelt 80er-Jahre-Hard...    True  \n",
       "6  Es gibt Leute, für die ist Brian Johnson auch ...    True  \n",
       "7  Karisma, norwegische Band, was sonst? Neu ist,...    True  \n",
       "8  2012 warteten SUSPYRE aus New Jersey in Eigeni...    True  \n",
       "9  Das letzte Album von   erschien vor über zehn ...    True  "
      ]
     },
     "execution_count": 111,
     "metadata": {},
     "output_type": "execute_result"
    }
   ],
   "source": [
    "#Einfügen positiv Spalte und Text\n",
    "#music_positiv = music[music.rating.isin(['8', '9', '10', '11', '12', '13', '14', '15'])]\n",
    "#music_negativ = music[music.rating.isin(['1', '2', '3', '4', '5', '6', '7'])]\n",
    "train_music['Text'] = (music.description + music.summary)\n",
    "train_music.reset_index(inplace=True)\n",
    "train_music['Positiv'] = (music.rating.isin(['8', '9', '10', '11', '12', '13', '14', '15']))\n",
    "train_music[:10]"
   ]
  },
  {
   "cell_type": "code",
   "execution_count": 112,
   "metadata": {
    "collapsed": false
   },
   "outputs": [
    {
     "data": {
      "text/html": [
       "<div>\n",
       "<table border=\"1\" class=\"dataframe\">\n",
       "  <thead>\n",
       "    <tr style=\"text-align: right;\">\n",
       "      <th></th>\n",
       "      <th>index</th>\n",
       "      <th>description</th>\n",
       "      <th>rating</th>\n",
       "      <th>summary</th>\n",
       "      <th>Text</th>\n",
       "      <th>Positiv</th>\n",
       "    </tr>\n",
       "  </thead>\n",
       "  <tbody>\n",
       "    <tr>\n",
       "      <th>0</th>\n",
       "      <td>1</td>\n",
       "      <td>Der Sticker auf dieser   offeriert uns sofort,...</td>\n",
       "      <td>-</td>\n",
       "      <td>FAZIT: Der holländische Hardcore-Fünfer SUPERH...</td>\n",
       "      <td>Der Sticker auf dieser   offeriert uns sofort,...</td>\n",
       "      <td>True</td>\n",
       "    </tr>\n",
       "    <tr>\n",
       "      <th>1</th>\n",
       "      <td>3</td>\n",
       "      <td>Ein abschreckender Titel! Abschreckend für all...</td>\n",
       "      <td>-</td>\n",
       "      <td>FAZIT: Das Doppelalbum „Ballett 1 &amp; 2“ von   e...</td>\n",
       "      <td>Ein abschreckender Titel! Abschreckend für all...</td>\n",
       "      <td>False</td>\n",
       "    </tr>\n",
       "    <tr>\n",
       "      <th>2</th>\n",
       "      <td>4</td>\n",
       "      <td>„Der Instrumental-König entfesselt einen Monsu...</td>\n",
       "      <td>12</td>\n",
       "      <td>FAZIT: So sollte klassischer instrumentaler Pr...</td>\n",
       "      <td>„Der Instrumental-König entfesselt einen Monsu...</td>\n",
       "      <td>True</td>\n",
       "    </tr>\n",
       "    <tr>\n",
       "      <th>3</th>\n",
       "      <td>8</td>\n",
       "      <td>Drei Jahre Zeit steckten   in dieses erste Alb...</td>\n",
       "      <td>11</td>\n",
       "      <td>FAZIT: Überdurchschnittlich gute Platte im zei...</td>\n",
       "      <td>Drei Jahre Zeit steckten   in dieses erste Alb...</td>\n",
       "      <td>False</td>\n",
       "    </tr>\n",
       "    <tr>\n",
       "      <th>4</th>\n",
       "      <td>9</td>\n",
       "      <td>Als Garant für Roots Rock von hoher Güte gilt ...</td>\n",
       "      <td>10</td>\n",
       "      <td>FAZIT:  s aktuelles Album ist ein durchweg tra...</td>\n",
       "      <td>Als Garant für Roots Rock von hoher Güte gilt ...</td>\n",
       "      <td>True</td>\n",
       "    </tr>\n",
       "    <tr>\n",
       "      <th>5</th>\n",
       "      <td>14</td>\n",
       "      <td>Was   vom Einerlei der Folkrock und -Metal-Sch...</td>\n",
       "      <td>8</td>\n",
       "      <td>FAZIT:    nehmen ihre Musik ernster als sich s...</td>\n",
       "      <td>Was   vom Einerlei der Folkrock und -Metal-Sch...</td>\n",
       "      <td>True</td>\n",
       "    </tr>\n",
       "    <tr>\n",
       "      <th>6</th>\n",
       "      <td>18</td>\n",
       "      <td>PROJECT ARMAGEDDON aus dem texanischen Houston...</td>\n",
       "      <td>-</td>\n",
       "      <td>FAZIT: Traditioneller Doom Metal mit nicht bew...</td>\n",
       "      <td>PROJECT ARMAGEDDON aus dem texanischen Houston...</td>\n",
       "      <td>True</td>\n",
       "    </tr>\n",
       "    <tr>\n",
       "      <th>7</th>\n",
       "      <td>22</td>\n",
       "      <td>Mit ihrer näselnden Stimme und aufgrund der Ar...</td>\n",
       "      <td>7</td>\n",
       "      <td>FAZIT: Aus der irischen Provinz und dennoch ve...</td>\n",
       "      <td>Mit ihrer näselnden Stimme und aufgrund der Ar...</td>\n",
       "      <td>True</td>\n",
       "    </tr>\n",
       "    <tr>\n",
       "      <th>8</th>\n",
       "      <td>25</td>\n",
       "      <td>Konzertdarbietungen fing   bislang stets im in...</td>\n",
       "      <td>-</td>\n",
       "      <td>FAZIT: Mit \" \" bringt   - 62 Jahre jung - nich...</td>\n",
       "      <td>Konzertdarbietungen fing   bislang stets im in...</td>\n",
       "      <td>True</td>\n",
       "    </tr>\n",
       "    <tr>\n",
       "      <th>9</th>\n",
       "      <td>26</td>\n",
       "      <td>Nach der beeindruckenden Entwicklung zum Garan...</td>\n",
       "      <td>-</td>\n",
       "      <td>FAZIT: Ehrlich, in dieser Form sind   unschlag...</td>\n",
       "      <td>Nach der beeindruckenden Entwicklung zum Garan...</td>\n",
       "      <td>True</td>\n",
       "    </tr>\n",
       "  </tbody>\n",
       "</table>\n",
       "</div>"
      ],
      "text/plain": [
       "   index                                        description rating  \\\n",
       "0      1  Der Sticker auf dieser   offeriert uns sofort,...      -   \n",
       "1      3  Ein abschreckender Titel! Abschreckend für all...      -   \n",
       "2      4  „Der Instrumental-König entfesselt einen Monsu...     12   \n",
       "3      8  Drei Jahre Zeit steckten   in dieses erste Alb...     11   \n",
       "4      9  Als Garant für Roots Rock von hoher Güte gilt ...     10   \n",
       "5     14  Was   vom Einerlei der Folkrock und -Metal-Sch...      8   \n",
       "6     18  PROJECT ARMAGEDDON aus dem texanischen Houston...      -   \n",
       "7     22  Mit ihrer näselnden Stimme und aufgrund der Ar...      7   \n",
       "8     25  Konzertdarbietungen fing   bislang stets im in...      -   \n",
       "9     26  Nach der beeindruckenden Entwicklung zum Garan...      -   \n",
       "\n",
       "                                             summary  \\\n",
       "0  FAZIT: Der holländische Hardcore-Fünfer SUPERH...   \n",
       "1  FAZIT: Das Doppelalbum „Ballett 1 & 2“ von   e...   \n",
       "2  FAZIT: So sollte klassischer instrumentaler Pr...   \n",
       "3  FAZIT: Überdurchschnittlich gute Platte im zei...   \n",
       "4  FAZIT:  s aktuelles Album ist ein durchweg tra...   \n",
       "5  FAZIT:    nehmen ihre Musik ernster als sich s...   \n",
       "6  FAZIT: Traditioneller Doom Metal mit nicht bew...   \n",
       "7  FAZIT: Aus der irischen Provinz und dennoch ve...   \n",
       "8  FAZIT: Mit \" \" bringt   - 62 Jahre jung - nich...   \n",
       "9  FAZIT: Ehrlich, in dieser Form sind   unschlag...   \n",
       "\n",
       "                                                Text Positiv  \n",
       "0  Der Sticker auf dieser   offeriert uns sofort,...    True  \n",
       "1  Ein abschreckender Titel! Abschreckend für all...   False  \n",
       "2  „Der Instrumental-König entfesselt einen Monsu...    True  \n",
       "3  Drei Jahre Zeit steckten   in dieses erste Alb...   False  \n",
       "4  Als Garant für Roots Rock von hoher Güte gilt ...    True  \n",
       "5  Was   vom Einerlei der Folkrock und -Metal-Sch...    True  \n",
       "6  PROJECT ARMAGEDDON aus dem texanischen Houston...    True  \n",
       "7  Mit ihrer näselnden Stimme und aufgrund der Ar...    True  \n",
       "8  Konzertdarbietungen fing   bislang stets im in...    True  \n",
       "9  Nach der beeindruckenden Entwicklung zum Garan...    True  "
      ]
     },
     "execution_count": 112,
     "metadata": {},
     "output_type": "execute_result"
    }
   ],
   "source": [
    "test_music['Text'] = (music.description + music.summary)\n",
    "test_music.reset_index(inplace=True)\n",
    "test_music['Positiv'] = (music.rating.isin(['8', '9', '10', '11', '12', '13', '14', '15']))\n",
    "test_music[:10]"
   ]
  },
  {
   "cell_type": "markdown",
   "metadata": {
    "collapsed": true
   },
   "source": [
    "# GAMES\n",
    "Vectorizing"
   ]
  },
  {
   "cell_type": "code",
   "execution_count": 113,
   "metadata": {
    "collapsed": false
   },
   "outputs": [
    {
     "data": {
      "text/plain": [
       "0.75987306064880111"
      ]
     },
     "execution_count": 113,
     "metadata": {},
     "output_type": "execute_result"
    }
   ],
   "source": [
    "#Vectorizer Games\n",
    "vectorizer = CountVectorizer(min_df=10, max_df=200, token_pattern='\\w+')\n",
    "vectorizer.fit(train_games.Text)\n",
    "\n",
    "X = vectorizer.transform(train_games.Text)\n",
    "y = train_games.Positiv\n",
    "clf = MultinomialNB().fit(X, y)\n",
    "actuals = test_games.Positiv\n",
    "predicted = clf.predict(vectorizer.transform(test_games.Text))\n",
    "accuracy_score(actuals, predicted)"
   ]
  },
  {
   "cell_type": "markdown",
   "metadata": {},
   "source": [
    "GAMES: Minimal Werte geändert"
   ]
  },
  {
   "cell_type": "code",
   "execution_count": 119,
   "metadata": {
    "collapsed": false
   },
   "outputs": [
    {
     "data": {
      "text/plain": [
       "CountVectorizer(analyzer='word', binary=False, decode_error='strict',\n",
       "        dtype=<class 'numpy.int64'>, encoding='utf-8', input='content',\n",
       "        lowercase=True, max_df=200, max_features=None, min_df=25,\n",
       "        ngram_range=(1, 1), preprocessor=None, stop_words=None,\n",
       "        strip_accents=None, token_pattern='\\\\w+', tokenizer=None,\n",
       "        vocabulary=None)"
      ]
     },
     "execution_count": 119,
     "metadata": {},
     "output_type": "execute_result"
    }
   ],
   "source": [
    "vectorizer = CountVectorizer(min_df=25, max_df=200, token_pattern='\\w+')\n",
    "vectorizer.fit(train_games.Text)"
   ]
  },
  {
   "cell_type": "code",
   "execution_count": 120,
   "metadata": {
    "collapsed": false
   },
   "outputs": [
    {
     "data": {
      "text/plain": [
       "0.7455923836389281"
      ]
     },
     "execution_count": 120,
     "metadata": {},
     "output_type": "execute_result"
    }
   ],
   "source": [
    "X = vectorizer.transform(train_games.Text)\n",
    "y = train_games.Positiv\n",
    "clf = MultinomialNB().fit(X, y)\n",
    "actuals = test_games.Positiv\n",
    "predicted = clf.predict(vectorizer.transform(test_games.Text))\n",
    "accuracy_score(actuals, predicted)"
   ]
  },
  {
   "cell_type": "code",
   "execution_count": 121,
   "metadata": {
    "collapsed": false
   },
   "outputs": [
    {
     "data": {
      "text/plain": [
       "CountVectorizer(analyzer='word', binary=False, decode_error='strict',\n",
       "        dtype=<class 'numpy.int64'>, encoding='utf-8', input='content',\n",
       "        lowercase=True, max_df=200, max_features=None, min_df=50,\n",
       "        ngram_range=(1, 1), preprocessor=None, stop_words=None,\n",
       "        strip_accents=None, token_pattern='\\\\w+', tokenizer=None,\n",
       "        vocabulary=None)"
      ]
     },
     "execution_count": 121,
     "metadata": {},
     "output_type": "execute_result"
    }
   ],
   "source": [
    "vectorizer = CountVectorizer(min_df=50, max_df=200, token_pattern='\\w+')\n",
    "vectorizer.fit(train_games.Text)"
   ]
  },
  {
   "cell_type": "code",
   "execution_count": 122,
   "metadata": {
    "collapsed": false
   },
   "outputs": [
    {
     "data": {
      "text/plain": [
       "0.72320169252468269"
      ]
     },
     "execution_count": 122,
     "metadata": {},
     "output_type": "execute_result"
    }
   ],
   "source": [
    "X = vectorizer.transform(train_games.Text)\n",
    "y = train_games.Positiv\n",
    "clf = MultinomialNB().fit(X, y)\n",
    "actuals = test_games.Positiv\n",
    "predicted = clf.predict(vectorizer.transform(test_games.Text))\n",
    "accuracy_score(actuals, predicted)"
   ]
  },
  {
   "cell_type": "code",
   "execution_count": 123,
   "metadata": {
    "collapsed": false
   },
   "outputs": [
    {
     "data": {
      "text/plain": [
       "CountVectorizer(analyzer='word', binary=False, decode_error='strict',\n",
       "        dtype=<class 'numpy.int64'>, encoding='utf-8', input='content',\n",
       "        lowercase=True, max_df=200, max_features=None, min_df=100,\n",
       "        ngram_range=(1, 1), preprocessor=None, stop_words=None,\n",
       "        strip_accents=None, token_pattern='\\\\w+', tokenizer=None,\n",
       "        vocabulary=None)"
      ]
     },
     "execution_count": 123,
     "metadata": {},
     "output_type": "execute_result"
    }
   ],
   "source": [
    "vectorizer = CountVectorizer(min_df=100, max_df=200, token_pattern='\\w+')\n",
    "vectorizer.fit(train_games.Text)"
   ]
  },
  {
   "cell_type": "code",
   "execution_count": 124,
   "metadata": {
    "collapsed": false
   },
   "outputs": [
    {
     "data": {
      "text/plain": [
       "0.69146685472496472"
      ]
     },
     "execution_count": 124,
     "metadata": {},
     "output_type": "execute_result"
    }
   ],
   "source": [
    "X = vectorizer.transform(train_games.Text)\n",
    "y = train_games.Positiv\n",
    "clf = MultinomialNB().fit(X, y)\n",
    "actuals = test_games.Positiv\n",
    "predicted = clf.predict(vectorizer.transform(test_games.Text))\n",
    "accuracy_score(actuals, predicted)"
   ]
  },
  {
   "cell_type": "markdown",
   "metadata": {},
   "source": [
    "GAMES: Maximal Werte geändert"
   ]
  },
  {
   "cell_type": "code",
   "execution_count": 125,
   "metadata": {
    "collapsed": false
   },
   "outputs": [
    {
     "data": {
      "text/plain": [
       "0.73219322990126945"
      ]
     },
     "execution_count": 125,
     "metadata": {},
     "output_type": "execute_result"
    }
   ],
   "source": [
    "vectorizer = CountVectorizer(min_df=10, max_df=100, token_pattern='\\w+')\n",
    "vectorizer.fit(train_games.Text)\n",
    "\n",
    "X = vectorizer.transform(train_games.Text)\n",
    "y = train_games.Positiv\n",
    "clf = MultinomialNB().fit(X, y)\n",
    "actuals = test_games.Positiv\n",
    "predicted = clf.predict(vectorizer.transform(test_games.Text))\n",
    "accuracy_score(actuals, predicted)"
   ]
  },
  {
   "cell_type": "code",
   "execution_count": 135,
   "metadata": {
    "collapsed": false
   },
   "outputs": [
    {
     "data": {
      "text/plain": [
       "0.77362482369534558"
      ]
     },
     "execution_count": 135,
     "metadata": {},
     "output_type": "execute_result"
    }
   ],
   "source": [
    "vectorizer = CountVectorizer(min_df=10, max_df=300, token_pattern='\\w+')\n",
    "vectorizer.fit(train_games.Text)\n",
    "\n",
    "X = vectorizer.transform(train_games.Text)\n",
    "y = train_games.Positiv\n",
    "clf = MultinomialNB().fit(X, y)\n",
    "actuals = test_games.Positiv\n",
    "predicted = clf.predict(vectorizer.transform(test_games.Text))\n",
    "accuracy_score(actuals, predicted)"
   ]
  },
  {
   "cell_type": "code",
   "execution_count": 136,
   "metadata": {
    "collapsed": false
   },
   "outputs": [
    {
     "data": {
      "text/plain": [
       "0.78385049365303239"
      ]
     },
     "execution_count": 136,
     "metadata": {},
     "output_type": "execute_result"
    }
   ],
   "source": [
    "vectorizer = CountVectorizer(min_df=10, max_df=400, token_pattern='\\w+')\n",
    "vectorizer.fit(train_games.Text)\n",
    "\n",
    "X = vectorizer.transform(train_games.Text)\n",
    "y = train_games.Positiv\n",
    "clf = MultinomialNB().fit(X, y)\n",
    "actuals = test_games.Positiv\n",
    "predicted = clf.predict(vectorizer.transform(test_games.Text))\n",
    "accuracy_score(actuals, predicted)"
   ]
  },
  {
   "cell_type": "markdown",
   "metadata": {},
   "source": [
    "GAMES: Zwei Varianten Min- und Max-Anzahl"
   ]
  },
  {
   "cell_type": "code",
   "execution_count": 128,
   "metadata": {
    "collapsed": false
   },
   "outputs": [
    {
     "data": {
      "text/plain": [
       "0.58921015514809594"
      ]
     },
     "execution_count": 128,
     "metadata": {},
     "output_type": "execute_result"
    }
   ],
   "source": [
    "vectorizer = CountVectorizer(min_df=25, max_df=25, token_pattern='\\w+')\n",
    "vectorizer.fit(train_games.Text)\n",
    "\n",
    "X = vectorizer.transform(train_games.Text)\n",
    "y = train_games.Positiv\n",
    "clf = MultinomialNB().fit(X, y)\n",
    "actuals = test_games.Positiv\n",
    "predicted = clf.predict(vectorizer.transform(test_games.Text))\n",
    "accuracy_score(actuals, predicted)"
   ]
  },
  {
   "cell_type": "code",
   "execution_count": 129,
   "metadata": {
    "collapsed": false
   },
   "outputs": [
    {
     "data": {
      "text/plain": [
       "0.7625176304654443"
      ]
     },
     "execution_count": 129,
     "metadata": {},
     "output_type": "execute_result"
    }
   ],
   "source": [
    "vectorizer = CountVectorizer(min_df=25, max_df=300, token_pattern='\\w+')\n",
    "vectorizer.fit(train_games.Text)\n",
    "\n",
    "X = vectorizer.transform(train_games.Text)\n",
    "y = train_games.Positiv\n",
    "clf = MultinomialNB().fit(X, y)\n",
    "actuals = test_games.Positiv\n",
    "predicted = clf.predict(vectorizer.transform(test_games.Text))\n",
    "accuracy_score(actuals, predicted)"
   ]
  },
  {
   "cell_type": "markdown",
   "metadata": {},
   "source": [
    "GAMES: Nur Adjektive"
   ]
  },
  {
   "cell_type": "code",
   "execution_count": null,
   "metadata": {
    "collapsed": true
   },
   "outputs": [],
   "source": []
  },
  {
   "cell_type": "markdown",
   "metadata": {},
   "source": [
    "GAMES: Nur Adjektive, Adverbien, Nomen und Verben"
   ]
  },
  {
   "cell_type": "code",
   "execution_count": null,
   "metadata": {
    "collapsed": true
   },
   "outputs": [],
   "source": []
  },
  {
   "cell_type": "markdown",
   "metadata": {},
   "source": [
    "GAMES: Negation"
   ]
  },
  {
   "cell_type": "code",
   "execution_count": null,
   "metadata": {
    "collapsed": true
   },
   "outputs": [],
   "source": []
  },
  {
   "cell_type": "markdown",
   "metadata": {},
   "source": [
    "# Apps"
   ]
  },
  {
   "cell_type": "markdown",
   "metadata": {},
   "source": [
    "Vectorizing"
   ]
  },
  {
   "cell_type": "markdown",
   "metadata": {},
   "source": [
    "APPS: Minimalwerte geändert"
   ]
  },
  {
   "cell_type": "code",
   "execution_count": 131,
   "metadata": {
    "collapsed": false
   },
   "outputs": [
    {
     "data": {
      "text/plain": [
       "0.79519799319118434"
      ]
     },
     "execution_count": 131,
     "metadata": {},
     "output_type": "execute_result"
    }
   ],
   "source": [
    "vectorizer = CountVectorizer(min_df=105, max_df=200, token_pattern='\\w+')\n",
    "vectorizer.fit(train_apps.Text)\n",
    "\n",
    "X = vectorizer.transform(train_apps.Text)\n",
    "y = train_apps.Positiv\n",
    "clf = MultinomialNB().fit(X, y)\n",
    "actuals = test_apps.Positiv\n",
    "predicted = clf.predict(vectorizer.transform(test_apps.Text))\n",
    "accuracy_score(actuals, predicted)"
   ]
  },
  {
   "cell_type": "code",
   "execution_count": 137,
   "metadata": {
    "collapsed": false
   },
   "outputs": [
    {
     "data": {
      "text/plain": [
       "0.79639252224810364"
      ]
     },
     "execution_count": 137,
     "metadata": {},
     "output_type": "execute_result"
    }
   ],
   "source": [
    "vectorizer = CountVectorizer(min_df=25, max_df=200, token_pattern='\\w+')\n",
    "vectorizer.fit(train_apps.Text)\n",
    "\n",
    "X = vectorizer.transform(train_apps.Text)\n",
    "y = train_apps.Positiv\n",
    "clf = MultinomialNB().fit(X, y)\n",
    "actuals = test_apps.Positiv\n",
    "predicted = clf.predict(vectorizer.transform(test_apps.Text))\n",
    "accuracy_score(actuals, predicted)"
   ]
  },
  {
   "cell_type": "code",
   "execution_count": 132,
   "metadata": {
    "collapsed": false
   },
   "outputs": [
    {
     "data": {
      "text/plain": [
       "0.7954368990025682"
      ]
     },
     "execution_count": 132,
     "metadata": {},
     "output_type": "execute_result"
    }
   ],
   "source": [
    "vectorizer = CountVectorizer(min_df=50, max_df=200, token_pattern='\\w+')\n",
    "vectorizer.fit(train_apps.Text)\n",
    "\n",
    "X = vectorizer.transform(train_apps.Text)\n",
    "y = train_apps.Positiv\n",
    "clf = MultinomialNB().fit(X, y)\n",
    "actuals = test_apps.Positiv\n",
    "predicted = clf.predict(vectorizer.transform(test_apps.Text))\n",
    "accuracy_score(actuals, predicted)"
   ]
  },
  {
   "cell_type": "code",
   "execution_count": 133,
   "metadata": {
    "collapsed": false
   },
   "outputs": [
    {
     "data": {
      "text/plain": [
       "0.79513826673833843"
      ]
     },
     "execution_count": 133,
     "metadata": {},
     "output_type": "execute_result"
    }
   ],
   "source": [
    "vectorizer = CountVectorizer(min_df=100, max_df=200, token_pattern='\\w+')\n",
    "vectorizer.fit(train_apps.Text)\n",
    "\n",
    "X = vectorizer.transform(train_apps.Text)\n",
    "y = train_apps.Positiv\n",
    "clf = MultinomialNB().fit(X, y)\n",
    "actuals = test_apps.Positiv\n",
    "predicted = clf.predict(vectorizer.transform(test_apps.Text))\n",
    "accuracy_score(actuals, predicted)"
   ]
  },
  {
   "cell_type": "markdown",
   "metadata": {},
   "source": [
    "APPS: Maximal Werte geändert"
   ]
  },
  {
   "cell_type": "code",
   "execution_count": 134,
   "metadata": {
    "collapsed": false
   },
   "outputs": [
    {
     "data": {
      "text/plain": [
       "0.80081227975870517"
      ]
     },
     "execution_count": 134,
     "metadata": {},
     "output_type": "execute_result"
    }
   ],
   "source": [
    "vectorizer = CountVectorizer(min_df=10, max_df=100, token_pattern='\\w+')\n",
    "vectorizer.fit(train_apps.Text)\n",
    "\n",
    "X = vectorizer.transform(train_apps.Text)\n",
    "y = train_apps.Positiv\n",
    "clf = MultinomialNB().fit(X, y)\n",
    "actuals = test_apps.Positiv\n",
    "predicted = clf.predict(vectorizer.transform(test_apps.Text))\n",
    "accuracy_score(actuals, predicted)"
   ]
  },
  {
   "cell_type": "code",
   "execution_count": 138,
   "metadata": {
    "collapsed": false
   },
   "outputs": [
    {
     "data": {
      "text/plain": [
       "0.80105118557008903"
      ]
     },
     "execution_count": 138,
     "metadata": {},
     "output_type": "execute_result"
    }
   ],
   "source": [
    "vectorizer = CountVectorizer(min_df=10, max_df=300, token_pattern='\\w+')\n",
    "vectorizer.fit(train_apps.Text)\n",
    "\n",
    "X = vectorizer.transform(train_apps.Text)\n",
    "y = train_apps.Positiv\n",
    "clf = MultinomialNB().fit(X, y)\n",
    "actuals = test_apps.Positiv\n",
    "predicted = clf.predict(vectorizer.transform(test_apps.Text))\n",
    "accuracy_score(actuals, predicted)"
   ]
  },
  {
   "cell_type": "code",
   "execution_count": 139,
   "metadata": {
    "collapsed": false
   },
   "outputs": [
    {
     "data": {
      "text/plain": [
       "0.80039419458878336"
      ]
     },
     "execution_count": 139,
     "metadata": {},
     "output_type": "execute_result"
    }
   ],
   "source": [
    "vectorizer = CountVectorizer(min_df=10, max_df=400, token_pattern='\\w+')\n",
    "vectorizer.fit(train_apps.Text)\n",
    "\n",
    "X = vectorizer.transform(train_apps.Text)\n",
    "y = train_apps.Positiv\n",
    "clf = MultinomialNB().fit(X, y)\n",
    "actuals = test_apps.Positiv\n",
    "predicted = clf.predict(vectorizer.transform(test_apps.Text))\n",
    "accuracy_score(actuals, predicted)"
   ]
  },
  {
   "cell_type": "markdown",
   "metadata": {},
   "source": [
    "APPS: Zwei Varianten Min- und Max-Anzahl"
   ]
  },
  {
   "cell_type": "code",
   "execution_count": 140,
   "metadata": {
    "collapsed": false
   },
   "outputs": [
    {
     "data": {
      "text/plain": [
       "0.79513826673833843"
      ]
     },
     "execution_count": 140,
     "metadata": {},
     "output_type": "execute_result"
    }
   ],
   "source": [
    "vectorizer = CountVectorizer(min_df=25, max_df=25, token_pattern='\\w+')\n",
    "vectorizer.fit(train_apps.Text)\n",
    "\n",
    "X = vectorizer.transform(train_apps.Text)\n",
    "y = train_apps.Positiv\n",
    "clf = MultinomialNB().fit(X, y)\n",
    "actuals = test_apps.Positiv\n",
    "predicted = clf.predict(vectorizer.transform(test_apps.Text))\n",
    "accuracy_score(actuals, predicted)"
   ]
  },
  {
   "cell_type": "code",
   "execution_count": 141,
   "metadata": {
    "collapsed": false
   },
   "outputs": [
    {
     "data": {
      "text/plain": [
       "0.79591471062533592"
      ]
     },
     "execution_count": 141,
     "metadata": {},
     "output_type": "execute_result"
    }
   ],
   "source": [
    "vectorizer = CountVectorizer(min_df=25, max_df=300, token_pattern='\\w+')\n",
    "vectorizer.fit(train_apps.Text)\n",
    "\n",
    "X = vectorizer.transform(train_apps.Text)\n",
    "y = train_apps.Positiv\n",
    "clf = MultinomialNB().fit(X, y)\n",
    "actuals = test_apps.Positiv\n",
    "predicted = clf.predict(vectorizer.transform(test_apps.Text))\n",
    "accuracy_score(actuals, predicted)"
   ]
  },
  {
   "cell_type": "markdown",
   "metadata": {},
   "source": [
    "APPS: Nur Adjektive"
   ]
  },
  {
   "cell_type": "code",
   "execution_count": null,
   "metadata": {
    "collapsed": true
   },
   "outputs": [],
   "source": []
  },
  {
   "cell_type": "markdown",
   "metadata": {},
   "source": [
    "APPS: Nur Adjektive, Adverbien, Nomen und Verben"
   ]
  },
  {
   "cell_type": "code",
   "execution_count": null,
   "metadata": {
    "collapsed": true
   },
   "outputs": [],
   "source": []
  },
  {
   "cell_type": "markdown",
   "metadata": {},
   "source": [
    "APPS: Negation"
   ]
  },
  {
   "cell_type": "code",
   "execution_count": null,
   "metadata": {
    "collapsed": true
   },
   "outputs": [],
   "source": []
  },
  {
   "cell_type": "markdown",
   "metadata": {},
   "source": [
    "# Music\n",
    "Vaectorizing"
   ]
  },
  {
   "cell_type": "code",
   "execution_count": 142,
   "metadata": {
    "collapsed": false
   },
   "outputs": [
    {
     "data": {
      "text/plain": [
       "0.64709705372616988"
      ]
     },
     "execution_count": 142,
     "metadata": {},
     "output_type": "execute_result"
    }
   ],
   "source": [
    "vectorizer = CountVectorizer(min_df=10, max_df=200, token_pattern='\\w+')\n",
    "vectorizer.fit(train_music.Text)\n",
    "\n",
    "X = vectorizer.transform(train_music.Text)\n",
    "y = train_music.Positiv\n",
    "clf = MultinomialNB().fit(X, y)\n",
    "actuals = test_music.Positiv\n",
    "predicted = clf.predict(vectorizer.transform(test_music.Text))\n",
    "accuracy_score(actuals, predicted)"
   ]
  },
  {
   "cell_type": "markdown",
   "metadata": {},
   "source": [
    "MUSIC: Minimal Werte geändert"
   ]
  },
  {
   "cell_type": "code",
   "execution_count": 143,
   "metadata": {
    "collapsed": false
   },
   "outputs": [
    {
     "data": {
      "text/plain": [
       "0.62651646447140386"
      ]
     },
     "execution_count": 143,
     "metadata": {},
     "output_type": "execute_result"
    }
   ],
   "source": [
    "vectorizer = CountVectorizer(min_df=25, max_df=200, token_pattern='\\w+')\n",
    "vectorizer.fit(train_music.Text)\n",
    "\n",
    "X = vectorizer.transform(train_music.Text)\n",
    "y = train_music.Positiv\n",
    "clf = MultinomialNB().fit(X, y)\n",
    "actuals = test_music.Positiv\n",
    "predicted = clf.predict(vectorizer.transform(test_music.Text))\n",
    "accuracy_score(actuals, predicted)"
   ]
  },
  {
   "cell_type": "code",
   "execution_count": 144,
   "metadata": {
    "collapsed": false
   },
   "outputs": [
    {
     "data": {
      "text/plain": [
       "0.64059792027729634"
      ]
     },
     "execution_count": 144,
     "metadata": {},
     "output_type": "execute_result"
    }
   ],
   "source": [
    "vectorizer = CountVectorizer(min_df=50, max_df=200, token_pattern='\\w+')\n",
    "vectorizer.fit(train_music.Text)\n",
    "\n",
    "X = vectorizer.transform(train_music.Text)\n",
    "y = train_music.Positiv\n",
    "clf = MultinomialNB().fit(X, y)\n",
    "actuals = test_music.Positiv\n",
    "predicted = clf.predict(vectorizer.transform(test_music.Text))\n",
    "accuracy_score(actuals, predicted)"
   ]
  },
  {
   "cell_type": "code",
   "execution_count": 145,
   "metadata": {
    "collapsed": false
   },
   "outputs": [
    {
     "data": {
      "text/plain": [
       "0.67222703639514736"
      ]
     },
     "execution_count": 145,
     "metadata": {},
     "output_type": "execute_result"
    }
   ],
   "source": [
    "vectorizer = CountVectorizer(min_df=100, max_df=200, token_pattern='\\w+')\n",
    "vectorizer.fit(train_music.Text)\n",
    "\n",
    "X = vectorizer.transform(train_music.Text)\n",
    "y = train_music.Positiv\n",
    "clf = MultinomialNB().fit(X, y)\n",
    "actuals = test_music.Positiv\n",
    "predicted = clf.predict(vectorizer.transform(test_music.Text))\n",
    "accuracy_score(actuals, predicted)"
   ]
  },
  {
   "cell_type": "markdown",
   "metadata": {},
   "source": [
    "MUSIC: Maximal Werte geänder"
   ]
  },
  {
   "cell_type": "code",
   "execution_count": 146,
   "metadata": {
    "collapsed": false
   },
   "outputs": [
    {
     "data": {
      "text/plain": [
       "0.63648180242634311"
      ]
     },
     "execution_count": 146,
     "metadata": {},
     "output_type": "execute_result"
    }
   ],
   "source": [
    "vectorizer = CountVectorizer(min_df=10, max_df=100, token_pattern='\\w+')\n",
    "vectorizer.fit(train_music.Text)\n",
    "\n",
    "X = vectorizer.transform(train_music.Text)\n",
    "y = train_music.Positiv\n",
    "clf = MultinomialNB().fit(X, y)\n",
    "actuals = test_music.Positiv\n",
    "predicted = clf.predict(vectorizer.transform(test_music.Text))\n",
    "accuracy_score(actuals, predicted)"
   ]
  },
  {
   "cell_type": "code",
   "execution_count": 147,
   "metadata": {
    "collapsed": false
   },
   "outputs": [
    {
     "data": {
      "text/plain": [
       "0.64081455805892551"
      ]
     },
     "execution_count": 147,
     "metadata": {},
     "output_type": "execute_result"
    }
   ],
   "source": [
    "vectorizer = CountVectorizer(min_df=10, max_df=300, token_pattern='\\w+')\n",
    "vectorizer.fit(train_music.Text)\n",
    "\n",
    "X = vectorizer.transform(train_music.Text)\n",
    "y = train_music.Positiv\n",
    "clf = MultinomialNB().fit(X, y)\n",
    "actuals = test_music.Positiv\n",
    "predicted = clf.predict(vectorizer.transform(test_music.Text))\n",
    "accuracy_score(actuals, predicted)"
   ]
  },
  {
   "cell_type": "code",
   "execution_count": 148,
   "metadata": {
    "collapsed": false
   },
   "outputs": [
    {
     "data": {
      "text/plain": [
       "0.64103119584055457"
      ]
     },
     "execution_count": 148,
     "metadata": {},
     "output_type": "execute_result"
    }
   ],
   "source": [
    "vectorizer = CountVectorizer(min_df=10, max_df=400, token_pattern='\\w+')\n",
    "vectorizer.fit(train_music.Text)\n",
    "\n",
    "X = vectorizer.transform(train_music.Text)\n",
    "y = train_music.Positiv\n",
    "clf = MultinomialNB().fit(X, y)\n",
    "actuals = test_music.Positiv\n",
    "predicted = clf.predict(vectorizer.transform(test_music.Text))\n",
    "accuracy_score(actuals, predicted)"
   ]
  },
  {
   "cell_type": "markdown",
   "metadata": {},
   "source": [
    "MUSIC: Zwei Varianten Min- und Max-Anzahl"
   ]
  },
  {
   "cell_type": "code",
   "execution_count": 149,
   "metadata": {
    "collapsed": false
   },
   "outputs": [
    {
     "data": {
      "text/plain": [
       "0.72183708838821492"
      ]
     },
     "execution_count": 149,
     "metadata": {},
     "output_type": "execute_result"
    }
   ],
   "source": [
    "vectorizer = CountVectorizer(min_df=25, max_df=25, token_pattern='\\w+')\n",
    "vectorizer.fit(train_music.Text)\n",
    "\n",
    "X = vectorizer.transform(train_music.Text)\n",
    "y = train_music.Positiv\n",
    "clf = MultinomialNB().fit(X, y)\n",
    "actuals = test_music.Positiv\n",
    "predicted = clf.predict(vectorizer.transform(test_music.Text))\n",
    "accuracy_score(actuals, predicted)"
   ]
  },
  {
   "cell_type": "code",
   "execution_count": 151,
   "metadata": {
    "collapsed": false
   },
   "outputs": [
    {
     "data": {
      "text/plain": [
       "0.62889948006932406"
      ]
     },
     "execution_count": 151,
     "metadata": {},
     "output_type": "execute_result"
    }
   ],
   "source": [
    "vectorizer = CountVectorizer(min_df=25, max_df=300, token_pattern='\\w+')\n",
    "vectorizer.fit(train_music.Text)\n",
    "\n",
    "X = vectorizer.transform(train_music.Text)\n",
    "y = train_music.Positiv\n",
    "clf = MultinomialNB().fit(X, y)\n",
    "actuals = test_music.Positiv\n",
    "predicted = clf.predict(vectorizer.transform(test_music.Text))\n",
    "accuracy_score(actuals, predicted)"
   ]
  },
  {
   "cell_type": "markdown",
   "metadata": {},
   "source": [
    " MUSIC: Nur Adjektive"
   ]
  },
  {
   "cell_type": "code",
   "execution_count": null,
   "metadata": {
    "collapsed": true
   },
   "outputs": [],
   "source": []
  },
  {
   "cell_type": "markdown",
   "metadata": {},
   "source": [
    "MUSIC: Nur Adjektive, Adverbien, Nomen und Verben"
   ]
  },
  {
   "cell_type": "code",
   "execution_count": null,
   "metadata": {
    "collapsed": true
   },
   "outputs": [],
   "source": []
  },
  {
   "cell_type": "markdown",
   "metadata": {},
   "source": [
    "MUSIC: Negation"
   ]
  },
  {
   "cell_type": "code",
   "execution_count": null,
   "metadata": {
    "collapsed": true
   },
   "outputs": [],
   "source": []
  }
 ],
 "metadata": {
  "anaconda-cloud": {},
  "kernelspec": {
   "display_name": "Python [conda root]",
   "language": "python",
   "name": "conda-root-py"
  },
  "language_info": {
   "codemirror_mode": {
    "name": "ipython",
    "version": 3
   },
   "file_extension": ".py",
   "mimetype": "text/x-python",
   "name": "python",
   "nbconvert_exporter": "python",
   "pygments_lexer": "ipython3",
   "version": "3.5.2"
  }
 },
 "nbformat": 4,
 "nbformat_minor": 1
}
