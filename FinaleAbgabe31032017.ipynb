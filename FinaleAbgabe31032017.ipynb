{
 "cells": [
  {
   "cell_type": "markdown",
   "metadata": {},
   "source": [
    "# Aufgabe 4:"
   ]
  },
  {
   "cell_type": "code",
   "execution_count": 2,
   "metadata": {
    "collapsed": true
   },
   "outputs": [],
   "source": [
    "#Import stuff & things\n",
    "import pandas as pd\n",
    "from sklearn.feature_extraction.text import CountVectorizer\n",
    "from sklearn.naive_bayes import MultinomialNB\n",
    "from sklearn.metrics import accuracy_score"
   ]
  },
  {
   "cell_type": "markdown",
   "metadata": {},
   "source": [
    "# Hilfsfunktionen"
   ]
  },
  {
   "cell_type": "code",
   "execution_count": 3,
   "metadata": {
    "collapsed": true
   },
   "outputs": [],
   "source": [
    "# Convenient function to output test items\n",
    "def show_test_item(clf, i, text=True, classify=True):\n",
    "    a = 'actual: ' + str(test.iloc[i].recommended)\n",
    "    p = ''\n",
    "    if classify:\n",
    "        p = ' / predicted: ' + str(clf.predict(vectorizer.transform([test.iloc[i].content_text]))[0])\n",
    "    print('[' + str(i) + '] ' +a + p)\n",
    "    if text:\n",
    "        print('\\n')\n",
    "        print(test.iloc[i].content_text)"
   ]
  },
  {
   "cell_type": "markdown",
   "metadata": {},
   "source": [
    "# Dokumente laden"
   ]
  },
  {
   "cell_type": "code",
   "execution_count": 26,
   "metadata": {
    "collapsed": false
   },
   "outputs": [],
   "source": [
    "#Read Datasets for all Areas\n",
    "dir = '/Users/juliusstahnke/Documents/HTW/Analytics/Analytics/Aufgabe4'\n",
    "\n",
    "games = pd.read_json(dir + '/games/games.json', orient='records', encoding='utf8')\n",
    "music = pd.read_json(dir + '/music/music.json', orient='records', encoding='utf8')\n",
    "apps = pd.read_json(dir + '/apps/apps.json', orient='records', encoding='utf8')"
   ]
  },
  {
   "cell_type": "markdown",
   "metadata": {},
   "source": [
    "# Aufbereiten Tabellen"
   ]
  },
  {
   "cell_type": "markdown",
   "metadata": {},
   "source": [
    "# Aufspalten in Train und Test"
   ]
  },
  {
   "cell_type": "code",
   "execution_count": 27,
   "metadata": {
    "collapsed": false
   },
   "outputs": [],
   "source": [
    "#Set Randomn State\n",
    "random_state = 100\n",
    "\n",
    "#Set Traindata for games\n",
    "train_games_positiv = games[games.recommended==True].sample(frac=0.8, random_state=random_state)\n",
    "train_games_negativ = games[games.recommended==False].sample(frac=0.8, random_state=random_state)\n",
    "train_games = pd.concat([train_games_positiv, train_games_negativ])\n",
    "test_games = games.drop(train_games.index)\n",
    "\n",
    "#Set Traindata for music\n",
    "train_music_positiv = music[music.rating.isin(['8', '9', '10', '11', '12', '13', '14', '15'])].sample(frac=0.8, random_state=random_state)\n",
    "train_music_negativ = music[music.rating.isin(['1', '2', '3', '4', '5', '6', '7'])].sample(frac=0.8, random_state=random_state)\n",
    "train_music = pd.concat([train_music_positiv, train_music_negativ])\n",
    "test_music = music.drop(train_music.index)\n",
    "\n",
    "#Set Traindata for apps\n",
    "train_apps_positiv = apps[apps.Rating >= 3].sample(frac=0.8, random_state=random_state)\n",
    "train_apps_negativ = apps[apps.Rating < 3].sample(frac=0.8, random_state=random_state)\n",
    "train_apps = pd.concat([train_apps_positiv, train_apps_negativ])\n",
    "test_apps = apps.drop(train_apps.index)"
   ]
  },
  {
   "cell_type": "markdown",
   "metadata": {},
   "source": [
    "# Spalten vereinheitlichen"
   ]
  },
  {
   "cell_type": "code",
   "execution_count": 106,
   "metadata": {
    "collapsed": false
   },
   "outputs": [
    {
     "data": {
      "text/html": [
       "<div>\n",
       "<table border=\"1\" class=\"dataframe\">\n",
       "  <thead>\n",
       "    <tr style=\"text-align: right;\">\n",
       "      <th></th>\n",
       "      <th>content_text</th>\n",
       "      <th>recommended</th>\n",
       "      <th>Positiv</th>\n",
       "      <th>Text</th>\n",
       "    </tr>\n",
       "  </thead>\n",
       "  <tbody>\n",
       "    <tr>\n",
       "      <th>27954</th>\n",
       "      <td>Der absolut beste Teil der Serie! Hab zuvor Fa...</td>\n",
       "      <td>True</td>\n",
       "      <td>True</td>\n",
       "      <td>Der absolut beste Teil der Serie! Hab zuvor Fa...</td>\n",
       "    </tr>\n",
       "    <tr>\n",
       "      <th>25306</th>\n",
       "      <td>Von den Trailern und Reviews bekommt man ja gu...</td>\n",
       "      <td>True</td>\n",
       "      <td>True</td>\n",
       "      <td>Von den Trailern und Reviews bekommt man ja gu...</td>\n",
       "    </tr>\n",
       "    <tr>\n",
       "      <th>12535</th>\n",
       "      <td>Als ich von theHunter: Primal gehört habe, hat...</td>\n",
       "      <td>True</td>\n",
       "      <td>True</td>\n",
       "      <td>Als ich von theHunter: Primal gehört habe, hat...</td>\n",
       "    </tr>\n",
       "    <tr>\n",
       "      <th>14045</th>\n",
       "      <td>Yay!</td>\n",
       "      <td>True</td>\n",
       "      <td>True</td>\n",
       "      <td>Yay!</td>\n",
       "    </tr>\n",
       "    <tr>\n",
       "      <th>6696</th>\n",
       "      <td>ETS 2 ein einfach geniales Spiel ;)</td>\n",
       "      <td>True</td>\n",
       "      <td>True</td>\n",
       "      <td>ETS 2 ein einfach geniales Spiel ;)</td>\n",
       "    </tr>\n",
       "    <tr>\n",
       "      <th>13857</th>\n",
       "      <td>Meiner Meinung nach eines der besten und logis...</td>\n",
       "      <td>True</td>\n",
       "      <td>True</td>\n",
       "      <td>Meiner Meinung nach eines der besten und logis...</td>\n",
       "    </tr>\n",
       "    <tr>\n",
       "      <th>20836</th>\n",
       "      <td>Es gibt zwar noch den ein oder anderen Bug*, a...</td>\n",
       "      <td>True</td>\n",
       "      <td>True</td>\n",
       "      <td>Es gibt zwar noch den ein oder anderen Bug*, a...</td>\n",
       "    </tr>\n",
       "    <tr>\n",
       "      <th>16646</th>\n",
       "      <td>Man sollte zuerst sagen, dass das Spiel nichts...</td>\n",
       "      <td>True</td>\n",
       "      <td>True</td>\n",
       "      <td>Man sollte zuerst sagen, dass das Spiel nichts...</td>\n",
       "    </tr>\n",
       "    <tr>\n",
       "      <th>10932</th>\n",
       "      <td>sehr gutes Spiel feier ich persöhnlich auch im...</td>\n",
       "      <td>True</td>\n",
       "      <td>True</td>\n",
       "      <td>sehr gutes Spiel feier ich persöhnlich auch im...</td>\n",
       "    </tr>\n",
       "    <tr>\n",
       "      <th>2378</th>\n",
       "      <td>http://youtu.be/ty0Ty1CiQ5U</td>\n",
       "      <td>True</td>\n",
       "      <td>True</td>\n",
       "      <td>http://youtu.be/ty0Ty1CiQ5U</td>\n",
       "    </tr>\n",
       "  </tbody>\n",
       "</table>\n",
       "</div>"
      ],
      "text/plain": [
       "                                            content_text recommended Positiv  \\\n",
       "27954  Der absolut beste Teil der Serie! Hab zuvor Fa...        True    True   \n",
       "25306  Von den Trailern und Reviews bekommt man ja gu...        True    True   \n",
       "12535  Als ich von theHunter: Primal gehört habe, hat...        True    True   \n",
       "14045                                               Yay!        True    True   \n",
       "6696                 ETS 2 ein einfach geniales Spiel ;)        True    True   \n",
       "13857  Meiner Meinung nach eines der besten und logis...        True    True   \n",
       "20836  Es gibt zwar noch den ein oder anderen Bug*, a...        True    True   \n",
       "16646  Man sollte zuerst sagen, dass das Spiel nichts...        True    True   \n",
       "10932  sehr gutes Spiel feier ich persöhnlich auch im...        True    True   \n",
       "2378                         http://youtu.be/ty0Ty1CiQ5U        True    True   \n",
       "\n",
       "                                                    Text  \n",
       "27954  Der absolut beste Teil der Serie! Hab zuvor Fa...  \n",
       "25306  Von den Trailern und Reviews bekommt man ja gu...  \n",
       "12535  Als ich von theHunter: Primal gehört habe, hat...  \n",
       "14045                                               Yay!  \n",
       "6696                 ETS 2 ein einfach geniales Spiel ;)  \n",
       "13857  Meiner Meinung nach eines der besten und logis...  \n",
       "20836  Es gibt zwar noch den ein oder anderen Bug*, a...  \n",
       "16646  Man sollte zuerst sagen, dass das Spiel nichts...  \n",
       "10932  sehr gutes Spiel feier ich persöhnlich auch im...  \n",
       "2378                         http://youtu.be/ty0Ty1CiQ5U  "
      ]
     },
     "execution_count": 106,
     "metadata": {},
     "output_type": "execute_result"
    }
   ],
   "source": [
    "#Einfügen positiv Spalte und Text\n",
    "#games.reset_index(inplace=True)\n",
    "train_games['Positiv'] = (games.recommended)\n",
    "train_games['Text'] = (games.content_text)\n",
    "train_games[:10]"
   ]
  },
  {
   "cell_type": "code",
   "execution_count": 108,
   "metadata": {
    "collapsed": false
   },
   "outputs": [
    {
     "data": {
      "text/html": [
       "<div>\n",
       "<table border=\"1\" class=\"dataframe\">\n",
       "  <thead>\n",
       "    <tr style=\"text-align: right;\">\n",
       "      <th></th>\n",
       "      <th>content_text</th>\n",
       "      <th>recommended</th>\n",
       "      <th>Positiv</th>\n",
       "      <th>Text</th>\n",
       "    </tr>\n",
       "  </thead>\n",
       "  <tbody>\n",
       "    <tr>\n",
       "      <th>3</th>\n",
       "      <td>leider ist die grafic für den absoluter mist u...</td>\n",
       "      <td>False</td>\n",
       "      <td>False</td>\n",
       "      <td>leider ist die grafic für den absoluter mist u...</td>\n",
       "    </tr>\n",
       "    <tr>\n",
       "      <th>12</th>\n",
       "      <td>nice the game!</td>\n",
       "      <td>True</td>\n",
       "      <td>True</td>\n",
       "      <td>nice the game!</td>\n",
       "    </tr>\n",
       "    <tr>\n",
       "      <th>13</th>\n",
       "      <td>Super Spiel</td>\n",
       "      <td>True</td>\n",
       "      <td>True</td>\n",
       "      <td>Super Spiel</td>\n",
       "    </tr>\n",
       "    <tr>\n",
       "      <th>18</th>\n",
       "      <td>Leider ein Fehlkauf ;-(</td>\n",
       "      <td>False</td>\n",
       "      <td>False</td>\n",
       "      <td>Leider ein Fehlkauf ;-(</td>\n",
       "    </tr>\n",
       "    <tr>\n",
       "      <th>23</th>\n",
       "      <td>Das is scheiße!!!! Holt es euch nicht!</td>\n",
       "      <td>False</td>\n",
       "      <td>False</td>\n",
       "      <td>Das is scheiße!!!! Holt es euch nicht!</td>\n",
       "    </tr>\n",
       "    <tr>\n",
       "      <th>27</th>\n",
       "      <td>Also eines der besten Sonic Spiele die ich jem...</td>\n",
       "      <td>True</td>\n",
       "      <td>True</td>\n",
       "      <td>Also eines der besten Sonic Spiele die ich jem...</td>\n",
       "    </tr>\n",
       "    <tr>\n",
       "      <th>39</th>\n",
       "      <td>Die beste Bananenrepublik, die man für Geld ka...</td>\n",
       "      <td>True</td>\n",
       "      <td>True</td>\n",
       "      <td>Die beste Bananenrepublik, die man für Geld ka...</td>\n",
       "    </tr>\n",
       "    <tr>\n",
       "      <th>44</th>\n",
       "      <td>Cooles Game, zumindest was die 1.te knappe Stu...</td>\n",
       "      <td>True</td>\n",
       "      <td>True</td>\n",
       "      <td>Cooles Game, zumindest was die 1.te knappe Stu...</td>\n",
       "    </tr>\n",
       "    <tr>\n",
       "      <th>50</th>\n",
       "      <td>Wir haben es jetzt einige Stunden im lokalen 2...</td>\n",
       "      <td>True</td>\n",
       "      <td>True</td>\n",
       "      <td>Wir haben es jetzt einige Stunden im lokalen 2...</td>\n",
       "    </tr>\n",
       "    <tr>\n",
       "      <th>51</th>\n",
       "      <td>da es kostenlos ist lohnt sich das spiel auf j...</td>\n",
       "      <td>True</td>\n",
       "      <td>True</td>\n",
       "      <td>da es kostenlos ist lohnt sich das spiel auf j...</td>\n",
       "    </tr>\n",
       "  </tbody>\n",
       "</table>\n",
       "</div>"
      ],
      "text/plain": [
       "                                         content_text recommended Positiv  \\\n",
       "3   leider ist die grafic für den absoluter mist u...       False   False   \n",
       "12                                     nice the game!        True    True   \n",
       "13                                        Super Spiel        True    True   \n",
       "18                            Leider ein Fehlkauf ;-(       False   False   \n",
       "23             Das is scheiße!!!! Holt es euch nicht!       False   False   \n",
       "27  Also eines der besten Sonic Spiele die ich jem...        True    True   \n",
       "39  Die beste Bananenrepublik, die man für Geld ka...        True    True   \n",
       "44  Cooles Game, zumindest was die 1.te knappe Stu...        True    True   \n",
       "50  Wir haben es jetzt einige Stunden im lokalen 2...        True    True   \n",
       "51  da es kostenlos ist lohnt sich das spiel auf j...        True    True   \n",
       "\n",
       "                                                 Text  \n",
       "3   leider ist die grafic für den absoluter mist u...  \n",
       "12                                     nice the game!  \n",
       "13                                        Super Spiel  \n",
       "18                            Leider ein Fehlkauf ;-(  \n",
       "23             Das is scheiße!!!! Holt es euch nicht!  \n",
       "27  Also eines der besten Sonic Spiele die ich jem...  \n",
       "39  Die beste Bananenrepublik, die man für Geld ka...  \n",
       "44  Cooles Game, zumindest was die 1.te knappe Stu...  \n",
       "50  Wir haben es jetzt einige Stunden im lokalen 2...  \n",
       "51  da es kostenlos ist lohnt sich das spiel auf j...  "
      ]
     },
     "execution_count": 108,
     "metadata": {},
     "output_type": "execute_result"
    }
   ],
   "source": [
    "#Einfügen positiv Spalte und Text\n",
    "#games.reset_index(inplace=True)\n",
    "test_games['Positiv'] = (games.recommended)\n",
    "test_games['Text'] = (games.content_text)\n",
    "test_games[:10]"
   ]
  },
  {
   "cell_type": "code",
   "execution_count": 109,
   "metadata": {
    "collapsed": false
   },
   "outputs": [
    {
     "name": "stderr",
     "output_type": "stream",
     "text": [
      "C:\\Users\\IBM_ADMIN\\Anaconda3\\Ana\\lib\\site-packages\\ipykernel\\__main__.py:4: SettingWithCopyWarning: \n",
      "A value is trying to be set on a copy of a slice from a DataFrame.\n",
      "Try using .loc[row_indexer,col_indexer] = value instead\n",
      "\n",
      "See the caveats in the documentation: http://pandas.pydata.org/pandas-docs/stable/indexing.html#indexing-view-versus-copy\n"
     ]
    },
    {
     "data": {
      "text/html": [
       "<div>\n",
       "<table border=\"1\" class=\"dataframe\">\n",
       "  <thead>\n",
       "    <tr style=\"text-align: right;\">\n",
       "      <th></th>\n",
       "      <th>index</th>\n",
       "      <th>Heading</th>\n",
       "      <th>Rating</th>\n",
       "      <th>Text</th>\n",
       "      <th>Positiv</th>\n",
       "    </tr>\n",
       "  </thead>\n",
       "  <tbody>\n",
       "    <tr>\n",
       "      <th>0</th>\n",
       "      <td>0</td>\n",
       "      <td>Widgets?</td>\n",
       "      <td>4</td>\n",
       "      <td>App ist hervorragend designt, mir fehlt aber d...</td>\n",
       "      <td>True</td>\n",
       "    </tr>\n",
       "    <tr>\n",
       "      <th>1</th>\n",
       "      <td>1</td>\n",
       "      <td>Super</td>\n",
       "      <td>5</td>\n",
       "      <td>Passt</td>\n",
       "      <td>True</td>\n",
       "    </tr>\n",
       "    <tr>\n",
       "      <th>2</th>\n",
       "      <td>2</td>\n",
       "      <td>Klasse Wecker</td>\n",
       "      <td>4</td>\n",
       "      <td>Er ist recht einfach zu bedienen, selbst im Ha...</td>\n",
       "      <td>True</td>\n",
       "    </tr>\n",
       "    <tr>\n",
       "      <th>3</th>\n",
       "      <td>3</td>\n",
       "      <td>None</td>\n",
       "      <td>5</td>\n",
       "      <td>Echt super.nur zum ausstellen des Weckers muss...</td>\n",
       "      <td>True</td>\n",
       "    </tr>\n",
       "    <tr>\n",
       "      <th>4</th>\n",
       "      <td>4</td>\n",
       "      <td>Echt cool</td>\n",
       "      <td>5</td>\n",
       "      <td>Das ist der erste wecker den man hört :D also ...</td>\n",
       "      <td>True</td>\n",
       "    </tr>\n",
       "    <tr>\n",
       "      <th>5</th>\n",
       "      <td>6</td>\n",
       "      <td>Sehr guter app</td>\n",
       "      <td>5</td>\n",
       "      <td>Welle gelek rind e. Morovan ji xewê radike.</td>\n",
       "      <td>False</td>\n",
       "    </tr>\n",
       "    <tr>\n",
       "      <th>6</th>\n",
       "      <td>7</td>\n",
       "      <td>Klasse</td>\n",
       "      <td>5</td>\n",
       "      <td>Klasse</td>\n",
       "      <td>True</td>\n",
       "    </tr>\n",
       "    <tr>\n",
       "      <th>7</th>\n",
       "      <td>8</td>\n",
       "      <td>Sehr gut</td>\n",
       "      <td>5</td>\n",
       "      <td>Wecker, Countdown, Stoppuhr als Erweiterung. M...</td>\n",
       "      <td>True</td>\n",
       "    </tr>\n",
       "    <tr>\n",
       "      <th>8</th>\n",
       "      <td>9</td>\n",
       "      <td>None</td>\n",
       "      <td>5</td>\n",
       "      <td>Testversion verspricht viel, soweit funzt alle...</td>\n",
       "      <td>True</td>\n",
       "    </tr>\n",
       "    <tr>\n",
       "      <th>9</th>\n",
       "      <td>10</td>\n",
       "      <td>Bitte um Fehlerbehebung</td>\n",
       "      <td>2</td>\n",
       "      <td>Ich nutze diese APP seid Jahren ,war immer sup...</td>\n",
       "      <td>True</td>\n",
       "    </tr>\n",
       "  </tbody>\n",
       "</table>\n",
       "</div>"
      ],
      "text/plain": [
       "   index                  Heading  Rating  \\\n",
       "0      0                 Widgets?       4   \n",
       "1      1                    Super       5   \n",
       "2      2            Klasse Wecker       4   \n",
       "3      3                     None       5   \n",
       "4      4                Echt cool       5   \n",
       "5      6           Sehr guter app       5   \n",
       "6      7                   Klasse       5   \n",
       "7      8                 Sehr gut       5   \n",
       "8      9                     None       5   \n",
       "9     10  Bitte um Fehlerbehebung       2   \n",
       "\n",
       "                                                Text Positiv  \n",
       "0  App ist hervorragend designt, mir fehlt aber d...    True  \n",
       "1                                              Passt    True  \n",
       "2  Er ist recht einfach zu bedienen, selbst im Ha...    True  \n",
       "3  Echt super.nur zum ausstellen des Weckers muss...    True  \n",
       "4  Das ist der erste wecker den man hört :D also ...    True  \n",
       "5        Welle gelek rind e. Morovan ji xewê radike.   False  \n",
       "6                                             Klasse    True  \n",
       "7  Wecker, Countdown, Stoppuhr als Erweiterung. M...    True  \n",
       "8  Testversion verspricht viel, soweit funzt alle...    True  \n",
       "9  Ich nutze diese APP seid Jahren ,war immer sup...    True  "
      ]
     },
     "execution_count": 109,
     "metadata": {},
     "output_type": "execute_result"
    }
   ],
   "source": [
    "#Einfügen positiv Spalte und Text\n",
    "train_apps = apps[apps.Rating!=3]\n",
    "train_apps.reset_index(inplace=True)\n",
    "train_apps['Positiv'] = (apps.Rating > 3)\n",
    "train_apps[:10]"
   ]
  },
  {
   "cell_type": "code",
   "execution_count": 110,
   "metadata": {
    "collapsed": false
   },
   "outputs": [
    {
     "name": "stderr",
     "output_type": "stream",
     "text": [
      "C:\\Users\\IBM_ADMIN\\Anaconda3\\Ana\\lib\\site-packages\\ipykernel\\__main__.py:4: SettingWithCopyWarning: \n",
      "A value is trying to be set on a copy of a slice from a DataFrame.\n",
      "Try using .loc[row_indexer,col_indexer] = value instead\n",
      "\n",
      "See the caveats in the documentation: http://pandas.pydata.org/pandas-docs/stable/indexing.html#indexing-view-versus-copy\n"
     ]
    },
    {
     "data": {
      "text/html": [
       "<div>\n",
       "<table border=\"1\" class=\"dataframe\">\n",
       "  <thead>\n",
       "    <tr style=\"text-align: right;\">\n",
       "      <th></th>\n",
       "      <th>index</th>\n",
       "      <th>Heading</th>\n",
       "      <th>Rating</th>\n",
       "      <th>Text</th>\n",
       "      <th>Positiv</th>\n",
       "    </tr>\n",
       "  </thead>\n",
       "  <tbody>\n",
       "    <tr>\n",
       "      <th>0</th>\n",
       "      <td>0</td>\n",
       "      <td>Widgets?</td>\n",
       "      <td>4</td>\n",
       "      <td>App ist hervorragend designt, mir fehlt aber d...</td>\n",
       "      <td>True</td>\n",
       "    </tr>\n",
       "    <tr>\n",
       "      <th>1</th>\n",
       "      <td>1</td>\n",
       "      <td>Super</td>\n",
       "      <td>5</td>\n",
       "      <td>Passt</td>\n",
       "      <td>True</td>\n",
       "    </tr>\n",
       "    <tr>\n",
       "      <th>2</th>\n",
       "      <td>2</td>\n",
       "      <td>Klasse Wecker</td>\n",
       "      <td>4</td>\n",
       "      <td>Er ist recht einfach zu bedienen, selbst im Ha...</td>\n",
       "      <td>True</td>\n",
       "    </tr>\n",
       "    <tr>\n",
       "      <th>3</th>\n",
       "      <td>3</td>\n",
       "      <td>None</td>\n",
       "      <td>5</td>\n",
       "      <td>Echt super.nur zum ausstellen des Weckers muss...</td>\n",
       "      <td>True</td>\n",
       "    </tr>\n",
       "    <tr>\n",
       "      <th>4</th>\n",
       "      <td>4</td>\n",
       "      <td>Echt cool</td>\n",
       "      <td>5</td>\n",
       "      <td>Das ist der erste wecker den man hört :D also ...</td>\n",
       "      <td>True</td>\n",
       "    </tr>\n",
       "    <tr>\n",
       "      <th>5</th>\n",
       "      <td>6</td>\n",
       "      <td>Sehr guter app</td>\n",
       "      <td>5</td>\n",
       "      <td>Welle gelek rind e. Morovan ji xewê radike.</td>\n",
       "      <td>False</td>\n",
       "    </tr>\n",
       "    <tr>\n",
       "      <th>6</th>\n",
       "      <td>7</td>\n",
       "      <td>Klasse</td>\n",
       "      <td>5</td>\n",
       "      <td>Klasse</td>\n",
       "      <td>True</td>\n",
       "    </tr>\n",
       "    <tr>\n",
       "      <th>7</th>\n",
       "      <td>8</td>\n",
       "      <td>Sehr gut</td>\n",
       "      <td>5</td>\n",
       "      <td>Wecker, Countdown, Stoppuhr als Erweiterung. M...</td>\n",
       "      <td>True</td>\n",
       "    </tr>\n",
       "    <tr>\n",
       "      <th>8</th>\n",
       "      <td>9</td>\n",
       "      <td>None</td>\n",
       "      <td>5</td>\n",
       "      <td>Testversion verspricht viel, soweit funzt alle...</td>\n",
       "      <td>True</td>\n",
       "    </tr>\n",
       "    <tr>\n",
       "      <th>9</th>\n",
       "      <td>10</td>\n",
       "      <td>Bitte um Fehlerbehebung</td>\n",
       "      <td>2</td>\n",
       "      <td>Ich nutze diese APP seid Jahren ,war immer sup...</td>\n",
       "      <td>True</td>\n",
       "    </tr>\n",
       "  </tbody>\n",
       "</table>\n",
       "</div>"
      ],
      "text/plain": [
       "   index                  Heading  Rating  \\\n",
       "0      0                 Widgets?       4   \n",
       "1      1                    Super       5   \n",
       "2      2            Klasse Wecker       4   \n",
       "3      3                     None       5   \n",
       "4      4                Echt cool       5   \n",
       "5      6           Sehr guter app       5   \n",
       "6      7                   Klasse       5   \n",
       "7      8                 Sehr gut       5   \n",
       "8      9                     None       5   \n",
       "9     10  Bitte um Fehlerbehebung       2   \n",
       "\n",
       "                                                Text Positiv  \n",
       "0  App ist hervorragend designt, mir fehlt aber d...    True  \n",
       "1                                              Passt    True  \n",
       "2  Er ist recht einfach zu bedienen, selbst im Ha...    True  \n",
       "3  Echt super.nur zum ausstellen des Weckers muss...    True  \n",
       "4  Das ist der erste wecker den man hört :D also ...    True  \n",
       "5        Welle gelek rind e. Morovan ji xewê radike.   False  \n",
       "6                                             Klasse    True  \n",
       "7  Wecker, Countdown, Stoppuhr als Erweiterung. M...    True  \n",
       "8  Testversion verspricht viel, soweit funzt alle...    True  \n",
       "9  Ich nutze diese APP seid Jahren ,war immer sup...    True  "
      ]
     },
     "execution_count": 110,
     "metadata": {},
     "output_type": "execute_result"
    }
   ],
   "source": [
    "#Einfügen positiv Spalte und Text\n",
    "test_apps = apps[apps.Rating!=3]\n",
    "test_apps.reset_index(inplace=True)\n",
    "test_apps['Positiv'] = (apps.Rating > 3)\n",
    "test_apps[:10]"
   ]
  },
  {
   "cell_type": "code",
   "execution_count": 28,
   "metadata": {
    "collapsed": false
   },
   "outputs": [
    {
     "data": {
      "text/html": [
       "<div>\n",
       "<table border=\"1\" class=\"dataframe\">\n",
       "  <thead>\n",
       "    <tr style=\"text-align: right;\">\n",
       "      <th></th>\n",
       "      <th>description</th>\n",
       "      <th>rating</th>\n",
       "      <th>summary</th>\n",
       "      <th>Text</th>\n",
       "      <th>Positiv</th>\n",
       "    </tr>\n",
       "  </thead>\n",
       "  <tbody>\n",
       "    <tr>\n",
       "      <th>11964</th>\n",
       "      <td>Sechs Songs in rund 22 Minuten, davon einer do...</td>\n",
       "      <td>8</td>\n",
       "      <td>FAZIT:  Wenn ich gewusst hätte, das mir   über...</td>\n",
       "      <td>Sechs Songs in rund 22 Minuten, davon einer do...</td>\n",
       "      <td>True</td>\n",
       "    </tr>\n",
       "    <tr>\n",
       "      <th>4766</th>\n",
       "      <td>Es ist unbestreitbar, dass  s Stammband UNDERW...</td>\n",
       "      <td>11</td>\n",
       "      <td>FAZIT: Hinsichtlich experimenteller Sounds kan...</td>\n",
       "      <td>Es ist unbestreitbar, dass  s Stammband UNDERW...</td>\n",
       "      <td>True</td>\n",
       "    </tr>\n",
       "    <tr>\n",
       "      <th>1663</th>\n",
       "      <td>Russland, das Land der „lupenreinen Demokraten...</td>\n",
       "      <td>14</td>\n",
       "      <td>FAZIT: Wenn Schönheit und musikalische Eleganz...</td>\n",
       "      <td>Russland, das Land der „lupenreinen Demokraten...</td>\n",
       "      <td>True</td>\n",
       "    </tr>\n",
       "    <tr>\n",
       "      <th>2954</th>\n",
       "      <td>\" \" ist optisch nicht mehr ganz so pompös wie ...</td>\n",
       "      <td>12</td>\n",
       "      <td>FAZIT: Der metallisch-progressiv-alternative M...</td>\n",
       "      <td>\" \" ist optisch nicht mehr ganz so pompös wie ...</td>\n",
       "      <td>True</td>\n",
       "    </tr>\n",
       "    <tr>\n",
       "      <th>5458</th>\n",
       "      <td>Eine traurige Nachricht überschattet die Veröf...</td>\n",
       "      <td>9</td>\n",
       "      <td>FAZIT: Das B-Movie unter den Prog-Metal-Epigon...</td>\n",
       "      <td>Eine traurige Nachricht überschattet die Veröf...</td>\n",
       "      <td>True</td>\n",
       "    </tr>\n",
       "    <tr>\n",
       "      <th>8003</th>\n",
       "      <td>In den ersten Sekunden rumpelt 80er-Jahre-Hard...</td>\n",
       "      <td>14</td>\n",
       "      <td>FAZIT: In der Anwartschaft auf den Titel des b...</td>\n",
       "      <td>In den ersten Sekunden rumpelt 80er-Jahre-Hard...</td>\n",
       "      <td>True</td>\n",
       "    </tr>\n",
       "    <tr>\n",
       "      <th>1985</th>\n",
       "      <td>Es gibt Leute, für die ist Brian Johnson auch ...</td>\n",
       "      <td>13</td>\n",
       "      <td>FAZIT: Die Hardrock-Scheibe des Jahres? Bis je...</td>\n",
       "      <td>Es gibt Leute, für die ist Brian Johnson auch ...</td>\n",
       "      <td>True</td>\n",
       "    </tr>\n",
       "    <tr>\n",
       "      <th>1219</th>\n",
       "      <td>Karisma, norwegische Band, was sonst? Neu ist,...</td>\n",
       "      <td>13</td>\n",
       "      <td>FAZIT: Hört jetzt rein und wisst später über d...</td>\n",
       "      <td>Karisma, norwegische Band, was sonst? Neu ist,...</td>\n",
       "      <td>True</td>\n",
       "    </tr>\n",
       "    <tr>\n",
       "      <th>4901</th>\n",
       "      <td>2012 warteten SUSPYRE aus New Jersey in Eigeni...</td>\n",
       "      <td>11</td>\n",
       "      <td>FAZIT: Für SUSPYRE gilt aktuell, ihre Bemühung...</td>\n",
       "      <td>2012 warteten SUSPYRE aus New Jersey in Eigeni...</td>\n",
       "      <td>True</td>\n",
       "    </tr>\n",
       "    <tr>\n",
       "      <th>7965</th>\n",
       "      <td>Das letzte Album von   erschien vor über zehn ...</td>\n",
       "      <td>12</td>\n",
       "      <td>FAZIT: Elf Punkte gibt es für die Musik, einen...</td>\n",
       "      <td>Das letzte Album von   erschien vor über zehn ...</td>\n",
       "      <td>True</td>\n",
       "    </tr>\n",
       "    <tr>\n",
       "      <th>11263</th>\n",
       "      <td>Gute zehn Jahre sind   inzwischen im Business ...</td>\n",
       "      <td>12</td>\n",
       "      <td>FAZIT:   sind noch nicht am Zenit ihrer Leistu...</td>\n",
       "      <td>Gute zehn Jahre sind   inzwischen im Business ...</td>\n",
       "      <td>True</td>\n",
       "    </tr>\n",
       "    <tr>\n",
       "      <th>7955</th>\n",
       "      <td>Ob   kompatibel mit dem Geschmack des Großteil...</td>\n",
       "      <td>10</td>\n",
       "      <td>FAZIT: Persönlich würde ich mir „ “ wohl nicht...</td>\n",
       "      <td>Ob   kompatibel mit dem Geschmack des Großteil...</td>\n",
       "      <td>True</td>\n",
       "    </tr>\n",
       "    <tr>\n",
       "      <th>4476</th>\n",
       "      <td>„ “ ist die Neuauflage des Debüts (s.u.) der j...</td>\n",
       "      <td>10</td>\n",
       "      <td>FAZIT: „ “ ist ein geschmeidiges Sommeralbum. ...</td>\n",
       "      <td>„ “ ist die Neuauflage des Debüts (s.u.) der j...</td>\n",
       "      <td>True</td>\n",
       "    </tr>\n",
       "    <tr>\n",
       "      <th>7049</th>\n",
       "      <td>Sicherlich waren und sind   eine Zusammenrottu...</td>\n",
       "      <td>9</td>\n",
       "      <td>FAZIT: „ “ ist eine geschlossene Scheibe moder...</td>\n",
       "      <td>Sicherlich waren und sind   eine Zusammenrottu...</td>\n",
       "      <td>True</td>\n",
       "    </tr>\n",
       "    <tr>\n",
       "      <th>11129</th>\n",
       "      <td>Hinter diesem in thematische A- und B-Seite ge...</td>\n",
       "      <td>11</td>\n",
       "      <td>Fazit: Guter Testlauf einer Hoffnung im Bereic...</td>\n",
       "      <td>Hinter diesem in thematische A- und B-Seite ge...</td>\n",
       "      <td>True</td>\n",
       "    </tr>\n",
       "    <tr>\n",
       "      <th>9657</th>\n",
       "      <td>Bei “ ” handelt es sich um das zweite Album de...</td>\n",
       "      <td>9</td>\n",
       "      <td>FAZIT: Das Zweitwerk von   ist ein durchaus hö...</td>\n",
       "      <td>Bei “ ” handelt es sich um das zweite Album de...</td>\n",
       "      <td>True</td>\n",
       "    </tr>\n",
       "    <tr>\n",
       "      <th>8566</th>\n",
       "      <td>Als mir das  -Debüt vor etwa zwei Jahren auf d...</td>\n",
       "      <td>10</td>\n",
       "      <td>FAZIT: Die Idee ist nach wie vor genial.   hab...</td>\n",
       "      <td>Als mir das  -Debüt vor etwa zwei Jahren auf d...</td>\n",
       "      <td>True</td>\n",
       "    </tr>\n",
       "    <tr>\n",
       "      <th>871</th>\n",
       "      <td>Mal keinen Pseudo-Außenseiter-Deutschrock mit ...</td>\n",
       "      <td>9</td>\n",
       "      <td>FAZIT: … diese Ausbunde an Unbeschwertheit, de...</td>\n",
       "      <td>Mal keinen Pseudo-Außenseiter-Deutschrock mit ...</td>\n",
       "      <td>True</td>\n",
       "    </tr>\n",
       "    <tr>\n",
       "      <th>6990</th>\n",
       "      <td>Manchmal ist es gut, nicht seinen Arsch zu ver...</td>\n",
       "      <td>10</td>\n",
       "      <td>FAZIT: Schwedischer Death Metal aus den US of ...</td>\n",
       "      <td>Manchmal ist es gut, nicht seinen Arsch zu ver...</td>\n",
       "      <td>True</td>\n",
       "    </tr>\n",
       "    <tr>\n",
       "      <th>6860</th>\n",
       "      <td>Same procedure as every year. Auch im April 20...</td>\n",
       "      <td>10</td>\n",
       "      <td>FAZIT: Nachdem   einige Zeit lang auf recht ho...</td>\n",
       "      <td>Same procedure as every year. Auch im April 20...</td>\n",
       "      <td>True</td>\n",
       "    </tr>\n",
       "    <tr>\n",
       "      <th>5073</th>\n",
       "      <td>Wer nicht bereits nach dem ersten Hördurchgang...</td>\n",
       "      <td>13</td>\n",
       "      <td>FAZIT: Wer Irish Folk mag, saubere Satzgesänge...</td>\n",
       "      <td>Wer nicht bereits nach dem ersten Hördurchgang...</td>\n",
       "      <td>True</td>\n",
       "    </tr>\n",
       "    <tr>\n",
       "      <th>7484</th>\n",
       "      <td>Wie anders als „ “ hätte man diese Doppel-CD b...</td>\n",
       "      <td>10</td>\n",
       "      <td>FAZIT: Nach ABRETE GANDUL und THE NERVE INSTIT...</td>\n",
       "      <td>Wie anders als „ “ hätte man diese Doppel-CD b...</td>\n",
       "      <td>True</td>\n",
       "    </tr>\n",
       "    <tr>\n",
       "      <th>7273</th>\n",
       "      <td>Mit I, THE PHOENIX macht die französischsprach...</td>\n",
       "      <td>9</td>\n",
       "      <td>FAZIT: „I, The Phoenix“ (nur echt mit 3D-Brill...</td>\n",
       "      <td>Mit I, THE PHOENIX macht die französischsprach...</td>\n",
       "      <td>True</td>\n",
       "    </tr>\n",
       "    <tr>\n",
       "      <th>5907</th>\n",
       "      <td>Na, hast du vor gut drei Jahren auch „interess...</td>\n",
       "      <td>10</td>\n",
       "      <td>FAZIT: Wer sich einen abwechslungsreichen Hybr...</td>\n",
       "      <td>Na, hast du vor gut drei Jahren auch „interess...</td>\n",
       "      <td>True</td>\n",
       "    </tr>\n",
       "    <tr>\n",
       "      <th>6465</th>\n",
       "      <td>Die   wurden 1997 in Italien gegründet. Und zw...</td>\n",
       "      <td>10</td>\n",
       "      <td>FAZIT: „ “ bietet neun Mal kompetent dargebote...</td>\n",
       "      <td>Die   wurden 1997 in Italien gegründet. Und zw...</td>\n",
       "      <td>True</td>\n",
       "    </tr>\n",
       "    <tr>\n",
       "      <th>7307</th>\n",
       "      <td>OCHS' Solosachen sind vornehmlich Liebhabern b...</td>\n",
       "      <td>12</td>\n",
       "      <td>FAZIT. „ “ ist eine gefühlsintensive und rohe ...</td>\n",
       "      <td>OCHS' Solosachen sind vornehmlich Liebhabern b...</td>\n",
       "      <td>True</td>\n",
       "    </tr>\n",
       "    <tr>\n",
       "      <th>7136</th>\n",
       "      <td>Christophe Mevel, „hauptberuflich“ Teil des DA...</td>\n",
       "      <td>10</td>\n",
       "      <td>FAZIT: „Paal“ zählt zu den interessanteren Aus...</td>\n",
       "      <td>Christophe Mevel, „hauptberuflich“ Teil des DA...</td>\n",
       "      <td>True</td>\n",
       "    </tr>\n",
       "    <tr>\n",
       "      <th>5795</th>\n",
       "      <td>Trend hin oder her und die wachsende Gefahr de...</td>\n",
       "      <td>11</td>\n",
       "      <td>FAZIT: Ohne großes Gewese um momentane Mode-We...</td>\n",
       "      <td>Trend hin oder her und die wachsende Gefahr de...</td>\n",
       "      <td>True</td>\n",
       "    </tr>\n",
       "    <tr>\n",
       "      <th>5338</th>\n",
       "      <td>Vorgänger „The Last Goodbye“ war kein Abschied...</td>\n",
       "      <td>11</td>\n",
       "      <td>FAZIT: Schnell, lässig und souverän zockt sich...</td>\n",
       "      <td>Vorgänger „The Last Goodbye“ war kein Abschied...</td>\n",
       "      <td>True</td>\n",
       "    </tr>\n",
       "    <tr>\n",
       "      <th>11071</th>\n",
       "      <td>Inflationär werden wir derzeit mit neuen \"Supe...</td>\n",
       "      <td>14</td>\n",
       "      <td>FAZIT: Ein beängstigend guter Einstieg für die...</td>\n",
       "      <td>Inflationär werden wir derzeit mit neuen \"Supe...</td>\n",
       "      <td>True</td>\n",
       "    </tr>\n",
       "    <tr>\n",
       "      <th>...</th>\n",
       "      <td>...</td>\n",
       "      <td>...</td>\n",
       "      <td>...</td>\n",
       "      <td>...</td>\n",
       "      <td>...</td>\n",
       "    </tr>\n",
       "    <tr>\n",
       "      <th>12002</th>\n",
       "      <td>Es ist kein Geheimnis, dass die meisten Bands,...</td>\n",
       "      <td>5</td>\n",
       "      <td>FAZIT:   spielen auf ihrem neusten Werk Gothic...</td>\n",
       "      <td>Es ist kein Geheimnis, dass die meisten Bands,...</td>\n",
       "      <td>False</td>\n",
       "    </tr>\n",
       "    <tr>\n",
       "      <th>12850</th>\n",
       "      <td>Diese Schweizer folgen der südeuropäischen Hor...</td>\n",
       "      <td>5</td>\n",
       "      <td>FAZIT: Gothic Metal, welcher der Form genügt, ...</td>\n",
       "      <td>Diese Schweizer folgen der südeuropäischen Hor...</td>\n",
       "      <td>False</td>\n",
       "    </tr>\n",
       "    <tr>\n",
       "      <th>11999</th>\n",
       "      <td>Laut eigener Aussage spielen   aus North Carol...</td>\n",
       "      <td>6</td>\n",
       "      <td>FAZIT:   sitzen zwischen den Stühlen und könne...</td>\n",
       "      <td>Laut eigener Aussage spielen   aus North Carol...</td>\n",
       "      <td>False</td>\n",
       "    </tr>\n",
       "    <tr>\n",
       "      <th>11625</th>\n",
       "      <td>Oh je, was ist das denn für 'ne kitschige Star...</td>\n",
       "      <td>5</td>\n",
       "      <td>FAZIT: Wer als AOR-Freak stets ein besonderes ...</td>\n",
       "      <td>Oh je, was ist das denn für 'ne kitschige Star...</td>\n",
       "      <td>False</td>\n",
       "    </tr>\n",
       "    <tr>\n",
       "      <th>3362</th>\n",
       "      <td>Kein Geringerer als Alan Parsons half bei der ...</td>\n",
       "      <td>6</td>\n",
       "      <td>FAZIT:   tönen von vorne bis hinten wie ein un...</td>\n",
       "      <td>Kein Geringerer als Alan Parsons half bei der ...</td>\n",
       "      <td>False</td>\n",
       "    </tr>\n",
       "    <tr>\n",
       "      <th>3418</th>\n",
       "      <td>Vor ziemlich genau 20 Jahren gründete sich im ...</td>\n",
       "      <td>7</td>\n",
       "      <td>FAZIT: Dass   20 Jahre brauchten, um ihr Debüt...</td>\n",
       "      <td>Vor ziemlich genau 20 Jahren gründete sich im ...</td>\n",
       "      <td>False</td>\n",
       "    </tr>\n",
       "    <tr>\n",
       "      <th>2561</th>\n",
       "      <td>Die Zutaten klingen erst einmal gar nicht schl...</td>\n",
       "      <td>6</td>\n",
       "      <td>FAZIT: Musikalisch ist „ “ weitgehend solide b...</td>\n",
       "      <td>Die Zutaten klingen erst einmal gar nicht schl...</td>\n",
       "      <td>False</td>\n",
       "    </tr>\n",
       "    <tr>\n",
       "      <th>6889</th>\n",
       "      <td>Die (rhetorische) Frage nach der Authentizität...</td>\n",
       "      <td>7</td>\n",
       "      <td>FAZIT: \" \" ist kein schlechtes, aber ein reich...</td>\n",
       "      <td>Die (rhetorische) Frage nach der Authentizität...</td>\n",
       "      <td>False</td>\n",
       "    </tr>\n",
       "    <tr>\n",
       "      <th>1269</th>\n",
       "      <td>Dass in den französischen Banlieues einiges im...</td>\n",
       "      <td>6</td>\n",
       "      <td>FAZIT: Daumen runter, und da   den Vergleich s...</td>\n",
       "      <td>Dass in den französischen Banlieues einiges im...</td>\n",
       "      <td>False</td>\n",
       "    </tr>\n",
       "    <tr>\n",
       "      <th>10303</th>\n",
       "      <td>„Viel Blabla um nichts“ könnte man sagen, wenn...</td>\n",
       "      <td>7</td>\n",
       "      <td>FAZIT: Sicherlich liegt das Niveau der Herren ...</td>\n",
       "      <td>„Viel Blabla um nichts“ könnte man sagen, wenn...</td>\n",
       "      <td>False</td>\n",
       "    </tr>\n",
       "    <tr>\n",
       "      <th>3841</th>\n",
       "      <td>Aus dem norwegischen Black-Metal-Duo ist ein Q...</td>\n",
       "      <td>7</td>\n",
       "      <td>FAZIT: Sperrige, kalte Kost für Leute, die es ...</td>\n",
       "      <td>Aus dem norwegischen Black-Metal-Duo ist ein Q...</td>\n",
       "      <td>False</td>\n",
       "    </tr>\n",
       "    <tr>\n",
       "      <th>8226</th>\n",
       "      <td>Ein amerikanisches Trio in den Fußstapfen neuz...</td>\n",
       "      <td>7</td>\n",
       "      <td>FAZIT:   spielen mit \" \" in der dritten Rotzro...</td>\n",
       "      <td>Ein amerikanisches Trio in den Fußstapfen neuz...</td>\n",
       "      <td>False</td>\n",
       "    </tr>\n",
       "    <tr>\n",
       "      <th>5524</th>\n",
       "      <td>Man kennt es aus anderen Genres: Musiker pfleg...</td>\n",
       "      <td>6</td>\n",
       "      <td>FAZIT: Joy Frempong und Philippe Ehinger sprec...</td>\n",
       "      <td>Man kennt es aus anderen Genres: Musiker pfleg...</td>\n",
       "      <td>False</td>\n",
       "    </tr>\n",
       "    <tr>\n",
       "      <th>8604</th>\n",
       "      <td>Das selbstbetitelte  -Debüt von 2009 gefällt m...</td>\n",
       "      <td>7</td>\n",
       "      <td>FAZIT: „ “ ist leider deutlich schwächer ausge...</td>\n",
       "      <td>Das selbstbetitelte  -Debüt von 2009 gefällt m...</td>\n",
       "      <td>False</td>\n",
       "    </tr>\n",
       "    <tr>\n",
       "      <th>8732</th>\n",
       "      <td>Als hätte es einer LAIBACH-Kopie aus Russland ...</td>\n",
       "      <td>4</td>\n",
       "      <td>FAZIT:   pfriemeln Martial Industrial zum eins...</td>\n",
       "      <td>Als hätte es einer LAIBACH-Kopie aus Russland ...</td>\n",
       "      <td>False</td>\n",
       "    </tr>\n",
       "    <tr>\n",
       "      <th>5950</th>\n",
       "      <td>25 Jahre und immer noch kein Gespür fürs Optis...</td>\n",
       "      <td>7</td>\n",
       "      <td>FAZIT: Dass   noch nicht großartig von sich re...</td>\n",
       "      <td>25 Jahre und immer noch kein Gespür fürs Optis...</td>\n",
       "      <td>False</td>\n",
       "    </tr>\n",
       "    <tr>\n",
       "      <th>9824</th>\n",
       "      <td>Von Rhode Island aus suchen uns   mit angeblic...</td>\n",
       "      <td>5</td>\n",
       "      <td>FAZIT:   spielen als gerade eben okay durchgeh...</td>\n",
       "      <td>Von Rhode Island aus suchen uns   mit angeblic...</td>\n",
       "      <td>False</td>\n",
       "    </tr>\n",
       "    <tr>\n",
       "      <th>6101</th>\n",
       "      <td>Ungefähr eine klassische LP-Länge lang walzt d...</td>\n",
       "      <td>6</td>\n",
       "      <td>FAZIT: Alles Scheiße? Okay, aber ohne mich.</td>\n",
       "      <td>Ungefähr eine klassische LP-Länge lang walzt d...</td>\n",
       "      <td>False</td>\n",
       "    </tr>\n",
       "    <tr>\n",
       "      <th>10604</th>\n",
       "      <td>Bei   handelt es sich um ein Projekt des schwe...</td>\n",
       "      <td>6</td>\n",
       "      <td>FAZIT: „ “ enthält eine Mischung aus überwiege...</td>\n",
       "      <td>Bei   handelt es sich um ein Projekt des schwe...</td>\n",
       "      <td>False</td>\n",
       "    </tr>\n",
       "    <tr>\n",
       "      <th>3668</th>\n",
       "      <td>Seit der Veröffentlichung ihres ersten Demos i...</td>\n",
       "      <td>5</td>\n",
       "      <td>FAZIT: Wem AURA NOIR, DESASTER und NOCTURNAL B...</td>\n",
       "      <td>Seit der Veröffentlichung ihres ersten Demos i...</td>\n",
       "      <td>False</td>\n",
       "    </tr>\n",
       "    <tr>\n",
       "      <th>7336</th>\n",
       "      <td>Der Hinweis auf 45 Gold- und Platinauszeichnun...</td>\n",
       "      <td>4</td>\n",
       "      <td>FAZIT: Musik wie ein weißes, glattgebügeltes B...</td>\n",
       "      <td>Der Hinweis auf 45 Gold- und Platinauszeichnun...</td>\n",
       "      <td>False</td>\n",
       "    </tr>\n",
       "    <tr>\n",
       "      <th>7298</th>\n",
       "      <td>Mit   ist das so eine Sache: Der Thüringer Hau...</td>\n",
       "      <td>7</td>\n",
       "      <td>FAZIT:   unterhalten auf „ “ nur wenig – 80 % ...</td>\n",
       "      <td>Mit   ist das so eine Sache: Der Thüringer Hau...</td>\n",
       "      <td>False</td>\n",
       "    </tr>\n",
       "    <tr>\n",
       "      <th>11473</th>\n",
       "      <td>Ihre “Hooks” sind “catchy”, ihre “Beats” sind ...</td>\n",
       "      <td>7</td>\n",
       "      <td>FAZIT: Nicht gerade der Weisheit letzter Spruc...</td>\n",
       "      <td>Ihre “Hooks” sind “catchy”, ihre “Beats” sind ...</td>\n",
       "      <td>False</td>\n",
       "    </tr>\n",
       "    <tr>\n",
       "      <th>4370</th>\n",
       "      <td>Auf ihrer dritten Veröffentlichung verfeinert ...</td>\n",
       "      <td>5</td>\n",
       "      <td>FAZIT:   sind ehrliche Arbeiter, mit Verlaub, ...</td>\n",
       "      <td>Auf ihrer dritten Veröffentlichung verfeinert ...</td>\n",
       "      <td>False</td>\n",
       "    </tr>\n",
       "    <tr>\n",
       "      <th>9537</th>\n",
       "      <td>Selbstplagiat? Den Vorwurf braucht's eigentlic...</td>\n",
       "      <td>7</td>\n",
       "      <td>FAZIT: Überwiegend uninspirierter Neuaufguss a...</td>\n",
       "      <td>Selbstplagiat? Den Vorwurf braucht's eigentlic...</td>\n",
       "      <td>False</td>\n",
       "    </tr>\n",
       "    <tr>\n",
       "      <th>12868</th>\n",
       "      <td>Spinefarm sitzen im Glashaus und werfen mit Pr...</td>\n",
       "      <td>3</td>\n",
       "      <td>FAZIT: Kurzer Augenblick der Überraschung, dan...</td>\n",
       "      <td>Spinefarm sitzen im Glashaus und werfen mit Pr...</td>\n",
       "      <td>False</td>\n",
       "    </tr>\n",
       "    <tr>\n",
       "      <th>5411</th>\n",
       "      <td>„ “ … menschlich … Ja, Bewunderung ist menschl...</td>\n",
       "      <td>6</td>\n",
       "      <td>FAZIT: „ “ ist im Smallstone-Katalog ein einfa...</td>\n",
       "      <td>„ “ … menschlich … Ja, Bewunderung ist menschl...</td>\n",
       "      <td>False</td>\n",
       "    </tr>\n",
       "    <tr>\n",
       "      <th>790</th>\n",
       "      <td>Nicht viel ändert sich bei der Bewertung des N...</td>\n",
       "      <td>7</td>\n",
       "      <td>FAZIT: Nörgler winken auch weiterhin ab, wenn ...</td>\n",
       "      <td>Nicht viel ändert sich bei der Bewertung des N...</td>\n",
       "      <td>False</td>\n",
       "    </tr>\n",
       "    <tr>\n",
       "      <th>11142</th>\n",
       "      <td>Es ist ein undankbares Unterfangen, ohne finan...</td>\n",
       "      <td>4</td>\n",
       "      <td>Fazit: \" \" wird als prätentiöse Rock-(?)Oper n...</td>\n",
       "      <td>Es ist ein undankbares Unterfangen, ohne finan...</td>\n",
       "      <td>False</td>\n",
       "    </tr>\n",
       "    <tr>\n",
       "      <th>3230</th>\n",
       "      <td>Für sein viertes Soloalbum hat Ex-GALAHAD-Tief...</td>\n",
       "      <td>7</td>\n",
       "      <td>FAZIT: \" \" geht für zartbesaitete Szene-Wächte...</td>\n",
       "      <td>Für sein viertes Soloalbum hat Ex-GALAHAD-Tief...</td>\n",
       "      <td>False</td>\n",
       "    </tr>\n",
       "  </tbody>\n",
       "</table>\n",
       "<p>9036 rows × 5 columns</p>\n",
       "</div>"
      ],
      "text/plain": [
       "                                             description rating  \\\n",
       "11964  Sechs Songs in rund 22 Minuten, davon einer do...      8   \n",
       "4766   Es ist unbestreitbar, dass  s Stammband UNDERW...     11   \n",
       "1663   Russland, das Land der „lupenreinen Demokraten...     14   \n",
       "2954   \" \" ist optisch nicht mehr ganz so pompös wie ...     12   \n",
       "5458   Eine traurige Nachricht überschattet die Veröf...      9   \n",
       "8003   In den ersten Sekunden rumpelt 80er-Jahre-Hard...     14   \n",
       "1985   Es gibt Leute, für die ist Brian Johnson auch ...     13   \n",
       "1219   Karisma, norwegische Band, was sonst? Neu ist,...     13   \n",
       "4901   2012 warteten SUSPYRE aus New Jersey in Eigeni...     11   \n",
       "7965   Das letzte Album von   erschien vor über zehn ...     12   \n",
       "11263  Gute zehn Jahre sind   inzwischen im Business ...     12   \n",
       "7955   Ob   kompatibel mit dem Geschmack des Großteil...     10   \n",
       "4476   „ “ ist die Neuauflage des Debüts (s.u.) der j...     10   \n",
       "7049   Sicherlich waren und sind   eine Zusammenrottu...      9   \n",
       "11129  Hinter diesem in thematische A- und B-Seite ge...     11   \n",
       "9657   Bei “ ” handelt es sich um das zweite Album de...      9   \n",
       "8566   Als mir das  -Debüt vor etwa zwei Jahren auf d...     10   \n",
       "871    Mal keinen Pseudo-Außenseiter-Deutschrock mit ...      9   \n",
       "6990   Manchmal ist es gut, nicht seinen Arsch zu ver...     10   \n",
       "6860   Same procedure as every year. Auch im April 20...     10   \n",
       "5073   Wer nicht bereits nach dem ersten Hördurchgang...     13   \n",
       "7484   Wie anders als „ “ hätte man diese Doppel-CD b...     10   \n",
       "7273   Mit I, THE PHOENIX macht die französischsprach...      9   \n",
       "5907   Na, hast du vor gut drei Jahren auch „interess...     10   \n",
       "6465   Die   wurden 1997 in Italien gegründet. Und zw...     10   \n",
       "7307   OCHS' Solosachen sind vornehmlich Liebhabern b...     12   \n",
       "7136   Christophe Mevel, „hauptberuflich“ Teil des DA...     10   \n",
       "5795   Trend hin oder her und die wachsende Gefahr de...     11   \n",
       "5338   Vorgänger „The Last Goodbye“ war kein Abschied...     11   \n",
       "11071  Inflationär werden wir derzeit mit neuen \"Supe...     14   \n",
       "...                                                  ...    ...   \n",
       "12002  Es ist kein Geheimnis, dass die meisten Bands,...      5   \n",
       "12850  Diese Schweizer folgen der südeuropäischen Hor...      5   \n",
       "11999  Laut eigener Aussage spielen   aus North Carol...      6   \n",
       "11625  Oh je, was ist das denn für 'ne kitschige Star...      5   \n",
       "3362   Kein Geringerer als Alan Parsons half bei der ...      6   \n",
       "3418   Vor ziemlich genau 20 Jahren gründete sich im ...      7   \n",
       "2561   Die Zutaten klingen erst einmal gar nicht schl...      6   \n",
       "6889   Die (rhetorische) Frage nach der Authentizität...      7   \n",
       "1269   Dass in den französischen Banlieues einiges im...      6   \n",
       "10303  „Viel Blabla um nichts“ könnte man sagen, wenn...      7   \n",
       "3841   Aus dem norwegischen Black-Metal-Duo ist ein Q...      7   \n",
       "8226   Ein amerikanisches Trio in den Fußstapfen neuz...      7   \n",
       "5524   Man kennt es aus anderen Genres: Musiker pfleg...      6   \n",
       "8604   Das selbstbetitelte  -Debüt von 2009 gefällt m...      7   \n",
       "8732   Als hätte es einer LAIBACH-Kopie aus Russland ...      4   \n",
       "5950   25 Jahre und immer noch kein Gespür fürs Optis...      7   \n",
       "9824   Von Rhode Island aus suchen uns   mit angeblic...      5   \n",
       "6101   Ungefähr eine klassische LP-Länge lang walzt d...      6   \n",
       "10604  Bei   handelt es sich um ein Projekt des schwe...      6   \n",
       "3668   Seit der Veröffentlichung ihres ersten Demos i...      5   \n",
       "7336   Der Hinweis auf 45 Gold- und Platinauszeichnun...      4   \n",
       "7298   Mit   ist das so eine Sache: Der Thüringer Hau...      7   \n",
       "11473  Ihre “Hooks” sind “catchy”, ihre “Beats” sind ...      7   \n",
       "4370   Auf ihrer dritten Veröffentlichung verfeinert ...      5   \n",
       "9537   Selbstplagiat? Den Vorwurf braucht's eigentlic...      7   \n",
       "12868  Spinefarm sitzen im Glashaus und werfen mit Pr...      3   \n",
       "5411   „ “ … menschlich … Ja, Bewunderung ist menschl...      6   \n",
       "790    Nicht viel ändert sich bei der Bewertung des N...      7   \n",
       "11142  Es ist ein undankbares Unterfangen, ohne finan...      4   \n",
       "3230   Für sein viertes Soloalbum hat Ex-GALAHAD-Tief...      7   \n",
       "\n",
       "                                                 summary  \\\n",
       "11964  FAZIT:  Wenn ich gewusst hätte, das mir   über...   \n",
       "4766   FAZIT: Hinsichtlich experimenteller Sounds kan...   \n",
       "1663   FAZIT: Wenn Schönheit und musikalische Eleganz...   \n",
       "2954   FAZIT: Der metallisch-progressiv-alternative M...   \n",
       "5458   FAZIT: Das B-Movie unter den Prog-Metal-Epigon...   \n",
       "8003   FAZIT: In der Anwartschaft auf den Titel des b...   \n",
       "1985   FAZIT: Die Hardrock-Scheibe des Jahres? Bis je...   \n",
       "1219   FAZIT: Hört jetzt rein und wisst später über d...   \n",
       "4901   FAZIT: Für SUSPYRE gilt aktuell, ihre Bemühung...   \n",
       "7965   FAZIT: Elf Punkte gibt es für die Musik, einen...   \n",
       "11263  FAZIT:   sind noch nicht am Zenit ihrer Leistu...   \n",
       "7955   FAZIT: Persönlich würde ich mir „ “ wohl nicht...   \n",
       "4476   FAZIT: „ “ ist ein geschmeidiges Sommeralbum. ...   \n",
       "7049   FAZIT: „ “ ist eine geschlossene Scheibe moder...   \n",
       "11129  Fazit: Guter Testlauf einer Hoffnung im Bereic...   \n",
       "9657   FAZIT: Das Zweitwerk von   ist ein durchaus hö...   \n",
       "8566   FAZIT: Die Idee ist nach wie vor genial.   hab...   \n",
       "871    FAZIT: … diese Ausbunde an Unbeschwertheit, de...   \n",
       "6990   FAZIT: Schwedischer Death Metal aus den US of ...   \n",
       "6860   FAZIT: Nachdem   einige Zeit lang auf recht ho...   \n",
       "5073   FAZIT: Wer Irish Folk mag, saubere Satzgesänge...   \n",
       "7484   FAZIT: Nach ABRETE GANDUL und THE NERVE INSTIT...   \n",
       "7273   FAZIT: „I, The Phoenix“ (nur echt mit 3D-Brill...   \n",
       "5907   FAZIT: Wer sich einen abwechslungsreichen Hybr...   \n",
       "6465   FAZIT: „ “ bietet neun Mal kompetent dargebote...   \n",
       "7307   FAZIT. „ “ ist eine gefühlsintensive und rohe ...   \n",
       "7136   FAZIT: „Paal“ zählt zu den interessanteren Aus...   \n",
       "5795   FAZIT: Ohne großes Gewese um momentane Mode-We...   \n",
       "5338   FAZIT: Schnell, lässig und souverän zockt sich...   \n",
       "11071  FAZIT: Ein beängstigend guter Einstieg für die...   \n",
       "...                                                  ...   \n",
       "12002  FAZIT:   spielen auf ihrem neusten Werk Gothic...   \n",
       "12850  FAZIT: Gothic Metal, welcher der Form genügt, ...   \n",
       "11999  FAZIT:   sitzen zwischen den Stühlen und könne...   \n",
       "11625  FAZIT: Wer als AOR-Freak stets ein besonderes ...   \n",
       "3362   FAZIT:   tönen von vorne bis hinten wie ein un...   \n",
       "3418   FAZIT: Dass   20 Jahre brauchten, um ihr Debüt...   \n",
       "2561   FAZIT: Musikalisch ist „ “ weitgehend solide b...   \n",
       "6889   FAZIT: \" \" ist kein schlechtes, aber ein reich...   \n",
       "1269   FAZIT: Daumen runter, und da   den Vergleich s...   \n",
       "10303  FAZIT: Sicherlich liegt das Niveau der Herren ...   \n",
       "3841   FAZIT: Sperrige, kalte Kost für Leute, die es ...   \n",
       "8226   FAZIT:   spielen mit \" \" in der dritten Rotzro...   \n",
       "5524   FAZIT: Joy Frempong und Philippe Ehinger sprec...   \n",
       "8604   FAZIT: „ “ ist leider deutlich schwächer ausge...   \n",
       "8732   FAZIT:   pfriemeln Martial Industrial zum eins...   \n",
       "5950   FAZIT: Dass   noch nicht großartig von sich re...   \n",
       "9824   FAZIT:   spielen als gerade eben okay durchgeh...   \n",
       "6101         FAZIT: Alles Scheiße? Okay, aber ohne mich.   \n",
       "10604  FAZIT: „ “ enthält eine Mischung aus überwiege...   \n",
       "3668   FAZIT: Wem AURA NOIR, DESASTER und NOCTURNAL B...   \n",
       "7336   FAZIT: Musik wie ein weißes, glattgebügeltes B...   \n",
       "7298   FAZIT:   unterhalten auf „ “ nur wenig – 80 % ...   \n",
       "11473  FAZIT: Nicht gerade der Weisheit letzter Spruc...   \n",
       "4370   FAZIT:   sind ehrliche Arbeiter, mit Verlaub, ...   \n",
       "9537   FAZIT: Überwiegend uninspirierter Neuaufguss a...   \n",
       "12868  FAZIT: Kurzer Augenblick der Überraschung, dan...   \n",
       "5411   FAZIT: „ “ ist im Smallstone-Katalog ein einfa...   \n",
       "790    FAZIT: Nörgler winken auch weiterhin ab, wenn ...   \n",
       "11142  Fazit: \" \" wird als prätentiöse Rock-(?)Oper n...   \n",
       "3230   FAZIT: \" \" geht für zartbesaitete Szene-Wächte...   \n",
       "\n",
       "                                                    Text Positiv  \n",
       "11964  Sechs Songs in rund 22 Minuten, davon einer do...    True  \n",
       "4766   Es ist unbestreitbar, dass  s Stammband UNDERW...    True  \n",
       "1663   Russland, das Land der „lupenreinen Demokraten...    True  \n",
       "2954   \" \" ist optisch nicht mehr ganz so pompös wie ...    True  \n",
       "5458   Eine traurige Nachricht überschattet die Veröf...    True  \n",
       "8003   In den ersten Sekunden rumpelt 80er-Jahre-Hard...    True  \n",
       "1985   Es gibt Leute, für die ist Brian Johnson auch ...    True  \n",
       "1219   Karisma, norwegische Band, was sonst? Neu ist,...    True  \n",
       "4901   2012 warteten SUSPYRE aus New Jersey in Eigeni...    True  \n",
       "7965   Das letzte Album von   erschien vor über zehn ...    True  \n",
       "11263  Gute zehn Jahre sind   inzwischen im Business ...    True  \n",
       "7955   Ob   kompatibel mit dem Geschmack des Großteil...    True  \n",
       "4476   „ “ ist die Neuauflage des Debüts (s.u.) der j...    True  \n",
       "7049   Sicherlich waren und sind   eine Zusammenrottu...    True  \n",
       "11129  Hinter diesem in thematische A- und B-Seite ge...    True  \n",
       "9657   Bei “ ” handelt es sich um das zweite Album de...    True  \n",
       "8566   Als mir das  -Debüt vor etwa zwei Jahren auf d...    True  \n",
       "871    Mal keinen Pseudo-Außenseiter-Deutschrock mit ...    True  \n",
       "6990   Manchmal ist es gut, nicht seinen Arsch zu ver...    True  \n",
       "6860   Same procedure as every year. Auch im April 20...    True  \n",
       "5073   Wer nicht bereits nach dem ersten Hördurchgang...    True  \n",
       "7484   Wie anders als „ “ hätte man diese Doppel-CD b...    True  \n",
       "7273   Mit I, THE PHOENIX macht die französischsprach...    True  \n",
       "5907   Na, hast du vor gut drei Jahren auch „interess...    True  \n",
       "6465   Die   wurden 1997 in Italien gegründet. Und zw...    True  \n",
       "7307   OCHS' Solosachen sind vornehmlich Liebhabern b...    True  \n",
       "7136   Christophe Mevel, „hauptberuflich“ Teil des DA...    True  \n",
       "5795   Trend hin oder her und die wachsende Gefahr de...    True  \n",
       "5338   Vorgänger „The Last Goodbye“ war kein Abschied...    True  \n",
       "11071  Inflationär werden wir derzeit mit neuen \"Supe...    True  \n",
       "...                                                  ...     ...  \n",
       "12002  Es ist kein Geheimnis, dass die meisten Bands,...   False  \n",
       "12850  Diese Schweizer folgen der südeuropäischen Hor...   False  \n",
       "11999  Laut eigener Aussage spielen   aus North Carol...   False  \n",
       "11625  Oh je, was ist das denn für 'ne kitschige Star...   False  \n",
       "3362   Kein Geringerer als Alan Parsons half bei der ...   False  \n",
       "3418   Vor ziemlich genau 20 Jahren gründete sich im ...   False  \n",
       "2561   Die Zutaten klingen erst einmal gar nicht schl...   False  \n",
       "6889   Die (rhetorische) Frage nach der Authentizität...   False  \n",
       "1269   Dass in den französischen Banlieues einiges im...   False  \n",
       "10303  „Viel Blabla um nichts“ könnte man sagen, wenn...   False  \n",
       "3841   Aus dem norwegischen Black-Metal-Duo ist ein Q...   False  \n",
       "8226   Ein amerikanisches Trio in den Fußstapfen neuz...   False  \n",
       "5524   Man kennt es aus anderen Genres: Musiker pfleg...   False  \n",
       "8604   Das selbstbetitelte  -Debüt von 2009 gefällt m...   False  \n",
       "8732   Als hätte es einer LAIBACH-Kopie aus Russland ...   False  \n",
       "5950   25 Jahre und immer noch kein Gespür fürs Optis...   False  \n",
       "9824   Von Rhode Island aus suchen uns   mit angeblic...   False  \n",
       "6101   Ungefähr eine klassische LP-Länge lang walzt d...   False  \n",
       "10604  Bei   handelt es sich um ein Projekt des schwe...   False  \n",
       "3668   Seit der Veröffentlichung ihres ersten Demos i...   False  \n",
       "7336   Der Hinweis auf 45 Gold- und Platinauszeichnun...   False  \n",
       "7298   Mit   ist das so eine Sache: Der Thüringer Hau...   False  \n",
       "11473  Ihre “Hooks” sind “catchy”, ihre “Beats” sind ...   False  \n",
       "4370   Auf ihrer dritten Veröffentlichung verfeinert ...   False  \n",
       "9537   Selbstplagiat? Den Vorwurf braucht's eigentlic...   False  \n",
       "12868  Spinefarm sitzen im Glashaus und werfen mit Pr...   False  \n",
       "5411   „ “ … menschlich … Ja, Bewunderung ist menschl...   False  \n",
       "790    Nicht viel ändert sich bei der Bewertung des N...   False  \n",
       "11142  Es ist ein undankbares Unterfangen, ohne finan...   False  \n",
       "3230   Für sein viertes Soloalbum hat Ex-GALAHAD-Tief...   False  \n",
       "\n",
       "[9036 rows x 5 columns]"
      ]
     },
     "execution_count": 28,
     "metadata": {},
     "output_type": "execute_result"
    }
   ],
   "source": [
    "#Einfügen positiv Spalte und Text\n",
    "#music_positiv = music[music.rating.isin(['8', '9', '10', '11', '12', '13', '14', '15'])]\n",
    "#music_negativ = music[music.rating.isin(['1', '2', '3', '4', '5', '6', '7'])]\n",
    "train_music['Text'] = (music.description + music.summary)\n",
    "#train_music.reset_index(inplace=True)\n",
    "train_music['Positiv'] = (music.rating.isin(['8', '9', '10', '11', '12', '13', '14', '15']))\n",
    "train_music"
   ]
  },
  {
   "cell_type": "code",
   "execution_count": 29,
   "metadata": {
    "collapsed": false
   },
   "outputs": [
    {
     "data": {
      "text/html": [
       "<div>\n",
       "<table border=\"1\" class=\"dataframe\">\n",
       "  <thead>\n",
       "    <tr style=\"text-align: right;\">\n",
       "      <th></th>\n",
       "      <th>description</th>\n",
       "      <th>rating</th>\n",
       "      <th>summary</th>\n",
       "      <th>Text</th>\n",
       "      <th>Positiv</th>\n",
       "    </tr>\n",
       "  </thead>\n",
       "  <tbody>\n",
       "    <tr>\n",
       "      <th>1</th>\n",
       "      <td>Der Sticker auf dieser   offeriert uns sofort,...</td>\n",
       "      <td>-</td>\n",
       "      <td>FAZIT: Der holländische Hardcore-Fünfer SUPERH...</td>\n",
       "      <td>Der Sticker auf dieser   offeriert uns sofort,...</td>\n",
       "      <td>False</td>\n",
       "    </tr>\n",
       "    <tr>\n",
       "      <th>3</th>\n",
       "      <td>Ein abschreckender Titel! Abschreckend für all...</td>\n",
       "      <td>-</td>\n",
       "      <td>FAZIT: Das Doppelalbum „Ballett 1 &amp; 2“ von   e...</td>\n",
       "      <td>Ein abschreckender Titel! Abschreckend für all...</td>\n",
       "      <td>False</td>\n",
       "    </tr>\n",
       "    <tr>\n",
       "      <th>4</th>\n",
       "      <td>„Der Instrumental-König entfesselt einen Monsu...</td>\n",
       "      <td>12</td>\n",
       "      <td>FAZIT: So sollte klassischer instrumentaler Pr...</td>\n",
       "      <td>„Der Instrumental-König entfesselt einen Monsu...</td>\n",
       "      <td>True</td>\n",
       "    </tr>\n",
       "    <tr>\n",
       "      <th>8</th>\n",
       "      <td>Drei Jahre Zeit steckten   in dieses erste Alb...</td>\n",
       "      <td>11</td>\n",
       "      <td>FAZIT: Überdurchschnittlich gute Platte im zei...</td>\n",
       "      <td>Drei Jahre Zeit steckten   in dieses erste Alb...</td>\n",
       "      <td>True</td>\n",
       "    </tr>\n",
       "    <tr>\n",
       "      <th>9</th>\n",
       "      <td>Als Garant für Roots Rock von hoher Güte gilt ...</td>\n",
       "      <td>10</td>\n",
       "      <td>FAZIT:  s aktuelles Album ist ein durchweg tra...</td>\n",
       "      <td>Als Garant für Roots Rock von hoher Güte gilt ...</td>\n",
       "      <td>True</td>\n",
       "    </tr>\n",
       "    <tr>\n",
       "      <th>14</th>\n",
       "      <td>Was   vom Einerlei der Folkrock und -Metal-Sch...</td>\n",
       "      <td>8</td>\n",
       "      <td>FAZIT:    nehmen ihre Musik ernster als sich s...</td>\n",
       "      <td>Was   vom Einerlei der Folkrock und -Metal-Sch...</td>\n",
       "      <td>True</td>\n",
       "    </tr>\n",
       "    <tr>\n",
       "      <th>18</th>\n",
       "      <td>PROJECT ARMAGEDDON aus dem texanischen Houston...</td>\n",
       "      <td>-</td>\n",
       "      <td>FAZIT: Traditioneller Doom Metal mit nicht bew...</td>\n",
       "      <td>PROJECT ARMAGEDDON aus dem texanischen Houston...</td>\n",
       "      <td>False</td>\n",
       "    </tr>\n",
       "    <tr>\n",
       "      <th>22</th>\n",
       "      <td>Mit ihrer näselnden Stimme und aufgrund der Ar...</td>\n",
       "      <td>7</td>\n",
       "      <td>FAZIT: Aus der irischen Provinz und dennoch ve...</td>\n",
       "      <td>Mit ihrer näselnden Stimme und aufgrund der Ar...</td>\n",
       "      <td>False</td>\n",
       "    </tr>\n",
       "    <tr>\n",
       "      <th>25</th>\n",
       "      <td>Konzertdarbietungen fing   bislang stets im in...</td>\n",
       "      <td>-</td>\n",
       "      <td>FAZIT: Mit \" \" bringt   - 62 Jahre jung - nich...</td>\n",
       "      <td>Konzertdarbietungen fing   bislang stets im in...</td>\n",
       "      <td>False</td>\n",
       "    </tr>\n",
       "    <tr>\n",
       "      <th>26</th>\n",
       "      <td>Nach der beeindruckenden Entwicklung zum Garan...</td>\n",
       "      <td>-</td>\n",
       "      <td>FAZIT: Ehrlich, in dieser Form sind   unschlag...</td>\n",
       "      <td>Nach der beeindruckenden Entwicklung zum Garan...</td>\n",
       "      <td>False</td>\n",
       "    </tr>\n",
       "    <tr>\n",
       "      <th>27</th>\n",
       "      <td>Nichts Neues im Bereich schwer und rau bieten ...</td>\n",
       "      <td>9</td>\n",
       "      <td>FAZIT:   sind ein hoffnungsvoller Sludge-Post-...</td>\n",
       "      <td>Nichts Neues im Bereich schwer und rau bieten ...</td>\n",
       "      <td>True</td>\n",
       "    </tr>\n",
       "    <tr>\n",
       "      <th>32</th>\n",
       "      <td>„Dreams“ beginnt mit einem elektronischen Tusc...</td>\n",
       "      <td>-</td>\n",
       "      <td>FAZIT: Trotz des japanophilen Covers darf man ...</td>\n",
       "      <td>„Dreams“ beginnt mit einem elektronischen Tusc...</td>\n",
       "      <td>False</td>\n",
       "    </tr>\n",
       "    <tr>\n",
       "      <th>34</th>\n",
       "      <td>Mit ihrem sehr erfolgreichen Zweitwerk “I Am K...</td>\n",
       "      <td>11</td>\n",
       "      <td>FAZIT: Keine andere Band birgt wohl so viel Po...</td>\n",
       "      <td>Mit ihrem sehr erfolgreichen Zweitwerk “I Am K...</td>\n",
       "      <td>True</td>\n",
       "    </tr>\n",
       "    <tr>\n",
       "      <th>36</th>\n",
       "      <td>Die Mütter dieser schwedischen Band haben Rock...</td>\n",
       "      <td>-</td>\n",
       "      <td>FAZIT: In Schweden und ganz Skandinavien gelte...</td>\n",
       "      <td>Die Mütter dieser schwedischen Band haben Rock...</td>\n",
       "      <td>False</td>\n",
       "    </tr>\n",
       "    <tr>\n",
       "      <th>38</th>\n",
       "      <td>Sihna Maagé wird als niedlicher Pop-Stern darg...</td>\n",
       "      <td>-</td>\n",
       "      <td>FAZIT:   darf im deutschen Pop-Tagesgeschäft i...</td>\n",
       "      <td>Sihna Maagé wird als niedlicher Pop-Stern darg...</td>\n",
       "      <td>False</td>\n",
       "    </tr>\n",
       "    <tr>\n",
       "      <th>42</th>\n",
       "      <td>So, 14 Tage sind um und da ist es wieder höchs...</td>\n",
       "      <td>-</td>\n",
       "      <td></td>\n",
       "      <td>So, 14 Tage sind um und da ist es wieder höchs...</td>\n",
       "      <td>False</td>\n",
       "    </tr>\n",
       "    <tr>\n",
       "      <th>43</th>\n",
       "      <td>Eins steht schonmal so fest wie das „Amen!“ in...</td>\n",
       "      <td>-</td>\n",
       "      <td>FAZIT: „Ich dachte, es wäre großartig, diese M...</td>\n",
       "      <td>Eins steht schonmal so fest wie das „Amen!“ in...</td>\n",
       "      <td>False</td>\n",
       "    </tr>\n",
       "    <tr>\n",
       "      <th>46</th>\n",
       "      <td>Bedrohliche (oder bedrohte und verängstigte) K...</td>\n",
       "      <td>11</td>\n",
       "      <td>FAZIT: „ “ des norwegischen Stoner-Rock- und M...</td>\n",
       "      <td>Bedrohliche (oder bedrohte und verängstigte) K...</td>\n",
       "      <td>True</td>\n",
       "    </tr>\n",
       "    <tr>\n",
       "      <th>47</th>\n",
       "      <td>Dass   Death Metal spielen, ist unschwer zu er...</td>\n",
       "      <td>10</td>\n",
       "      <td>FAZIT:   wissen um die Tradition des Death Met...</td>\n",
       "      <td>Dass   Death Metal spielen, ist unschwer zu er...</td>\n",
       "      <td>True</td>\n",
       "    </tr>\n",
       "    <tr>\n",
       "      <th>48</th>\n",
       "      <td>Drei Jahre nach ihrem Debüt legen   eine hörba...</td>\n",
       "      <td>-</td>\n",
       "      <td>FAZIT: File under ALTER BRIDGE, STONE SOUR, ST...</td>\n",
       "      <td>Drei Jahre nach ihrem Debüt legen   eine hörba...</td>\n",
       "      <td>False</td>\n",
       "    </tr>\n",
       "    <tr>\n",
       "      <th>52</th>\n",
       "      <td>Erwachsen gewordene Punkrocker oder zumindest ...</td>\n",
       "      <td>10</td>\n",
       "      <td>FAZIT: … hier haben wir es mit einem autarken ...</td>\n",
       "      <td>Erwachsen gewordene Punkrocker oder zumindest ...</td>\n",
       "      <td>True</td>\n",
       "    </tr>\n",
       "    <tr>\n",
       "      <th>53</th>\n",
       "      <td>NTH ASCENSION schwelgen auf ihrem zweiten Albu...</td>\n",
       "      <td>9</td>\n",
       "      <td>FAZIT:    spielen Neoprog von der Stange, aber...</td>\n",
       "      <td>NTH ASCENSION schwelgen auf ihrem zweiten Albu...</td>\n",
       "      <td>True</td>\n",
       "    </tr>\n",
       "    <tr>\n",
       "      <th>54</th>\n",
       "      <td>Wir schreiben das Jahr 2017 – ein Jahr voller ...</td>\n",
       "      <td>-</td>\n",
       "      <td>FAZIT: Neues Jahr, neues FINEST NOISE-Sampler-...</td>\n",
       "      <td>Wir schreiben das Jahr 2017 – ein Jahr voller ...</td>\n",
       "      <td>False</td>\n",
       "    </tr>\n",
       "    <tr>\n",
       "      <th>57</th>\n",
       "      <td>Nach langjährigem Einsatz für einige Metal-Fan...</td>\n",
       "      <td>-</td>\n",
       "      <td>FAZIT: Man muss schon ein bisschen verrückt se...</td>\n",
       "      <td>Nach langjährigem Einsatz für einige Metal-Fan...</td>\n",
       "      <td>False</td>\n",
       "    </tr>\n",
       "    <tr>\n",
       "      <th>60</th>\n",
       "      <td>Use Your Head Something happened  It made you ...</td>\n",
       "      <td>-</td>\n",
       "      <td>FAZIT: Re-Release des Posi-Hardcore-Klassikers...</td>\n",
       "      <td>Use Your Head Something happened  It made you ...</td>\n",
       "      <td>False</td>\n",
       "    </tr>\n",
       "    <tr>\n",
       "      <th>62</th>\n",
       "      <td>In wem „Der Geist von SIREENA“ lebt, in dem le...</td>\n",
       "      <td>-</td>\n",
       "      <td>FAZIT: Geiles Krautgemisch aus dem Hause SIREE...</td>\n",
       "      <td>In wem „Der Geist von SIREENA“ lebt, in dem le...</td>\n",
       "      <td>False</td>\n",
       "    </tr>\n",
       "    <tr>\n",
       "      <th>64</th>\n",
       "      <td>Mit gut sechsunddreißig Minuten ist „ “, das z...</td>\n",
       "      <td>10</td>\n",
       "      <td>FAZIT:  Mit ihrem zweiten Studioalbum setzen s...</td>\n",
       "      <td>Mit gut sechsunddreißig Minuten ist „ “, das z...</td>\n",
       "      <td>True</td>\n",
       "    </tr>\n",
       "    <tr>\n",
       "      <th>66</th>\n",
       "      <td>„Moondawn“ (1976) und „Body Love“ (1977) waren...</td>\n",
       "      <td>-</td>\n",
       "      <td>FAZIT: „Die Platte sollte Themen wie Eiszeit, ...</td>\n",
       "      <td>„Moondawn“ (1976) und „Body Love“ (1977) waren...</td>\n",
       "      <td>False</td>\n",
       "    </tr>\n",
       "    <tr>\n",
       "      <th>81</th>\n",
       "      <td>Mein lieber Mann, wie schnell doch die Zeit ve...</td>\n",
       "      <td>-</td>\n",
       "      <td>FAZIT: Ein unverzichtbares Live-Meisterwerk in...</td>\n",
       "      <td>Mein lieber Mann, wie schnell doch die Zeit ve...</td>\n",
       "      <td>False</td>\n",
       "    </tr>\n",
       "    <tr>\n",
       "      <th>82</th>\n",
       "      <td>Auf   neuem Album „ “ ist der Titel Programm. ...</td>\n",
       "      <td>8</td>\n",
       "      <td>FAZIT:  Es ist natürlich eine Binsenweisheit, ...</td>\n",
       "      <td>Auf   neuem Album „ “ ist der Titel Programm. ...</td>\n",
       "      <td>True</td>\n",
       "    </tr>\n",
       "    <tr>\n",
       "      <th>...</th>\n",
       "      <td>...</td>\n",
       "      <td>...</td>\n",
       "      <td>...</td>\n",
       "      <td>...</td>\n",
       "      <td>...</td>\n",
       "    </tr>\n",
       "    <tr>\n",
       "      <th>13617</th>\n",
       "      <td>Harte Musik aus Deutschland gibt es gar nicht ...</td>\n",
       "      <td>-</td>\n",
       "      <td>FAZIT: Satte Produktion alleine hilft nicht, u...</td>\n",
       "      <td>Harte Musik aus Deutschland gibt es gar nicht ...</td>\n",
       "      <td>False</td>\n",
       "    </tr>\n",
       "    <tr>\n",
       "      <th>13618</th>\n",
       "      <td>Mal wieder \"Adult Orientated Rock\" - Wie \"adul...</td>\n",
       "      <td>-</td>\n",
       "      <td>FAZIT: Hört man Musik nach Sparten und zählt S...</td>\n",
       "      <td>Mal wieder \"Adult Orientated Rock\" - Wie \"adul...</td>\n",
       "      <td>False</td>\n",
       "    </tr>\n",
       "    <tr>\n",
       "      <th>13619</th>\n",
       "      <td>Die Band um Mastermind Rick Plester (g.) sorgt...</td>\n",
       "      <td>-</td>\n",
       "      <td>FAZIT: es ist schwierig, dem Hard-/Melodic Roc...</td>\n",
       "      <td>Die Band um Mastermind Rick Plester (g.) sorgt...</td>\n",
       "      <td>False</td>\n",
       "    </tr>\n",
       "    <tr>\n",
       "      <th>13621</th>\n",
       "      <td>B.E.N.T. spielen Progressive Metal mit einigen...</td>\n",
       "      <td>-</td>\n",
       "      <td>FAZIT: Wieder mal ein gelungenes Debut, das fa...</td>\n",
       "      <td>B.E.N.T. spielen Progressive Metal mit einigen...</td>\n",
       "      <td>False</td>\n",
       "    </tr>\n",
       "    <tr>\n",
       "      <th>13622</th>\n",
       "      <td>Seit die spanische Lok auch verstärkt durch Ze...</td>\n",
       "      <td>9</td>\n",
       "      <td>FAZIT: Zu Stoßzeiten ist es schwierig, noch ei...</td>\n",
       "      <td>Seit die spanische Lok auch verstärkt durch Ze...</td>\n",
       "      <td>True</td>\n",
       "    </tr>\n",
       "    <tr>\n",
       "      <th>13623</th>\n",
       "      <td>Das Land er tausend Seen scheint einen unendli...</td>\n",
       "      <td>-</td>\n",
       "      <td>FAZIT: Melodien gut, technisch solide, Produkt...</td>\n",
       "      <td>Das Land er tausend Seen scheint einen unendli...</td>\n",
       "      <td>False</td>\n",
       "    </tr>\n",
       "    <tr>\n",
       "      <th>13625</th>\n",
       "      <td>Nach einer Pause in den traditionellem Rock fe...</td>\n",
       "      <td>-</td>\n",
       "      <td>FAZIT: \"Ultimate\" ist hier gar nichts - vom Co...</td>\n",
       "      <td>Nach einer Pause in den traditionellem Rock fe...</td>\n",
       "      <td>False</td>\n",
       "    </tr>\n",
       "    <tr>\n",
       "      <th>13627</th>\n",
       "      <td>Jaja, diese Appetizer - es wird niemand ernsth...</td>\n",
       "      <td>-</td>\n",
       "      <td>FAZIT: Harren wir der Dinge, die da kommen wer...</td>\n",
       "      <td>Jaja, diese Appetizer - es wird niemand ernsth...</td>\n",
       "      <td>False</td>\n",
       "    </tr>\n",
       "    <tr>\n",
       "      <th>13628</th>\n",
       "      <td>Die harte Seite des Konzepts von der Reise dur...</td>\n",
       "      <td>-</td>\n",
       "      <td>FAZIT: Der \"Migrator\" - Stoff fällt im Gegensa...</td>\n",
       "      <td>Die harte Seite des Konzepts von der Reise dur...</td>\n",
       "      <td>False</td>\n",
       "    </tr>\n",
       "    <tr>\n",
       "      <th>13629</th>\n",
       "      <td>Ayreon war noch nie eine normale Band. Die ein...</td>\n",
       "      <td>-</td>\n",
       "      <td>FAZIT: Jedem, der melodiösen Progressive Kläng...</td>\n",
       "      <td>Ayreon war noch nie eine normale Band. Die ein...</td>\n",
       "      <td>False</td>\n",
       "    </tr>\n",
       "    <tr>\n",
       "      <th>13630</th>\n",
       "      <td>Nach dem unauffälligen \"Actual Fantasy\" kommt ...</td>\n",
       "      <td>-</td>\n",
       "      <td>FAZIT: Liebhaber der großen Seventies-Epen wer...</td>\n",
       "      <td>Nach dem unauffälligen \"Actual Fantasy\" kommt ...</td>\n",
       "      <td>False</td>\n",
       "    </tr>\n",
       "    <tr>\n",
       "      <th>13631</th>\n",
       "      <td>Das Debut von Arjen Lucassens Projekt gefällt ...</td>\n",
       "      <td>-</td>\n",
       "      <td>FAZIT: Geiles Lebenszeichen dieser für tot geg...</td>\n",
       "      <td>Das Debut von Arjen Lucassens Projekt gefällt ...</td>\n",
       "      <td>False</td>\n",
       "    </tr>\n",
       "    <tr>\n",
       "      <th>13632</th>\n",
       "      <td>Das ist bisher die einzige Platte der Süddeuts...</td>\n",
       "      <td>-</td>\n",
       "      <td>FAZIT: Leider nur 08/15…ein typischer Genre-Re...</td>\n",
       "      <td>Das ist bisher die einzige Platte der Süddeuts...</td>\n",
       "      <td>False</td>\n",
       "    </tr>\n",
       "    <tr>\n",
       "      <th>13633</th>\n",
       "      <td>Das Album dieser spanischen Band gibt es auch ...</td>\n",
       "      <td>-</td>\n",
       "      <td>FAZIT: Kein Rat, dieses Album zu erwerben, den...</td>\n",
       "      <td>Das Album dieser spanischen Band gibt es auch ...</td>\n",
       "      <td>False</td>\n",
       "    </tr>\n",
       "    <tr>\n",
       "      <th>13634</th>\n",
       "      <td>Auf ihrem Debüt Album hauen   so richtig in di...</td>\n",
       "      <td>-</td>\n",
       "      <td>FAZIT: Der einzige Kritikpunkt wäre, daß das A...</td>\n",
       "      <td>Auf ihrem Debüt Album hauen   so richtig in di...</td>\n",
       "      <td>False</td>\n",
       "    </tr>\n",
       "    <tr>\n",
       "      <th>13635</th>\n",
       "      <td>Artrosis machen es einem wirklich nicht leicht...</td>\n",
       "      <td>-</td>\n",
       "      <td>FAZIT: Eine eher glanzlose Gothic/Dark Wave Sc...</td>\n",
       "      <td>Artrosis machen es einem wirklich nicht leicht...</td>\n",
       "      <td>False</td>\n",
       "    </tr>\n",
       "    <tr>\n",
       "      <th>13636</th>\n",
       "      <td>Daß   schon immer ein Garant für edelsten Prog...</td>\n",
       "      <td>-</td>\n",
       "      <td>Fazit: Wie schon der Vorgänger \"The Visitor\" b...</td>\n",
       "      <td>Daß   schon immer ein Garant für edelsten Prog...</td>\n",
       "      <td>False</td>\n",
       "    </tr>\n",
       "    <tr>\n",
       "      <th>13637</th>\n",
       "      <td>Dieses Konzeptalbum der Band um ex-Marillion D...</td>\n",
       "      <td>-</td>\n",
       "      <td>FAZIT: Eines der besten Konzeptalben des letzt...</td>\n",
       "      <td>Dieses Konzeptalbum der Band um ex-Marillion D...</td>\n",
       "      <td>False</td>\n",
       "    </tr>\n",
       "    <tr>\n",
       "      <th>13638</th>\n",
       "      <td>Der Vorgänger zu \"The Visitor\" ist kein solche...</td>\n",
       "      <td>-</td>\n",
       "      <td>FAZIT: Die Zeit ist noch nicht reif für die Gr...</td>\n",
       "      <td>Der Vorgänger zu \"The Visitor\" ist kein solche...</td>\n",
       "      <td>False</td>\n",
       "    </tr>\n",
       "    <tr>\n",
       "      <th>13639</th>\n",
       "      <td>Die Geschichte der Band mit dem unausprechlich...</td>\n",
       "      <td>12</td>\n",
       "      <td>FAZIT: Genial düster morbider Instrumentaltrip...</td>\n",
       "      <td>Die Geschichte der Band mit dem unausprechlich...</td>\n",
       "      <td>True</td>\n",
       "    </tr>\n",
       "    <tr>\n",
       "      <th>13640</th>\n",
       "      <td>Ich käme mir ziemlich blöd vor, wenn mein Labe...</td>\n",
       "      <td>-</td>\n",
       "      <td>FAZIT: Das Problem, nicht über die gesamte Alb...</td>\n",
       "      <td>Ich käme mir ziemlich blöd vor, wenn mein Labe...</td>\n",
       "      <td>False</td>\n",
       "    </tr>\n",
       "    <tr>\n",
       "      <th>13641</th>\n",
       "      <td>Eine US-Band auf 'nem dänischen Label? - Nun j...</td>\n",
       "      <td>-</td>\n",
       "      <td>FAZIT: Guter Debutsilberling, der sich aber no...</td>\n",
       "      <td>Eine US-Band auf 'nem dänischen Label? - Nun j...</td>\n",
       "      <td>False</td>\n",
       "    </tr>\n",
       "    <tr>\n",
       "      <th>13642</th>\n",
       "      <td>Auch wenn diese Scheibe oberflächlich eher Met...</td>\n",
       "      <td>-</td>\n",
       "      <td>FAZIT: Der Zenit der Band wurde schon mit dem ...</td>\n",
       "      <td>Auch wenn diese Scheibe oberflächlich eher Met...</td>\n",
       "      <td>False</td>\n",
       "    </tr>\n",
       "    <tr>\n",
       "      <th>13643</th>\n",
       "      <td>Wieder so eine typische EP, die den das prädik...</td>\n",
       "      <td>-</td>\n",
       "      <td>FAZIT: Seichter Beitrag zur Geldmacherei, der ...</td>\n",
       "      <td>Wieder so eine typische EP, die den das prädik...</td>\n",
       "      <td>False</td>\n",
       "    </tr>\n",
       "    <tr>\n",
       "      <th>13644</th>\n",
       "      <td>Man sollte sich nicht davon abschrecken lassen...</td>\n",
       "      <td>-</td>\n",
       "      <td>FAZIT: Verdammt gut, was die Schweden hier bie...</td>\n",
       "      <td>Man sollte sich nicht davon abschrecken lassen...</td>\n",
       "      <td>False</td>\n",
       "    </tr>\n",
       "    <tr>\n",
       "      <th>13645</th>\n",
       "      <td>Eine Sangesdame, solide, weder Doro noch Diva ...</td>\n",
       "      <td>-</td>\n",
       "      <td>FAZIT: Dem Gott des AOR Heaven ist nichts Böse...</td>\n",
       "      <td>Eine Sangesdame, solide, weder Doro noch Diva ...</td>\n",
       "      <td>False</td>\n",
       "    </tr>\n",
       "    <tr>\n",
       "      <th>13647</th>\n",
       "      <td>Kurz nach dem Release ihrer Drei-Track-Mini-CD...</td>\n",
       "      <td>-</td>\n",
       "      <td>FAZIT: Mit \" \" hat die Mannheimer Formation ei...</td>\n",
       "      <td>Kurz nach dem Release ihrer Drei-Track-Mini-CD...</td>\n",
       "      <td>False</td>\n",
       "    </tr>\n",
       "    <tr>\n",
       "      <th>13648</th>\n",
       "      <td>Die bekanntesten, hier aufspielenden Musiker d...</td>\n",
       "      <td>-</td>\n",
       "      <td>FAZIT: Sehr originelle Musik, die Fans von The...</td>\n",
       "      <td>Die bekanntesten, hier aufspielenden Musiker d...</td>\n",
       "      <td>False</td>\n",
       "    </tr>\n",
       "    <tr>\n",
       "      <th>13650</th>\n",
       "      <td>Addison Project ist ein Projekt des Bassisten ...</td>\n",
       "      <td>-</td>\n",
       "      <td>FAZIT: Sehr entspanntes Jazz Rock Album, gut g...</td>\n",
       "      <td>Addison Project ist ein Projekt des Bassisten ...</td>\n",
       "      <td>False</td>\n",
       "    </tr>\n",
       "    <tr>\n",
       "      <th>13651</th>\n",
       "      <td>Haben sich da wieder mal ein paar Szenegrößen ...</td>\n",
       "      <td>-</td>\n",
       "      <td>FAZIT: Guter, harter Rock, manchmal an der Sch...</td>\n",
       "      <td>Haben sich da wieder mal ein paar Szenegrößen ...</td>\n",
       "      <td>False</td>\n",
       "    </tr>\n",
       "  </tbody>\n",
       "</table>\n",
       "<p>4616 rows × 5 columns</p>\n",
       "</div>"
      ],
      "text/plain": [
       "                                             description rating  \\\n",
       "1      Der Sticker auf dieser   offeriert uns sofort,...      -   \n",
       "3      Ein abschreckender Titel! Abschreckend für all...      -   \n",
       "4      „Der Instrumental-König entfesselt einen Monsu...     12   \n",
       "8      Drei Jahre Zeit steckten   in dieses erste Alb...     11   \n",
       "9      Als Garant für Roots Rock von hoher Güte gilt ...     10   \n",
       "14     Was   vom Einerlei der Folkrock und -Metal-Sch...      8   \n",
       "18     PROJECT ARMAGEDDON aus dem texanischen Houston...      -   \n",
       "22     Mit ihrer näselnden Stimme und aufgrund der Ar...      7   \n",
       "25     Konzertdarbietungen fing   bislang stets im in...      -   \n",
       "26     Nach der beeindruckenden Entwicklung zum Garan...      -   \n",
       "27     Nichts Neues im Bereich schwer und rau bieten ...      9   \n",
       "32     „Dreams“ beginnt mit einem elektronischen Tusc...      -   \n",
       "34     Mit ihrem sehr erfolgreichen Zweitwerk “I Am K...     11   \n",
       "36     Die Mütter dieser schwedischen Band haben Rock...      -   \n",
       "38     Sihna Maagé wird als niedlicher Pop-Stern darg...      -   \n",
       "42     So, 14 Tage sind um und da ist es wieder höchs...      -   \n",
       "43     Eins steht schonmal so fest wie das „Amen!“ in...      -   \n",
       "46     Bedrohliche (oder bedrohte und verängstigte) K...     11   \n",
       "47     Dass   Death Metal spielen, ist unschwer zu er...     10   \n",
       "48     Drei Jahre nach ihrem Debüt legen   eine hörba...      -   \n",
       "52     Erwachsen gewordene Punkrocker oder zumindest ...     10   \n",
       "53     NTH ASCENSION schwelgen auf ihrem zweiten Albu...      9   \n",
       "54     Wir schreiben das Jahr 2017 – ein Jahr voller ...      -   \n",
       "57     Nach langjährigem Einsatz für einige Metal-Fan...      -   \n",
       "60     Use Your Head Something happened  It made you ...      -   \n",
       "62     In wem „Der Geist von SIREENA“ lebt, in dem le...      -   \n",
       "64     Mit gut sechsunddreißig Minuten ist „ “, das z...     10   \n",
       "66     „Moondawn“ (1976) und „Body Love“ (1977) waren...      -   \n",
       "81     Mein lieber Mann, wie schnell doch die Zeit ve...      -   \n",
       "82     Auf   neuem Album „ “ ist der Titel Programm. ...      8   \n",
       "...                                                  ...    ...   \n",
       "13617  Harte Musik aus Deutschland gibt es gar nicht ...      -   \n",
       "13618  Mal wieder \"Adult Orientated Rock\" - Wie \"adul...      -   \n",
       "13619  Die Band um Mastermind Rick Plester (g.) sorgt...      -   \n",
       "13621  B.E.N.T. spielen Progressive Metal mit einigen...      -   \n",
       "13622  Seit die spanische Lok auch verstärkt durch Ze...      9   \n",
       "13623  Das Land er tausend Seen scheint einen unendli...      -   \n",
       "13625  Nach einer Pause in den traditionellem Rock fe...      -   \n",
       "13627  Jaja, diese Appetizer - es wird niemand ernsth...      -   \n",
       "13628  Die harte Seite des Konzepts von der Reise dur...      -   \n",
       "13629  Ayreon war noch nie eine normale Band. Die ein...      -   \n",
       "13630  Nach dem unauffälligen \"Actual Fantasy\" kommt ...      -   \n",
       "13631  Das Debut von Arjen Lucassens Projekt gefällt ...      -   \n",
       "13632  Das ist bisher die einzige Platte der Süddeuts...      -   \n",
       "13633  Das Album dieser spanischen Band gibt es auch ...      -   \n",
       "13634  Auf ihrem Debüt Album hauen   so richtig in di...      -   \n",
       "13635  Artrosis machen es einem wirklich nicht leicht...      -   \n",
       "13636  Daß   schon immer ein Garant für edelsten Prog...      -   \n",
       "13637  Dieses Konzeptalbum der Band um ex-Marillion D...      -   \n",
       "13638  Der Vorgänger zu \"The Visitor\" ist kein solche...      -   \n",
       "13639  Die Geschichte der Band mit dem unausprechlich...     12   \n",
       "13640  Ich käme mir ziemlich blöd vor, wenn mein Labe...      -   \n",
       "13641  Eine US-Band auf 'nem dänischen Label? - Nun j...      -   \n",
       "13642  Auch wenn diese Scheibe oberflächlich eher Met...      -   \n",
       "13643  Wieder so eine typische EP, die den das prädik...      -   \n",
       "13644  Man sollte sich nicht davon abschrecken lassen...      -   \n",
       "13645  Eine Sangesdame, solide, weder Doro noch Diva ...      -   \n",
       "13647  Kurz nach dem Release ihrer Drei-Track-Mini-CD...      -   \n",
       "13648  Die bekanntesten, hier aufspielenden Musiker d...      -   \n",
       "13650  Addison Project ist ein Projekt des Bassisten ...      -   \n",
       "13651  Haben sich da wieder mal ein paar Szenegrößen ...      -   \n",
       "\n",
       "                                                 summary  \\\n",
       "1      FAZIT: Der holländische Hardcore-Fünfer SUPERH...   \n",
       "3      FAZIT: Das Doppelalbum „Ballett 1 & 2“ von   e...   \n",
       "4      FAZIT: So sollte klassischer instrumentaler Pr...   \n",
       "8      FAZIT: Überdurchschnittlich gute Platte im zei...   \n",
       "9      FAZIT:  s aktuelles Album ist ein durchweg tra...   \n",
       "14     FAZIT:    nehmen ihre Musik ernster als sich s...   \n",
       "18     FAZIT: Traditioneller Doom Metal mit nicht bew...   \n",
       "22     FAZIT: Aus der irischen Provinz und dennoch ve...   \n",
       "25     FAZIT: Mit \" \" bringt   - 62 Jahre jung - nich...   \n",
       "26     FAZIT: Ehrlich, in dieser Form sind   unschlag...   \n",
       "27     FAZIT:   sind ein hoffnungsvoller Sludge-Post-...   \n",
       "32     FAZIT: Trotz des japanophilen Covers darf man ...   \n",
       "34     FAZIT: Keine andere Band birgt wohl so viel Po...   \n",
       "36     FAZIT: In Schweden und ganz Skandinavien gelte...   \n",
       "38     FAZIT:   darf im deutschen Pop-Tagesgeschäft i...   \n",
       "42                                                         \n",
       "43     FAZIT: „Ich dachte, es wäre großartig, diese M...   \n",
       "46     FAZIT: „ “ des norwegischen Stoner-Rock- und M...   \n",
       "47     FAZIT:   wissen um die Tradition des Death Met...   \n",
       "48     FAZIT: File under ALTER BRIDGE, STONE SOUR, ST...   \n",
       "52     FAZIT: … hier haben wir es mit einem autarken ...   \n",
       "53     FAZIT:    spielen Neoprog von der Stange, aber...   \n",
       "54     FAZIT: Neues Jahr, neues FINEST NOISE-Sampler-...   \n",
       "57     FAZIT: Man muss schon ein bisschen verrückt se...   \n",
       "60     FAZIT: Re-Release des Posi-Hardcore-Klassikers...   \n",
       "62     FAZIT: Geiles Krautgemisch aus dem Hause SIREE...   \n",
       "64     FAZIT:  Mit ihrem zweiten Studioalbum setzen s...   \n",
       "66     FAZIT: „Die Platte sollte Themen wie Eiszeit, ...   \n",
       "81     FAZIT: Ein unverzichtbares Live-Meisterwerk in...   \n",
       "82     FAZIT:  Es ist natürlich eine Binsenweisheit, ...   \n",
       "...                                                  ...   \n",
       "13617  FAZIT: Satte Produktion alleine hilft nicht, u...   \n",
       "13618  FAZIT: Hört man Musik nach Sparten und zählt S...   \n",
       "13619  FAZIT: es ist schwierig, dem Hard-/Melodic Roc...   \n",
       "13621  FAZIT: Wieder mal ein gelungenes Debut, das fa...   \n",
       "13622  FAZIT: Zu Stoßzeiten ist es schwierig, noch ei...   \n",
       "13623  FAZIT: Melodien gut, technisch solide, Produkt...   \n",
       "13625  FAZIT: \"Ultimate\" ist hier gar nichts - vom Co...   \n",
       "13627  FAZIT: Harren wir der Dinge, die da kommen wer...   \n",
       "13628  FAZIT: Der \"Migrator\" - Stoff fällt im Gegensa...   \n",
       "13629  FAZIT: Jedem, der melodiösen Progressive Kläng...   \n",
       "13630  FAZIT: Liebhaber der großen Seventies-Epen wer...   \n",
       "13631  FAZIT: Geiles Lebenszeichen dieser für tot geg...   \n",
       "13632  FAZIT: Leider nur 08/15…ein typischer Genre-Re...   \n",
       "13633  FAZIT: Kein Rat, dieses Album zu erwerben, den...   \n",
       "13634  FAZIT: Der einzige Kritikpunkt wäre, daß das A...   \n",
       "13635  FAZIT: Eine eher glanzlose Gothic/Dark Wave Sc...   \n",
       "13636  Fazit: Wie schon der Vorgänger \"The Visitor\" b...   \n",
       "13637  FAZIT: Eines der besten Konzeptalben des letzt...   \n",
       "13638  FAZIT: Die Zeit ist noch nicht reif für die Gr...   \n",
       "13639  FAZIT: Genial düster morbider Instrumentaltrip...   \n",
       "13640  FAZIT: Das Problem, nicht über die gesamte Alb...   \n",
       "13641  FAZIT: Guter Debutsilberling, der sich aber no...   \n",
       "13642  FAZIT: Der Zenit der Band wurde schon mit dem ...   \n",
       "13643  FAZIT: Seichter Beitrag zur Geldmacherei, der ...   \n",
       "13644  FAZIT: Verdammt gut, was die Schweden hier bie...   \n",
       "13645  FAZIT: Dem Gott des AOR Heaven ist nichts Böse...   \n",
       "13647  FAZIT: Mit \" \" hat die Mannheimer Formation ei...   \n",
       "13648  FAZIT: Sehr originelle Musik, die Fans von The...   \n",
       "13650  FAZIT: Sehr entspanntes Jazz Rock Album, gut g...   \n",
       "13651  FAZIT: Guter, harter Rock, manchmal an der Sch...   \n",
       "\n",
       "                                                    Text Positiv  \n",
       "1      Der Sticker auf dieser   offeriert uns sofort,...   False  \n",
       "3      Ein abschreckender Titel! Abschreckend für all...   False  \n",
       "4      „Der Instrumental-König entfesselt einen Monsu...    True  \n",
       "8      Drei Jahre Zeit steckten   in dieses erste Alb...    True  \n",
       "9      Als Garant für Roots Rock von hoher Güte gilt ...    True  \n",
       "14     Was   vom Einerlei der Folkrock und -Metal-Sch...    True  \n",
       "18     PROJECT ARMAGEDDON aus dem texanischen Houston...   False  \n",
       "22     Mit ihrer näselnden Stimme und aufgrund der Ar...   False  \n",
       "25     Konzertdarbietungen fing   bislang stets im in...   False  \n",
       "26     Nach der beeindruckenden Entwicklung zum Garan...   False  \n",
       "27     Nichts Neues im Bereich schwer und rau bieten ...    True  \n",
       "32     „Dreams“ beginnt mit einem elektronischen Tusc...   False  \n",
       "34     Mit ihrem sehr erfolgreichen Zweitwerk “I Am K...    True  \n",
       "36     Die Mütter dieser schwedischen Band haben Rock...   False  \n",
       "38     Sihna Maagé wird als niedlicher Pop-Stern darg...   False  \n",
       "42     So, 14 Tage sind um und da ist es wieder höchs...   False  \n",
       "43     Eins steht schonmal so fest wie das „Amen!“ in...   False  \n",
       "46     Bedrohliche (oder bedrohte und verängstigte) K...    True  \n",
       "47     Dass   Death Metal spielen, ist unschwer zu er...    True  \n",
       "48     Drei Jahre nach ihrem Debüt legen   eine hörba...   False  \n",
       "52     Erwachsen gewordene Punkrocker oder zumindest ...    True  \n",
       "53     NTH ASCENSION schwelgen auf ihrem zweiten Albu...    True  \n",
       "54     Wir schreiben das Jahr 2017 – ein Jahr voller ...   False  \n",
       "57     Nach langjährigem Einsatz für einige Metal-Fan...   False  \n",
       "60     Use Your Head Something happened  It made you ...   False  \n",
       "62     In wem „Der Geist von SIREENA“ lebt, in dem le...   False  \n",
       "64     Mit gut sechsunddreißig Minuten ist „ “, das z...    True  \n",
       "66     „Moondawn“ (1976) und „Body Love“ (1977) waren...   False  \n",
       "81     Mein lieber Mann, wie schnell doch die Zeit ve...   False  \n",
       "82     Auf   neuem Album „ “ ist der Titel Programm. ...    True  \n",
       "...                                                  ...     ...  \n",
       "13617  Harte Musik aus Deutschland gibt es gar nicht ...   False  \n",
       "13618  Mal wieder \"Adult Orientated Rock\" - Wie \"adul...   False  \n",
       "13619  Die Band um Mastermind Rick Plester (g.) sorgt...   False  \n",
       "13621  B.E.N.T. spielen Progressive Metal mit einigen...   False  \n",
       "13622  Seit die spanische Lok auch verstärkt durch Ze...    True  \n",
       "13623  Das Land er tausend Seen scheint einen unendli...   False  \n",
       "13625  Nach einer Pause in den traditionellem Rock fe...   False  \n",
       "13627  Jaja, diese Appetizer - es wird niemand ernsth...   False  \n",
       "13628  Die harte Seite des Konzepts von der Reise dur...   False  \n",
       "13629  Ayreon war noch nie eine normale Band. Die ein...   False  \n",
       "13630  Nach dem unauffälligen \"Actual Fantasy\" kommt ...   False  \n",
       "13631  Das Debut von Arjen Lucassens Projekt gefällt ...   False  \n",
       "13632  Das ist bisher die einzige Platte der Süddeuts...   False  \n",
       "13633  Das Album dieser spanischen Band gibt es auch ...   False  \n",
       "13634  Auf ihrem Debüt Album hauen   so richtig in di...   False  \n",
       "13635  Artrosis machen es einem wirklich nicht leicht...   False  \n",
       "13636  Daß   schon immer ein Garant für edelsten Prog...   False  \n",
       "13637  Dieses Konzeptalbum der Band um ex-Marillion D...   False  \n",
       "13638  Der Vorgänger zu \"The Visitor\" ist kein solche...   False  \n",
       "13639  Die Geschichte der Band mit dem unausprechlich...    True  \n",
       "13640  Ich käme mir ziemlich blöd vor, wenn mein Labe...   False  \n",
       "13641  Eine US-Band auf 'nem dänischen Label? - Nun j...   False  \n",
       "13642  Auch wenn diese Scheibe oberflächlich eher Met...   False  \n",
       "13643  Wieder so eine typische EP, die den das prädik...   False  \n",
       "13644  Man sollte sich nicht davon abschrecken lassen...   False  \n",
       "13645  Eine Sangesdame, solide, weder Doro noch Diva ...   False  \n",
       "13647  Kurz nach dem Release ihrer Drei-Track-Mini-CD...   False  \n",
       "13648  Die bekanntesten, hier aufspielenden Musiker d...   False  \n",
       "13650  Addison Project ist ein Projekt des Bassisten ...   False  \n",
       "13651  Haben sich da wieder mal ein paar Szenegrößen ...   False  \n",
       "\n",
       "[4616 rows x 5 columns]"
      ]
     },
     "execution_count": 29,
     "metadata": {},
     "output_type": "execute_result"
    }
   ],
   "source": [
    "test_music['Text'] = (music.description + music.summary)\n",
    "#test_music.reset_index(inplace=True)\n",
    "test_music['Positiv'] = (music.rating.isin(['8', '9', '10', '11', '12', '13', '14', '15']))\n",
    "test_music"
   ]
  },
  {
   "cell_type": "markdown",
   "metadata": {
    "collapsed": true
   },
   "source": [
    "# GAMES\n",
    "Vectorizing"
   ]
  },
  {
   "cell_type": "code",
   "execution_count": 113,
   "metadata": {
    "collapsed": false
   },
   "outputs": [
    {
     "data": {
      "text/plain": [
       "0.75987306064880111"
      ]
     },
     "execution_count": 113,
     "metadata": {},
     "output_type": "execute_result"
    }
   ],
   "source": [
    "#Vectorizer Games\n",
    "vectorizer = CountVectorizer(min_df=10, max_df=200, token_pattern='\\w+')\n",
    "vectorizer.fit(train_games.Text)\n",
    "\n",
    "X = vectorizer.transform(train_games.Text)\n",
    "y = train_games.Positiv\n",
    "clf = MultinomialNB().fit(X, y)\n",
    "actuals = test_games.Positiv\n",
    "predicted = clf.predict(vectorizer.transform(test_games.Text))\n",
    "accuracy_score(actuals, predicted)"
   ]
  },
  {
   "cell_type": "markdown",
   "metadata": {},
   "source": [
    "GAMES: Minimal Werte geändert"
   ]
  },
  {
   "cell_type": "code",
   "execution_count": 119,
   "metadata": {
    "collapsed": false
   },
   "outputs": [
    {
     "data": {
      "text/plain": [
       "CountVectorizer(analyzer='word', binary=False, decode_error='strict',\n",
       "        dtype=<class 'numpy.int64'>, encoding='utf-8', input='content',\n",
       "        lowercase=True, max_df=200, max_features=None, min_df=25,\n",
       "        ngram_range=(1, 1), preprocessor=None, stop_words=None,\n",
       "        strip_accents=None, token_pattern='\\\\w+', tokenizer=None,\n",
       "        vocabulary=None)"
      ]
     },
     "execution_count": 119,
     "metadata": {},
     "output_type": "execute_result"
    }
   ],
   "source": [
    "vectorizer = CountVectorizer(min_df=25, max_df=200, token_pattern='\\w+')\n",
    "vectorizer.fit(train_games.Text)"
   ]
  },
  {
   "cell_type": "code",
   "execution_count": 120,
   "metadata": {
    "collapsed": false
   },
   "outputs": [
    {
     "data": {
      "text/plain": [
       "0.7455923836389281"
      ]
     },
     "execution_count": 120,
     "metadata": {},
     "output_type": "execute_result"
    }
   ],
   "source": [
    "X = vectorizer.transform(train_games.Text)\n",
    "y = train_games.Positiv\n",
    "clf = MultinomialNB().fit(X, y)\n",
    "actuals = test_games.Positiv\n",
    "predicted = clf.predict(vectorizer.transform(test_games.Text))\n",
    "accuracy_score(actuals, predicted)"
   ]
  },
  {
   "cell_type": "code",
   "execution_count": 121,
   "metadata": {
    "collapsed": false
   },
   "outputs": [
    {
     "data": {
      "text/plain": [
       "CountVectorizer(analyzer='word', binary=False, decode_error='strict',\n",
       "        dtype=<class 'numpy.int64'>, encoding='utf-8', input='content',\n",
       "        lowercase=True, max_df=200, max_features=None, min_df=50,\n",
       "        ngram_range=(1, 1), preprocessor=None, stop_words=None,\n",
       "        strip_accents=None, token_pattern='\\\\w+', tokenizer=None,\n",
       "        vocabulary=None)"
      ]
     },
     "execution_count": 121,
     "metadata": {},
     "output_type": "execute_result"
    }
   ],
   "source": [
    "vectorizer = CountVectorizer(min_df=50, max_df=200, token_pattern='\\w+')\n",
    "vectorizer.fit(train_games.Text)"
   ]
  },
  {
   "cell_type": "code",
   "execution_count": 122,
   "metadata": {
    "collapsed": false
   },
   "outputs": [
    {
     "data": {
      "text/plain": [
       "0.72320169252468269"
      ]
     },
     "execution_count": 122,
     "metadata": {},
     "output_type": "execute_result"
    }
   ],
   "source": [
    "X = vectorizer.transform(train_games.Text)\n",
    "y = train_games.Positiv\n",
    "clf = MultinomialNB().fit(X, y)\n",
    "actuals = test_games.Positiv\n",
    "predicted = clf.predict(vectorizer.transform(test_games.Text))\n",
    "accuracy_score(actuals, predicted)"
   ]
  },
  {
   "cell_type": "code",
   "execution_count": 123,
   "metadata": {
    "collapsed": false
   },
   "outputs": [
    {
     "data": {
      "text/plain": [
       "CountVectorizer(analyzer='word', binary=False, decode_error='strict',\n",
       "        dtype=<class 'numpy.int64'>, encoding='utf-8', input='content',\n",
       "        lowercase=True, max_df=200, max_features=None, min_df=100,\n",
       "        ngram_range=(1, 1), preprocessor=None, stop_words=None,\n",
       "        strip_accents=None, token_pattern='\\\\w+', tokenizer=None,\n",
       "        vocabulary=None)"
      ]
     },
     "execution_count": 123,
     "metadata": {},
     "output_type": "execute_result"
    }
   ],
   "source": [
    "vectorizer = CountVectorizer(min_df=100, max_df=200, token_pattern='\\w+')\n",
    "vectorizer.fit(train_games.Text)"
   ]
  },
  {
   "cell_type": "code",
   "execution_count": 124,
   "metadata": {
    "collapsed": false
   },
   "outputs": [
    {
     "data": {
      "text/plain": [
       "0.69146685472496472"
      ]
     },
     "execution_count": 124,
     "metadata": {},
     "output_type": "execute_result"
    }
   ],
   "source": [
    "X = vectorizer.transform(train_games.Text)\n",
    "y = train_games.Positiv\n",
    "clf = MultinomialNB().fit(X, y)\n",
    "actuals = test_games.Positiv\n",
    "predicted = clf.predict(vectorizer.transform(test_games.Text))\n",
    "accuracy_score(actuals, predicted)"
   ]
  },
  {
   "cell_type": "markdown",
   "metadata": {},
   "source": [
    "GAMES: Maximal Werte geändert"
   ]
  },
  {
   "cell_type": "code",
   "execution_count": 125,
   "metadata": {
    "collapsed": false
   },
   "outputs": [
    {
     "data": {
      "text/plain": [
       "0.73219322990126945"
      ]
     },
     "execution_count": 125,
     "metadata": {},
     "output_type": "execute_result"
    }
   ],
   "source": [
    "vectorizer = CountVectorizer(min_df=10, max_df=100, token_pattern='\\w+')\n",
    "vectorizer.fit(train_games.Text)\n",
    "\n",
    "X = vectorizer.transform(train_games.Text)\n",
    "y = train_games.Positiv\n",
    "clf = MultinomialNB().fit(X, y)\n",
    "actuals = test_games.Positiv\n",
    "predicted = clf.predict(vectorizer.transform(test_games.Text))\n",
    "accuracy_score(actuals, predicted)"
   ]
  },
  {
   "cell_type": "code",
   "execution_count": 135,
   "metadata": {
    "collapsed": false
   },
   "outputs": [
    {
     "data": {
      "text/plain": [
       "0.77362482369534558"
      ]
     },
     "execution_count": 135,
     "metadata": {},
     "output_type": "execute_result"
    }
   ],
   "source": [
    "vectorizer = CountVectorizer(min_df=10, max_df=300, token_pattern='\\w+')\n",
    "vectorizer.fit(train_games.Text)\n",
    "\n",
    "X = vectorizer.transform(train_games.Text)\n",
    "y = train_games.Positiv\n",
    "clf = MultinomialNB().fit(X, y)\n",
    "actuals = test_games.Positiv\n",
    "predicted = clf.predict(vectorizer.transform(test_games.Text))\n",
    "accuracy_score(actuals, predicted)"
   ]
  },
  {
   "cell_type": "code",
   "execution_count": 136,
   "metadata": {
    "collapsed": false
   },
   "outputs": [
    {
     "data": {
      "text/plain": [
       "0.78385049365303239"
      ]
     },
     "execution_count": 136,
     "metadata": {},
     "output_type": "execute_result"
    }
   ],
   "source": [
    "vectorizer = CountVectorizer(min_df=10, max_df=400, token_pattern='\\w+')\n",
    "vectorizer.fit(train_games.Text)\n",
    "\n",
    "X = vectorizer.transform(train_games.Text)\n",
    "y = train_games.Positiv\n",
    "clf = MultinomialNB().fit(X, y)\n",
    "actuals = test_games.Positiv\n",
    "predicted = clf.predict(vectorizer.transform(test_games.Text))\n",
    "accuracy_score(actuals, predicted)"
   ]
  },
  {
   "cell_type": "markdown",
   "metadata": {},
   "source": [
    "GAMES: Zwei Varianten Min- und Max-Anzahl"
   ]
  },
  {
   "cell_type": "code",
   "execution_count": 128,
   "metadata": {
    "collapsed": false
   },
   "outputs": [
    {
     "data": {
      "text/plain": [
       "0.58921015514809594"
      ]
     },
     "execution_count": 128,
     "metadata": {},
     "output_type": "execute_result"
    }
   ],
   "source": [
    "vectorizer = CountVectorizer(min_df=25, max_df=25, token_pattern='\\w+')\n",
    "vectorizer.fit(train_games.Text)\n",
    "\n",
    "X = vectorizer.transform(train_games.Text)\n",
    "y = train_games.Positiv\n",
    "clf = MultinomialNB().fit(X, y)\n",
    "actuals = test_games.Positiv\n",
    "predicted = clf.predict(vectorizer.transform(test_games.Text))\n",
    "accuracy_score(actuals, predicted)"
   ]
  },
  {
   "cell_type": "code",
   "execution_count": 129,
   "metadata": {
    "collapsed": false
   },
   "outputs": [
    {
     "data": {
      "text/plain": [
       "0.7625176304654443"
      ]
     },
     "execution_count": 129,
     "metadata": {},
     "output_type": "execute_result"
    }
   ],
   "source": [
    "vectorizer = CountVectorizer(min_df=25, max_df=300, token_pattern='\\w+')\n",
    "vectorizer.fit(train_games.Text)\n",
    "\n",
    "X = vectorizer.transform(train_games.Text)\n",
    "y = train_games.Positiv\n",
    "clf = MultinomialNB().fit(X, y)\n",
    "actuals = test_games.Positiv\n",
    "predicted = clf.predict(vectorizer.transform(test_games.Text))\n",
    "accuracy_score(actuals, predicted)"
   ]
  },
  {
   "cell_type": "markdown",
   "metadata": {},
   "source": [
    "GAMES: Nur Adjektive"
   ]
  },
  {
   "cell_type": "code",
   "execution_count": null,
   "metadata": {
    "collapsed": true
   },
   "outputs": [],
   "source": []
  },
  {
   "cell_type": "markdown",
   "metadata": {},
   "source": [
    "GAMES: Nur Adjektive, Adverbien, Nomen und Verben"
   ]
  },
  {
   "cell_type": "code",
   "execution_count": null,
   "metadata": {
    "collapsed": true
   },
   "outputs": [],
   "source": []
  },
  {
   "cell_type": "markdown",
   "metadata": {},
   "source": [
    "GAMES: Negation"
   ]
  },
  {
   "cell_type": "code",
   "execution_count": null,
   "metadata": {
    "collapsed": true
   },
   "outputs": [],
   "source": []
  },
  {
   "cell_type": "markdown",
   "metadata": {},
   "source": [
    "# Apps"
   ]
  },
  {
   "cell_type": "markdown",
   "metadata": {},
   "source": [
    "Vectorizing"
   ]
  },
  {
   "cell_type": "markdown",
   "metadata": {},
   "source": [
    "APPS: Minimalwerte geändert"
   ]
  },
  {
   "cell_type": "code",
   "execution_count": 131,
   "metadata": {
    "collapsed": false
   },
   "outputs": [
    {
     "data": {
      "text/plain": [
       "0.79519799319118434"
      ]
     },
     "execution_count": 131,
     "metadata": {},
     "output_type": "execute_result"
    }
   ],
   "source": [
    "vectorizer = CountVectorizer(min_df=105, max_df=200, token_pattern='\\w+')\n",
    "vectorizer.fit(train_apps.Text)\n",
    "\n",
    "X = vectorizer.transform(train_apps.Text)\n",
    "y = train_apps.Positiv\n",
    "clf = MultinomialNB().fit(X, y)\n",
    "actuals = test_apps.Positiv\n",
    "predicted = clf.predict(vectorizer.transform(test_apps.Text))\n",
    "accuracy_score(actuals, predicted)"
   ]
  },
  {
   "cell_type": "code",
   "execution_count": 137,
   "metadata": {
    "collapsed": false
   },
   "outputs": [
    {
     "data": {
      "text/plain": [
       "0.79639252224810364"
      ]
     },
     "execution_count": 137,
     "metadata": {},
     "output_type": "execute_result"
    }
   ],
   "source": [
    "vectorizer = CountVectorizer(min_df=25, max_df=200, token_pattern='\\w+')\n",
    "vectorizer.fit(train_apps.Text)\n",
    "\n",
    "X = vectorizer.transform(train_apps.Text)\n",
    "y = train_apps.Positiv\n",
    "clf = MultinomialNB().fit(X, y)\n",
    "actuals = test_apps.Positiv\n",
    "predicted = clf.predict(vectorizer.transform(test_apps.Text))\n",
    "accuracy_score(actuals, predicted)"
   ]
  },
  {
   "cell_type": "code",
   "execution_count": 132,
   "metadata": {
    "collapsed": false
   },
   "outputs": [
    {
     "data": {
      "text/plain": [
       "0.7954368990025682"
      ]
     },
     "execution_count": 132,
     "metadata": {},
     "output_type": "execute_result"
    }
   ],
   "source": [
    "vectorizer = CountVectorizer(min_df=50, max_df=200, token_pattern='\\w+')\n",
    "vectorizer.fit(train_apps.Text)\n",
    "\n",
    "X = vectorizer.transform(train_apps.Text)\n",
    "y = train_apps.Positiv\n",
    "clf = MultinomialNB().fit(X, y)\n",
    "actuals = test_apps.Positiv\n",
    "predicted = clf.predict(vectorizer.transform(test_apps.Text))\n",
    "accuracy_score(actuals, predicted)"
   ]
  },
  {
   "cell_type": "code",
   "execution_count": 133,
   "metadata": {
    "collapsed": false
   },
   "outputs": [
    {
     "data": {
      "text/plain": [
       "0.79513826673833843"
      ]
     },
     "execution_count": 133,
     "metadata": {},
     "output_type": "execute_result"
    }
   ],
   "source": [
    "vectorizer = CountVectorizer(min_df=100, max_df=200, token_pattern='\\w+')\n",
    "vectorizer.fit(train_apps.Text)\n",
    "\n",
    "X = vectorizer.transform(train_apps.Text)\n",
    "y = train_apps.Positiv\n",
    "clf = MultinomialNB().fit(X, y)\n",
    "actuals = test_apps.Positiv\n",
    "predicted = clf.predict(vectorizer.transform(test_apps.Text))\n",
    "accuracy_score(actuals, predicted)"
   ]
  },
  {
   "cell_type": "markdown",
   "metadata": {},
   "source": [
    "APPS: Maximal Werte geändert"
   ]
  },
  {
   "cell_type": "code",
   "execution_count": 134,
   "metadata": {
    "collapsed": false
   },
   "outputs": [
    {
     "data": {
      "text/plain": [
       "0.80081227975870517"
      ]
     },
     "execution_count": 134,
     "metadata": {},
     "output_type": "execute_result"
    }
   ],
   "source": [
    "vectorizer = CountVectorizer(min_df=10, max_df=100, token_pattern='\\w+')\n",
    "vectorizer.fit(train_apps.Text)\n",
    "\n",
    "X = vectorizer.transform(train_apps.Text)\n",
    "y = train_apps.Positiv\n",
    "clf = MultinomialNB().fit(X, y)\n",
    "actuals = test_apps.Positiv\n",
    "predicted = clf.predict(vectorizer.transform(test_apps.Text))\n",
    "accuracy_score(actuals, predicted)"
   ]
  },
  {
   "cell_type": "code",
   "execution_count": 138,
   "metadata": {
    "collapsed": false
   },
   "outputs": [
    {
     "data": {
      "text/plain": [
       "0.80105118557008903"
      ]
     },
     "execution_count": 138,
     "metadata": {},
     "output_type": "execute_result"
    }
   ],
   "source": [
    "vectorizer = CountVectorizer(min_df=10, max_df=300, token_pattern='\\w+')\n",
    "vectorizer.fit(train_apps.Text)\n",
    "\n",
    "X = vectorizer.transform(train_apps.Text)\n",
    "y = train_apps.Positiv\n",
    "clf = MultinomialNB().fit(X, y)\n",
    "actuals = test_apps.Positiv\n",
    "predicted = clf.predict(vectorizer.transform(test_apps.Text))\n",
    "accuracy_score(actuals, predicted)"
   ]
  },
  {
   "cell_type": "code",
   "execution_count": 139,
   "metadata": {
    "collapsed": false
   },
   "outputs": [
    {
     "data": {
      "text/plain": [
       "0.80039419458878336"
      ]
     },
     "execution_count": 139,
     "metadata": {},
     "output_type": "execute_result"
    }
   ],
   "source": [
    "vectorizer = CountVectorizer(min_df=10, max_df=400, token_pattern='\\w+')\n",
    "vectorizer.fit(train_apps.Text)\n",
    "\n",
    "X = vectorizer.transform(train_apps.Text)\n",
    "y = train_apps.Positiv\n",
    "clf = MultinomialNB().fit(X, y)\n",
    "actuals = test_apps.Positiv\n",
    "predicted = clf.predict(vectorizer.transform(test_apps.Text))\n",
    "accuracy_score(actuals, predicted)"
   ]
  },
  {
   "cell_type": "markdown",
   "metadata": {},
   "source": [
    "APPS: Zwei Varianten Min- und Max-Anzahl"
   ]
  },
  {
   "cell_type": "code",
   "execution_count": 140,
   "metadata": {
    "collapsed": false
   },
   "outputs": [
    {
     "data": {
      "text/plain": [
       "0.79513826673833843"
      ]
     },
     "execution_count": 140,
     "metadata": {},
     "output_type": "execute_result"
    }
   ],
   "source": [
    "vectorizer = CountVectorizer(min_df=25, max_df=25, token_pattern='\\w+')\n",
    "vectorizer.fit(train_apps.Text)\n",
    "\n",
    "X = vectorizer.transform(train_apps.Text)\n",
    "y = train_apps.Positiv\n",
    "clf = MultinomialNB().fit(X, y)\n",
    "actuals = test_apps.Positiv\n",
    "predicted = clf.predict(vectorizer.transform(test_apps.Text))\n",
    "accuracy_score(actuals, predicted)"
   ]
  },
  {
   "cell_type": "code",
   "execution_count": 141,
   "metadata": {
    "collapsed": false
   },
   "outputs": [
    {
     "data": {
      "text/plain": [
       "0.79591471062533592"
      ]
     },
     "execution_count": 141,
     "metadata": {},
     "output_type": "execute_result"
    }
   ],
   "source": [
    "vectorizer = CountVectorizer(min_df=25, max_df=300, token_pattern='\\w+')\n",
    "vectorizer.fit(train_apps.Text)\n",
    "\n",
    "X = vectorizer.transform(train_apps.Text)\n",
    "y = train_apps.Positiv\n",
    "clf = MultinomialNB().fit(X, y)\n",
    "actuals = test_apps.Positiv\n",
    "predicted = clf.predict(vectorizer.transform(test_apps.Text))\n",
    "accuracy_score(actuals, predicted)"
   ]
  },
  {
   "cell_type": "markdown",
   "metadata": {},
   "source": [
    "APPS: Nur Adjektive"
   ]
  },
  {
   "cell_type": "code",
   "execution_count": null,
   "metadata": {
    "collapsed": true
   },
   "outputs": [],
   "source": []
  },
  {
   "cell_type": "markdown",
   "metadata": {},
   "source": [
    "APPS: Nur Adjektive, Adverbien, Nomen und Verben"
   ]
  },
  {
   "cell_type": "code",
   "execution_count": null,
   "metadata": {
    "collapsed": true
   },
   "outputs": [],
   "source": []
  },
  {
   "cell_type": "markdown",
   "metadata": {},
   "source": [
    "APPS: Negation"
   ]
  },
  {
   "cell_type": "code",
   "execution_count": null,
   "metadata": {
    "collapsed": false
   },
   "outputs": [],
   "source": []
  },
  {
   "cell_type": "markdown",
   "metadata": {},
   "source": [
    "# Music\n",
    "Vaectorizing"
   ]
  },
  {
   "cell_type": "code",
   "execution_count": 30,
   "metadata": {
    "collapsed": false
   },
   "outputs": [
    {
     "data": {
      "text/plain": [
       "0.49523396880415943"
      ]
     },
     "execution_count": 30,
     "metadata": {},
     "output_type": "execute_result"
    }
   ],
   "source": [
    "vectorizer = CountVectorizer(min_df=10, max_df=200, token_pattern='\\w+')\n",
    "vectorizer.fit(train_music.Text)\n",
    "\n",
    "X = vectorizer.transform(train_music.Text)\n",
    "y = train_music.Positiv\n",
    "clf = MultinomialNB().fit(X, y)\n",
    "actuals = test_music.Positiv\n",
    "predicted = clf.predict(vectorizer.transform(test_music.Text))\n",
    "accuracy_score(actuals, predicted)"
   ]
  },
  {
   "cell_type": "markdown",
   "metadata": {},
   "source": [
    "MUSIC: Minimal Werte geändert"
   ]
  },
  {
   "cell_type": "code",
   "execution_count": 24,
   "metadata": {
    "collapsed": false
   },
   "outputs": [
    {
     "data": {
      "text/plain": [
       "0.62651646447140386"
      ]
     },
     "execution_count": 24,
     "metadata": {},
     "output_type": "execute_result"
    }
   ],
   "source": [
    "vectorizer = CountVectorizer(min_df=25, max_df=200, token_pattern='\\w+')\n",
    "vectorizer.fit(train_music.Text)\n",
    "\n",
    "X = vectorizer.transform(train_music.Text)\n",
    "y = train_music.Positiv\n",
    "clf = MultinomialNB().fit(X, y)\n",
    "actuals = test_music.Positiv\n",
    "predicted = clf.predict(vectorizer.transform(test_music.Text))\n",
    "accuracy_score(actuals, predicted)"
   ]
  },
  {
   "cell_type": "code",
   "execution_count": 25,
   "metadata": {
    "collapsed": false
   },
   "outputs": [
    {
     "data": {
      "text/plain": [
       "0.64059792027729634"
      ]
     },
     "execution_count": 25,
     "metadata": {},
     "output_type": "execute_result"
    }
   ],
   "source": [
    "vectorizer = CountVectorizer(min_df=50, max_df=200, token_pattern='\\w+')\n",
    "vectorizer.fit(train_music.Text)\n",
    "\n",
    "X = vectorizer.transform(train_music.Text)\n",
    "y = train_music.Positiv\n",
    "clf = MultinomialNB().fit(X, y)\n",
    "actuals = test_music.Positiv\n",
    "predicted = clf.predict(vectorizer.transform(test_music.Text))\n",
    "accuracy_score(actuals, predicted)"
   ]
  },
  {
   "cell_type": "code",
   "execution_count": 145,
   "metadata": {
    "collapsed": false
   },
   "outputs": [
    {
     "data": {
      "text/plain": [
       "0.67222703639514736"
      ]
     },
     "execution_count": 145,
     "metadata": {},
     "output_type": "execute_result"
    }
   ],
   "source": [
    "vectorizer = CountVectorizer(min_df=100, max_df=200, token_pattern='\\w+')\n",
    "vectorizer.fit(train_music.Text)\n",
    "\n",
    "X = vectorizer.transform(train_music.Text)\n",
    "y = train_music.Positiv\n",
    "clf = MultinomialNB().fit(X, y)\n",
    "actuals = test_music.Positiv\n",
    "predicted = clf.predict(vectorizer.transform(test_music.Text))\n",
    "accuracy_score(actuals, predicted)"
   ]
  },
  {
   "cell_type": "markdown",
   "metadata": {},
   "source": [
    "MUSIC: Maximal Werte geänder"
   ]
  },
  {
   "cell_type": "code",
   "execution_count": 146,
   "metadata": {
    "collapsed": false
   },
   "outputs": [
    {
     "data": {
      "text/plain": [
       "0.63648180242634311"
      ]
     },
     "execution_count": 146,
     "metadata": {},
     "output_type": "execute_result"
    }
   ],
   "source": [
    "vectorizer = CountVectorizer(min_df=10, max_df=100, token_pattern='\\w+')\n",
    "vectorizer.fit(train_music.Text)\n",
    "\n",
    "X = vectorizer.transform(train_music.Text)\n",
    "y = train_music.Positiv\n",
    "clf = MultinomialNB().fit(X, y)\n",
    "actuals = test_music.Positiv\n",
    "predicted = clf.predict(vectorizer.transform(test_music.Text))\n",
    "accuracy_score(actuals, predicted)"
   ]
  },
  {
   "cell_type": "code",
   "execution_count": 147,
   "metadata": {
    "collapsed": false
   },
   "outputs": [
    {
     "data": {
      "text/plain": [
       "0.64081455805892551"
      ]
     },
     "execution_count": 147,
     "metadata": {},
     "output_type": "execute_result"
    }
   ],
   "source": [
    "vectorizer = CountVectorizer(min_df=10, max_df=300, token_pattern='\\w+')\n",
    "vectorizer.fit(train_music.Text)\n",
    "\n",
    "X = vectorizer.transform(train_music.Text)\n",
    "y = train_music.Positiv\n",
    "clf = MultinomialNB().fit(X, y)\n",
    "actuals = test_music.Positiv\n",
    "predicted = clf.predict(vectorizer.transform(test_music.Text))\n",
    "accuracy_score(actuals, predicted)"
   ]
  },
  {
   "cell_type": "code",
   "execution_count": 148,
   "metadata": {
    "collapsed": false
   },
   "outputs": [
    {
     "data": {
      "text/plain": [
       "0.64103119584055457"
      ]
     },
     "execution_count": 148,
     "metadata": {},
     "output_type": "execute_result"
    }
   ],
   "source": [
    "vectorizer = CountVectorizer(min_df=10, max_df=400, token_pattern='\\w+')\n",
    "vectorizer.fit(train_music.Text)\n",
    "\n",
    "X = vectorizer.transform(train_music.Text)\n",
    "y = train_music.Positiv\n",
    "clf = MultinomialNB().fit(X, y)\n",
    "actuals = test_music.Positiv\n",
    "predicted = clf.predict(vectorizer.transform(test_music.Text))\n",
    "accuracy_score(actuals, predicted)"
   ]
  },
  {
   "cell_type": "markdown",
   "metadata": {},
   "source": [
    "MUSIC: Zwei Varianten Min- und Max-Anzahl"
   ]
  },
  {
   "cell_type": "code",
   "execution_count": 149,
   "metadata": {
    "collapsed": false
   },
   "outputs": [
    {
     "data": {
      "text/plain": [
       "0.72183708838821492"
      ]
     },
     "execution_count": 149,
     "metadata": {},
     "output_type": "execute_result"
    }
   ],
   "source": [
    "vectorizer = CountVectorizer(min_df=25, max_df=25, token_pattern='\\w+')\n",
    "vectorizer.fit(train_music.Text)\n",
    "\n",
    "X = vectorizer.transform(train_music.Text)\n",
    "y = train_music.Positiv\n",
    "clf = MultinomialNB().fit(X, y)\n",
    "actuals = test_music.Positiv\n",
    "predicted = clf.predict(vectorizer.transform(test_music.Text))\n",
    "accuracy_score(actuals, predicted)"
   ]
  },
  {
   "cell_type": "code",
   "execution_count": 151,
   "metadata": {
    "collapsed": false
   },
   "outputs": [
    {
     "data": {
      "text/plain": [
       "0.62889948006932406"
      ]
     },
     "execution_count": 151,
     "metadata": {},
     "output_type": "execute_result"
    }
   ],
   "source": [
    "vectorizer = CountVectorizer(min_df=25, max_df=300, token_pattern='\\w+')\n",
    "vectorizer.fit(train_music.Text)\n",
    "\n",
    "X = vectorizer.transform(train_music.Text)\n",
    "y = train_music.Positiv\n",
    "clf = MultinomialNB().fit(X, y)\n",
    "actuals = test_music.Positiv\n",
    "predicted = clf.predict(vectorizer.transform(test_music.Text))\n",
    "accuracy_score(actuals, predicted)"
   ]
  },
  {
   "cell_type": "markdown",
   "metadata": {},
   "source": [
    " MUSIC: Nur Adjektive"
   ]
  },
  {
   "cell_type": "code",
   "execution_count": null,
   "metadata": {
    "collapsed": true
   },
   "outputs": [],
   "source": []
  },
  {
   "cell_type": "markdown",
   "metadata": {},
   "source": [
    "MUSIC: Nur Adjektive, Adverbien, Nomen und Verben"
   ]
  },
  {
   "cell_type": "code",
   "execution_count": null,
   "metadata": {
    "collapsed": true
   },
   "outputs": [],
   "source": []
  },
  {
   "cell_type": "markdown",
   "metadata": {},
   "source": [
    "MUSIC: Negation"
   ]
  },
  {
   "cell_type": "code",
   "execution_count": null,
   "metadata": {
    "collapsed": true
   },
   "outputs": [],
   "source": []
  }
 ],
 "metadata": {
  "anaconda-cloud": {},
  "kernelspec": {
   "display_name": "Python [conda root]",
   "language": "python",
   "name": "conda-root-py"
  },
  "language_info": {
   "codemirror_mode": {
    "name": "ipython",
    "version": 3
   },
   "file_extension": ".py",
   "mimetype": "text/x-python",
   "name": "python",
   "nbconvert_exporter": "python",
   "pygments_lexer": "ipython3",
   "version": "3.5.2"
  }
 },
 "nbformat": 4,
 "nbformat_minor": 1
}
