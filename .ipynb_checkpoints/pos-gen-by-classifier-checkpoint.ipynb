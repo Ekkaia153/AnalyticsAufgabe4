{
 "cells": [
  {
   "cell_type": "code",
   "execution_count": 1,
   "metadata": {
    "collapsed": false
   },
   "outputs": [],
   "source": [
    "import pickle\n",
    "import nltk\n",
    "from nltk.tag.util import tuple2str\n",
    "import re\n",
    "from nltk.tag.sequential import ClassifierBasedTagger\n",
    "from pos_german import ClassifierBasedGermanTagger"
   ]
  },
  {
   "cell_type": "code",
   "execution_count": 2,
   "metadata": {
    "collapsed": true
   },
   "outputs": [],
   "source": [
    "path = 'C:\\Users\\stahn\\Documents\\HTW\\Analytics/Aufgabe 4/'\n",
    "filename = 'tiger_release_aug07.corrected.16012013.conll09'\n",
    "tiger_corpus = nltk.corpus.ConllCorpusReader(path, filename,['ignore', 'words', 'ignore', 'ignore', 'pos'], encoding='utf-8')\n",
    "tiger_tagged_sents = tiger_corpus.tagged_sents()\n",
    "tiger_sents = tiger_corpus.sents()"
   ]
  },
  {
   "cell_type": "code",
   "execution_count": 3,
   "metadata": {
    "collapsed": false
   },
   "outputs": [],
   "source": [
    "# set a split size: use 90% for training, 10% for testing\n",
    "split_perc = 0.1\n",
    "split_size = int(len(tiger_tagged_sents) * split_perc)\n",
    "train_sents, test_sents = tiger_tagged_sents[split_size:], tiger_tagged_sents[:split_size]"
   ]
  },
  {
   "cell_type": "code",
   "execution_count": 4,
   "metadata": {
    "collapsed": false
   },
   "outputs": [],
   "source": [
    "tagger = ClassifierBasedGermanTagger(train=train_sents)"
   ]
  },
  {
   "cell_type": "code",
   "execution_count": 5,
   "metadata": {
    "collapsed": false
   },
   "outputs": [
    {
     "data": {
      "text/plain": [
       "0.9417383538880661"
      ]
     },
     "execution_count": 5,
     "metadata": {},
     "output_type": "execute_result"
    }
   ],
   "source": [
    "tagger.evaluate(test_sents)"
   ]
  },
  {
   "cell_type": "code",
   "execution_count": 6,
   "metadata": {
    "collapsed": false
   },
   "outputs": [
    {
     "data": {
      "text/plain": [
       "['Der',\n",
       " 'texanische',\n",
       " 'Milliardär',\n",
       " 'Ross',\n",
       " 'Perot',\n",
       " 'hat',\n",
       " 'das',\n",
       " 'politische',\n",
       " 'Establishment',\n",
       " 'in',\n",
       " 'Washington',\n",
       " 'aufgeschreckt',\n",
       " '.']"
      ]
     },
     "execution_count": 6,
     "metadata": {},
     "output_type": "execute_result"
    }
   ],
   "source": [
    "tiger_sents[3]"
   ]
  },
  {
   "cell_type": "code",
   "execution_count": 7,
   "metadata": {
    "collapsed": false
   },
   "outputs": [
    {
     "data": {
      "text/plain": [
       "[('Der', 'ART'),\n",
       " ('texanische', 'ADJA'),\n",
       " ('Milliardär', 'NN'),\n",
       " ('Ross', 'NE'),\n",
       " ('Perot', 'NE'),\n",
       " ('hat', 'VAFIN'),\n",
       " ('das', 'ART'),\n",
       " ('politische', 'ADJA'),\n",
       " ('Establishment', 'NN'),\n",
       " ('in', 'APPR'),\n",
       " ('Washington', 'NE'),\n",
       " ('aufgeschreckt', 'VVPP'),\n",
       " ('.', '$.')]"
      ]
     },
     "execution_count": 7,
     "metadata": {},
     "output_type": "execute_result"
    }
   ],
   "source": [
    "test_sents[3]"
   ]
  },
  {
   "cell_type": "code",
   "execution_count": 8,
   "metadata": {
    "collapsed": false
   },
   "outputs": [
    {
     "data": {
      "text/plain": [
       "[('Der', 'ART'),\n",
       " ('texanische', 'ADJA'),\n",
       " ('Milliardär', 'TRUNC'),\n",
       " ('Ross', 'NE'),\n",
       " ('Perot', 'NE'),\n",
       " ('hat', 'VAFIN'),\n",
       " ('das', 'ART'),\n",
       " ('politische', 'ADJA'),\n",
       " ('Establishment', 'NN'),\n",
       " ('in', 'APPR'),\n",
       " ('Washington', 'NE'),\n",
       " ('aufgeschreckt', 'VVPP'),\n",
       " ('.', '$.')]"
      ]
     },
     "execution_count": 8,
     "metadata": {},
     "output_type": "execute_result"
    }
   ],
   "source": [
    "tagger.tag(tiger_sents[3])"
   ]
  },
  {
   "cell_type": "code",
   "execution_count": 9,
   "metadata": {
    "collapsed": false
   },
   "outputs": [],
   "source": [
    "#pickle tagger\n",
    "with open(path + 'classifier-based-german-pos-tagger.pickle', 'wb') as f:\n",
    "    pickle.dump(tagger, f, protocol=4)"
   ]
  }
 ],
 "metadata": {
  "anaconda-cloud": {},
  "kernelspec": {
   "display_name": "Python [default]",
   "language": "python",
   "name": "python3"
  },
  "language_info": {
   "codemirror_mode": {
    "name": "ipython",
    "version": 3
   },
   "file_extension": ".py",
   "mimetype": "text/x-python",
   "name": "python",
   "nbconvert_exporter": "python",
   "pygments_lexer": "ipython3",
   "version": "3.5.2"
  }
 },
 "nbformat": 4,
 "nbformat_minor": 0
}
