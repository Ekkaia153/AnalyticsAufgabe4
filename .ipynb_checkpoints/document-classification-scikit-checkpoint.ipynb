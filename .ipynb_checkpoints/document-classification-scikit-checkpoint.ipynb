{
 "cells": [
  {
   "cell_type": "markdown",
   "metadata": {
    "collapsed": true
   },
   "source": [
    "# Import"
   ]
  },
  {
   "cell_type": "code",
   "execution_count": 1,
   "metadata": {
    "collapsed": true
   },
   "outputs": [],
   "source": [
    "import pandas as pd\n",
    "from sklearn.feature_extraction.text import CountVectorizer\n",
    "from sklearn.naive_bayes import MultinomialNB\n",
    "from sklearn.svm import SVC\n",
    "from sklearn.metrics import accuracy_score"
   ]
  },
  {
   "cell_type": "markdown",
   "metadata": {},
   "source": [
    "# Helper Functions"
   ]
  },
  {
   "cell_type": "code",
   "execution_count": 2,
   "metadata": {
    "collapsed": true
   },
   "outputs": [],
   "source": [
    "# Convenience function to output test items\n",
    "def show_test_item(clf, i, text=True, classify=True):\n",
    "    a = 'actual: ' + test.iloc[i].category\n",
    "    p = ''\n",
    "    if classify:\n",
    "        p = ' / predicted: ' + clf.predict(vectorizer.transform([test.iloc[i].text]))[0]\n",
    "    print('[' + str(i) + '] ' +a + p)\n",
    "    if text:\n",
    "        print('\\n')\n",
    "        print(test.iloc[i].text)"
   ]
  },
  {
   "cell_type": "markdown",
   "metadata": {},
   "source": [
    "# Loading documents"
   ]
  },
  {
   "cell_type": "code",
   "execution_count": 3,
   "metadata": {
    "collapsed": false
   },
   "outputs": [
    {
     "ename": "ValueError",
     "evalue": "Expected object or value",
     "output_type": "error",
     "traceback": [
      "\u001b[0;31m---------------------------------------------------------------------------\u001b[0m",
      "\u001b[0;31mValueError\u001b[0m                                Traceback (most recent call last)",
      "\u001b[0;32m<ipython-input-3-b519da793718>\u001b[0m in \u001b[0;36m<module>\u001b[0;34m()\u001b[0m\n\u001b[1;32m      1\u001b[0m \u001b[1;31m# Read documents from json files\u001b[0m\u001b[1;33m\u001b[0m\u001b[1;33m\u001b[0m\u001b[0m\n\u001b[1;32m      2\u001b[0m \u001b[0mdir\u001b[0m \u001b[1;33m=\u001b[0m \u001b[1;34m'd:/repository/daten/texte-politik-wirtschaft-sport/'\u001b[0m\u001b[1;33m\u001b[0m\u001b[0m\n\u001b[0;32m----> 3\u001b[0;31m \u001b[0mdocuments\u001b[0m \u001b[1;33m=\u001b[0m \u001b[0mpd\u001b[0m\u001b[1;33m.\u001b[0m\u001b[0mread_json\u001b[0m\u001b[1;33m(\u001b[0m\u001b[0mdir\u001b[0m \u001b[1;33m+\u001b[0m \u001b[1;34m'texte.json'\u001b[0m\u001b[1;33m,\u001b[0m \u001b[0morient\u001b[0m\u001b[1;33m=\u001b[0m\u001b[1;34m'records'\u001b[0m\u001b[1;33m,\u001b[0m \u001b[0mencoding\u001b[0m\u001b[1;33m=\u001b[0m\u001b[1;34m'utf8'\u001b[0m\u001b[1;33m)\u001b[0m\u001b[1;33m\u001b[0m\u001b[0m\n\u001b[0m\u001b[1;32m      4\u001b[0m \u001b[0mdocuments\u001b[0m\u001b[1;33m.\u001b[0m\u001b[0miloc\u001b[0m\u001b[1;33m[\u001b[0m\u001b[1;33m[\u001b[0m\u001b[1;36m11\u001b[0m\u001b[1;33m,\u001b[0m \u001b[1;36m100\u001b[0m\u001b[1;33m,\u001b[0m \u001b[1;36m201\u001b[0m\u001b[1;33m]\u001b[0m\u001b[1;33m]\u001b[0m\u001b[1;33m\u001b[0m\u001b[0m\n",
      "\u001b[0;32mC:\\Users\\stahn\\Miniconda3\\lib\\site-packages\\pandas\\io\\json.py\u001b[0m in \u001b[0;36mread_json\u001b[0;34m(path_or_buf, orient, typ, dtype, convert_axes, convert_dates, keep_default_dates, numpy, precise_float, date_unit, encoding, lines)\u001b[0m\n\u001b[1;32m    232\u001b[0m         obj = FrameParser(json, orient, dtype, convert_axes, convert_dates,\n\u001b[1;32m    233\u001b[0m                           \u001b[0mkeep_default_dates\u001b[0m\u001b[1;33m,\u001b[0m \u001b[0mnumpy\u001b[0m\u001b[1;33m,\u001b[0m \u001b[0mprecise_float\u001b[0m\u001b[1;33m,\u001b[0m\u001b[1;33m\u001b[0m\u001b[0m\n\u001b[0;32m--> 234\u001b[0;31m                           date_unit).parse()\n\u001b[0m\u001b[1;32m    235\u001b[0m \u001b[1;33m\u001b[0m\u001b[0m\n\u001b[1;32m    236\u001b[0m     \u001b[1;32mif\u001b[0m \u001b[0mtyp\u001b[0m \u001b[1;33m==\u001b[0m \u001b[1;34m'series'\u001b[0m \u001b[1;32mor\u001b[0m \u001b[0mobj\u001b[0m \u001b[1;32mis\u001b[0m \u001b[1;32mNone\u001b[0m\u001b[1;33m:\u001b[0m\u001b[1;33m\u001b[0m\u001b[0m\n",
      "\u001b[0;32mC:\\Users\\stahn\\Miniconda3\\lib\\site-packages\\pandas\\io\\json.py\u001b[0m in \u001b[0;36mparse\u001b[0;34m(self)\u001b[0m\n\u001b[1;32m    300\u001b[0m \u001b[1;33m\u001b[0m\u001b[0m\n\u001b[1;32m    301\u001b[0m         \u001b[1;32melse\u001b[0m\u001b[1;33m:\u001b[0m\u001b[1;33m\u001b[0m\u001b[0m\n\u001b[0;32m--> 302\u001b[0;31m             \u001b[0mself\u001b[0m\u001b[1;33m.\u001b[0m\u001b[0m_parse_no_numpy\u001b[0m\u001b[1;33m(\u001b[0m\u001b[1;33m)\u001b[0m\u001b[1;33m\u001b[0m\u001b[0m\n\u001b[0m\u001b[1;32m    303\u001b[0m \u001b[1;33m\u001b[0m\u001b[0m\n\u001b[1;32m    304\u001b[0m         \u001b[1;32mif\u001b[0m \u001b[0mself\u001b[0m\u001b[1;33m.\u001b[0m\u001b[0mobj\u001b[0m \u001b[1;32mis\u001b[0m \u001b[1;32mNone\u001b[0m\u001b[1;33m:\u001b[0m\u001b[1;33m\u001b[0m\u001b[0m\n",
      "\u001b[0;32mC:\\Users\\stahn\\Miniconda3\\lib\\site-packages\\pandas\\io\\json.py\u001b[0m in \u001b[0;36m_parse_no_numpy\u001b[0;34m(self)\u001b[0m\n\u001b[1;32m    530\u001b[0m         \u001b[1;32melse\u001b[0m\u001b[1;33m:\u001b[0m\u001b[1;33m\u001b[0m\u001b[0m\n\u001b[1;32m    531\u001b[0m             self.obj = DataFrame(\n\u001b[0;32m--> 532\u001b[0;31m                 loads(json, precise_float=self.precise_float), dtype=None)\n\u001b[0m\u001b[1;32m    533\u001b[0m \u001b[1;33m\u001b[0m\u001b[0m\n\u001b[1;32m    534\u001b[0m     \u001b[1;32mdef\u001b[0m \u001b[0m_process_converter\u001b[0m\u001b[1;33m(\u001b[0m\u001b[0mself\u001b[0m\u001b[1;33m,\u001b[0m \u001b[0mf\u001b[0m\u001b[1;33m,\u001b[0m \u001b[0mfilt\u001b[0m\u001b[1;33m=\u001b[0m\u001b[1;32mNone\u001b[0m\u001b[1;33m)\u001b[0m\u001b[1;33m:\u001b[0m\u001b[1;33m\u001b[0m\u001b[0m\n",
      "\u001b[0;31mValueError\u001b[0m: Expected object or value"
     ]
    }
   ],
   "source": [
    "# Read documents from json files\n",
    "dir = 'd:/repository/daten/texte-politik-wirtschaft-sport/'\n",
    "documents = pd.read_json(dir + 'texte.json', orient='records', encoding='utf8')\n",
    "documents.iloc[[11, 100, 201]]"
   ]
  },
  {
   "cell_type": "markdown",
   "metadata": {},
   "source": [
    "# Train Data and Test Data"
   ]
  },
  {
   "cell_type": "code",
   "execution_count": 4,
   "metadata": {
    "collapsed": true
   },
   "outputs": [],
   "source": [
    "random_state = 100\n",
    "train_politik = documents[documents.category=='politik'].sample(frac=0.8, random_state=random_state)\n",
    "train_wirtschaft = documents[documents.category=='wirtschaft'].sample(frac=0.8, random_state=random_state)\n",
    "train_sport = documents[documents.category=='sport'].sample(frac=0.8, random_state=random_state)\n",
    "train = pd.concat([train_politik, train_wirtschaft, train_sport])\n",
    "test = documents.drop(train.index)"
   ]
  },
  {
   "cell_type": "markdown",
   "metadata": {},
   "source": [
    "# Vectorizing of Documents"
   ]
  },
  {
   "cell_type": "code",
   "execution_count": 5,
   "metadata": {
    "collapsed": false
   },
   "outputs": [
    {
     "data": {
      "text/plain": [
       "CountVectorizer(analyzer='word', binary=False, decode_error='strict',\n",
       "        dtype=<class 'numpy.int64'>, encoding='utf-8', input='content',\n",
       "        lowercase=True, max_df=200, max_features=None, min_df=10,\n",
       "        ngram_range=(1, 1), preprocessor=None, stop_words=None,\n",
       "        strip_accents=None, token_pattern='\\\\w+', tokenizer=None,\n",
       "        vocabulary=None)"
      ]
     },
     "execution_count": 5,
     "metadata": {},
     "output_type": "execute_result"
    }
   ],
   "source": [
    "vectorizer = CountVectorizer(min_df=10, max_df=200, token_pattern='\\w+')\n",
    "vectorizer.fit(train.text)"
   ]
  },
  {
   "cell_type": "markdown",
   "metadata": {},
   "source": [
    "# Training of Multinomial Naive Bayes Classifier"
   ]
  },
  {
   "cell_type": "code",
   "execution_count": 6,
   "metadata": {
    "collapsed": false
   },
   "outputs": [],
   "source": [
    "X = vectorizer.transform(train.text)\n",
    "y = train.category\n",
    "clfmnb = MultinomialNB().fit(X, y)"
   ]
  },
  {
   "cell_type": "markdown",
   "metadata": {},
   "source": [
    "# Evaluation of Multinomial Naive Bayes Classifier"
   ]
  },
  {
   "cell_type": "code",
   "execution_count": 7,
   "metadata": {
    "collapsed": false
   },
   "outputs": [
    {
     "data": {
      "text/plain": [
       "0.83333333333333337"
      ]
     },
     "execution_count": 7,
     "metadata": {},
     "output_type": "execute_result"
    }
   ],
   "source": [
    "actuals = test.category\n",
    "predicted_mnb = clfmnb.predict(vectorizer.transform(test.text))\n",
    "accuracy_score(actuals, predicted_mnb)"
   ]
  },
  {
   "cell_type": "code",
   "execution_count": 8,
   "metadata": {
    "collapsed": false
   },
   "outputs": [
    {
     "name": "stdout",
     "output_type": "stream",
     "text": [
      "[0] actual: politik / predicted: politik\n",
      "[1] actual: politik / predicted: politik\n",
      "[2] actual: politik / predicted: politik\n",
      "[3] actual: politik / predicted: politik\n",
      "[4] actual: politik / predicted: politik\n",
      "[5] actual: politik / predicted: politik\n",
      "[6] actual: politik / predicted: politik\n",
      "[7] actual: politik / predicted: politik\n",
      "[8] actual: politik / predicted: politik\n",
      "[9] actual: politik / predicted: politik\n",
      "[10] actual: politik / predicted: politik\n",
      "[11] actual: politik / predicted: politik\n",
      "[12] actual: politik / predicted: politik\n",
      "[13] actual: politik / predicted: politik\n",
      "[14] actual: politik / predicted: politik\n",
      "[15] actual: politik / predicted: politik\n",
      "[16] actual: politik / predicted: wirtschaft\n",
      "[17] actual: politik / predicted: politik\n",
      "[18] actual: politik / predicted: politik\n",
      "[19] actual: politik / predicted: politik\n",
      "[20] actual: wirtschaft / predicted: politik\n",
      "[21] actual: wirtschaft / predicted: wirtschaft\n",
      "[22] actual: wirtschaft / predicted: politik\n",
      "[23] actual: wirtschaft / predicted: wirtschaft\n",
      "[24] actual: wirtschaft / predicted: politik\n",
      "[25] actual: wirtschaft / predicted: wirtschaft\n",
      "[26] actual: wirtschaft / predicted: wirtschaft\n",
      "[27] actual: wirtschaft / predicted: wirtschaft\n",
      "[28] actual: wirtschaft / predicted: wirtschaft\n",
      "[29] actual: wirtschaft / predicted: wirtschaft\n",
      "[30] actual: wirtschaft / predicted: wirtschaft\n",
      "[31] actual: wirtschaft / predicted: wirtschaft\n",
      "[32] actual: wirtschaft / predicted: politik\n",
      "[33] actual: wirtschaft / predicted: wirtschaft\n",
      "[34] actual: wirtschaft / predicted: politik\n",
      "[35] actual: wirtschaft / predicted: politik\n",
      "[36] actual: wirtschaft / predicted: politik\n",
      "[37] actual: wirtschaft / predicted: wirtschaft\n",
      "[38] actual: wirtschaft / predicted: wirtschaft\n",
      "[39] actual: wirtschaft / predicted: wirtschaft\n",
      "[40] actual: sport / predicted: politik\n",
      "[41] actual: sport / predicted: sport\n",
      "[42] actual: sport / predicted: sport\n",
      "[43] actual: sport / predicted: sport\n",
      "[44] actual: sport / predicted: politik\n",
      "[45] actual: sport / predicted: sport\n",
      "[46] actual: sport / predicted: sport\n",
      "[47] actual: sport / predicted: sport\n",
      "[48] actual: sport / predicted: sport\n",
      "[49] actual: sport / predicted: sport\n",
      "[50] actual: sport / predicted: sport\n",
      "[51] actual: sport / predicted: sport\n",
      "[52] actual: sport / predicted: sport\n",
      "[53] actual: sport / predicted: sport\n",
      "[54] actual: sport / predicted: sport\n",
      "[55] actual: sport / predicted: sport\n",
      "[56] actual: sport / predicted: sport\n",
      "[57] actual: sport / predicted: sport\n",
      "[58] actual: sport / predicted: sport\n",
      "[59] actual: sport / predicted: sport\n"
     ]
    }
   ],
   "source": [
    "for i in range(len(test)):\n",
    "    show_test_item(clfmnb, i, text=False)"
   ]
  },
  {
   "cell_type": "markdown",
   "metadata": {},
   "source": [
    "# Training of Support Vector Machine Classifier"
   ]
  },
  {
   "cell_type": "code",
   "execution_count": 9,
   "metadata": {
    "collapsed": true
   },
   "outputs": [],
   "source": [
    "clfsvm = SVC(kernel='linear', decision_function_shape='ovr', random_state=4711).fit(X, y)"
   ]
  },
  {
   "cell_type": "markdown",
   "metadata": {},
   "source": [
    "# Evaluation of Support Vector Machine Classifier"
   ]
  },
  {
   "cell_type": "code",
   "execution_count": 10,
   "metadata": {
    "collapsed": false
   },
   "outputs": [
    {
     "data": {
      "text/plain": [
       "0.81666666666666665"
      ]
     },
     "execution_count": 10,
     "metadata": {},
     "output_type": "execute_result"
    }
   ],
   "source": [
    "predicted_svm = clfsvm.predict(vectorizer.transform(test.text))\n",
    "accuracy_score(actuals, predicted_svm)"
   ]
  },
  {
   "cell_type": "code",
   "execution_count": 11,
   "metadata": {
    "collapsed": false
   },
   "outputs": [
    {
     "name": "stdout",
     "output_type": "stream",
     "text": [
      "[0] actual: politik / predicted: politik\n",
      "[1] actual: politik / predicted: politik\n",
      "[2] actual: politik / predicted: politik\n",
      "[3] actual: politik / predicted: politik\n",
      "[4] actual: politik / predicted: politik\n",
      "[5] actual: politik / predicted: politik\n",
      "[6] actual: politik / predicted: politik\n",
      "[7] actual: politik / predicted: politik\n",
      "[8] actual: politik / predicted: politik\n",
      "[9] actual: politik / predicted: politik\n",
      "[10] actual: politik / predicted: politik\n",
      "[11] actual: politik / predicted: politik\n",
      "[12] actual: politik / predicted: politik\n",
      "[13] actual: politik / predicted: politik\n",
      "[14] actual: politik / predicted: politik\n",
      "[15] actual: politik / predicted: politik\n",
      "[16] actual: politik / predicted: wirtschaft\n",
      "[17] actual: politik / predicted: politik\n",
      "[18] actual: politik / predicted: politik\n",
      "[19] actual: politik / predicted: politik\n",
      "[20] actual: wirtschaft / predicted: wirtschaft\n",
      "[21] actual: wirtschaft / predicted: sport\n",
      "[22] actual: wirtschaft / predicted: politik\n",
      "[23] actual: wirtschaft / predicted: wirtschaft\n",
      "[24] actual: wirtschaft / predicted: politik\n",
      "[25] actual: wirtschaft / predicted: wirtschaft\n",
      "[26] actual: wirtschaft / predicted: wirtschaft\n",
      "[27] actual: wirtschaft / predicted: wirtschaft\n",
      "[28] actual: wirtschaft / predicted: wirtschaft\n",
      "[29] actual: wirtschaft / predicted: wirtschaft\n",
      "[30] actual: wirtschaft / predicted: politik\n",
      "[31] actual: wirtschaft / predicted: wirtschaft\n",
      "[32] actual: wirtschaft / predicted: wirtschaft\n",
      "[33] actual: wirtschaft / predicted: wirtschaft\n",
      "[34] actual: wirtschaft / predicted: sport\n",
      "[35] actual: wirtschaft / predicted: politik\n",
      "[36] actual: wirtschaft / predicted: wirtschaft\n",
      "[37] actual: wirtschaft / predicted: wirtschaft\n",
      "[38] actual: wirtschaft / predicted: wirtschaft\n",
      "[39] actual: wirtschaft / predicted: wirtschaft\n",
      "[40] actual: sport / predicted: politik\n",
      "[41] actual: sport / predicted: sport\n",
      "[42] actual: sport / predicted: politik\n",
      "[43] actual: sport / predicted: sport\n",
      "[44] actual: sport / predicted: politik\n",
      "[45] actual: sport / predicted: sport\n",
      "[46] actual: sport / predicted: sport\n",
      "[47] actual: sport / predicted: sport\n",
      "[48] actual: sport / predicted: sport\n",
      "[49] actual: sport / predicted: sport\n",
      "[50] actual: sport / predicted: sport\n",
      "[51] actual: sport / predicted: sport\n",
      "[52] actual: sport / predicted: sport\n",
      "[53] actual: sport / predicted: sport\n",
      "[54] actual: sport / predicted: sport\n",
      "[55] actual: sport / predicted: sport\n",
      "[56] actual: sport / predicted: sport\n",
      "[57] actual: sport / predicted: wirtschaft\n",
      "[58] actual: sport / predicted: sport\n",
      "[59] actual: sport / predicted: sport\n"
     ]
    }
   ],
   "source": [
    "for i in range(len(test)):\n",
    "    show_test_item(clfsvm, i, text=False)"
   ]
  },
  {
   "cell_type": "markdown",
   "metadata": {},
   "source": [
    "# Comparison of results"
   ]
  },
  {
   "cell_type": "code",
   "execution_count": 12,
   "metadata": {
    "collapsed": false
   },
   "outputs": [
    {
     "name": "stdout",
     "output_type": "stream",
     "text": [
      "NB: [16] - actual: politik   predicted: wirtschaft\n",
      "NB: [20] - actual: wirtschaft   predicted: politik\n",
      "NB: [22] - actual: wirtschaft   predicted: politik\n",
      "NB: [24] - actual: wirtschaft   predicted: politik\n",
      "NB: [32] - actual: wirtschaft   predicted: politik\n",
      "NB: [34] - actual: wirtschaft   predicted: politik\n",
      "NB: [35] - actual: wirtschaft   predicted: politik\n",
      "NB: [36] - actual: wirtschaft   predicted: politik\n",
      "NB: [40] - actual: sport   predicted: politik\n",
      "NB: [44] - actual: sport   predicted: politik\n"
     ]
    }
   ],
   "source": [
    "for i in range(len(test)):\n",
    "    actual = test.iloc[i].category\n",
    "    nb_pred = clfmnb.predict(vectorizer.transform([test.iloc[i].text]))[0]\n",
    "    if actual != nb_pred:\n",
    "        print('NB: [' + str(i) + '] - actual: ' + actual + '   predicted: ' + nb_pred)"
   ]
  },
  {
   "cell_type": "code",
   "execution_count": 13,
   "metadata": {
    "collapsed": false
   },
   "outputs": [
    {
     "name": "stdout",
     "output_type": "stream",
     "text": [
      "SVM: [16] - actual: politik   predicted: wirtschaft\n",
      "SVM: [21] - actual: wirtschaft   predicted: sport\n",
      "SVM: [22] - actual: wirtschaft   predicted: politik\n",
      "SVM: [24] - actual: wirtschaft   predicted: politik\n",
      "SVM: [30] - actual: wirtschaft   predicted: politik\n",
      "SVM: [34] - actual: wirtschaft   predicted: sport\n",
      "SVM: [35] - actual: wirtschaft   predicted: politik\n",
      "SVM: [40] - actual: sport   predicted: politik\n",
      "SVM: [42] - actual: sport   predicted: politik\n",
      "SVM: [44] - actual: sport   predicted: politik\n",
      "SVM: [57] - actual: sport   predicted: wirtschaft\n"
     ]
    }
   ],
   "source": [
    "for i in range(len(test)):\n",
    "    actual = test.iloc[i].category\n",
    "    svm_pred = clfsvm.predict(vectorizer.transform([test.iloc[i].text]))[0]\n",
    "    if actual != svm_pred:\n",
    "        print('SVM: [' + str(i) + '] - actual: ' + actual + '   predicted: ' + svm_pred)"
   ]
  },
  {
   "cell_type": "code",
   "execution_count": 14,
   "metadata": {
    "collapsed": false
   },
   "outputs": [
    {
     "name": "stdout",
     "output_type": "stream",
     "text": [
      "[20] - nb: politik   svm: wirtschaft\n",
      "[21] - nb: wirtschaft   svm: sport\n",
      "[30] - nb: wirtschaft   svm: politik\n",
      "[32] - nb: politik   svm: wirtschaft\n",
      "[34] - nb: politik   svm: sport\n",
      "[36] - nb: politik   svm: wirtschaft\n",
      "[42] - nb: sport   svm: politik\n",
      "[57] - nb: sport   svm: wirtschaft\n"
     ]
    }
   ],
   "source": [
    "for i in range(len(test)):\n",
    "    nb_pred = clfmnb.predict(vectorizer.transform([test.iloc[i].text]))[0]\n",
    "    svm_pred = clfsvm.predict(vectorizer.transform([test.iloc[i].text]))[0]\n",
    "    if nb_pred != svm_pred:\n",
    "        print('[' + str(i) + '] - nb: ' + nb_pred + '   svm: ' + svm_pred)"
   ]
  },
  {
   "cell_type": "code",
   "execution_count": null,
   "metadata": {
    "collapsed": false
   },
   "outputs": [],
   "source": [
    "show_test_item(clfsvm, 44)"
   ]
  }
 ],
 "metadata": {
  "anaconda-cloud": {},
  "kernelspec": {
   "display_name": "Python [default]",
   "language": "python",
   "name": "python3"
  },
  "language_info": {
   "codemirror_mode": {
    "name": "ipython",
    "version": 3
   },
   "file_extension": ".py",
   "mimetype": "text/x-python",
   "name": "python",
   "nbconvert_exporter": "python",
   "pygments_lexer": "ipython3",
   "version": "3.5.2"
  }
 },
 "nbformat": 4,
 "nbformat_minor": 0
}
