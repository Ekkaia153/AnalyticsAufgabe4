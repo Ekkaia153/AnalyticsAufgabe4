{
 "cells": [
  {
   "cell_type": "markdown",
   "metadata": {},
   "source": [
    "# Aufgabe 4:"
   ]
  },
  {
   "cell_type": "code",
   "execution_count": 1,
   "metadata": {
    "collapsed": true
   },
   "outputs": [],
   "source": [
    "#Import stuff & things\n",
    "import pandas as pd\n",
    "from sklearn.feature_extraction.text import CountVectorizer\n",
    "from sklearn.naive_bayes import MultinomialNB\n",
    "from sklearn.metrics import accuracy_score"
   ]
  },
  {
   "cell_type": "code",
   "execution_count": 2,
   "metadata": {
    "collapsed": true
   },
   "outputs": [],
   "source": [
    "# Convenient function to output test items\n",
    "def show_test_item(clf, i, text=True, classify=True):\n",
    "    a = 'actual: ' + str(test.iloc[i].recommended)\n",
    "    p = ''\n",
    "    if classify:\n",
    "        p = ' / predicted: ' + str(clf.predict(vectorizer.transform([test.iloc[i].content_text]))[0])\n",
    "    print('[' + str(i) + '] ' +a + p)\n",
    "    if text:\n",
    "        print('\\n')\n",
    "        print(test.iloc[i].content_text)"
   ]
  },
  {
   "cell_type": "code",
   "execution_count": 61,
   "metadata": {
    "collapsed": false
   },
   "outputs": [
    {
     "data": {
      "text/html": [
       "<div>\n",
       "<table border=\"1\" class=\"dataframe\">\n",
       "  <thead>\n",
       "    <tr style=\"text-align: right;\">\n",
       "      <th></th>\n",
       "      <th>content_text</th>\n",
       "      <th>recommended</th>\n",
       "    </tr>\n",
       "  </thead>\n",
       "  <tbody>\n",
       "    <tr>\n",
       "      <th>0</th>\n",
       "      <td>Beschts spiu woni je ha gspiut</td>\n",
       "      <td>True</td>\n",
       "    </tr>\n",
       "    <tr>\n",
       "      <th>1</th>\n",
       "      <td>Best Game ever Kappa kappa</td>\n",
       "      <td>False</td>\n",
       "    </tr>\n",
       "    <tr>\n",
       "      <th>2</th>\n",
       "      <td>Total verbuggtes Game, komme daher auch nicht ...</td>\n",
       "      <td>False</td>\n",
       "    </tr>\n",
       "    <tr>\n",
       "      <th>3</th>\n",
       "      <td>leider ist die grafic für den absoluter mist u...</td>\n",
       "      <td>False</td>\n",
       "    </tr>\n",
       "    <tr>\n",
       "      <th>4</th>\n",
       "      <td>Bei „Dust: An Elysian Tail“ handelt es sich um...</td>\n",
       "      <td>True</td>\n",
       "    </tr>\n",
       "    <tr>\n",
       "      <th>5</th>\n",
       "      <td>Dieses Spiel ist kurz gesagt der schlimmste Dr...</td>\n",
       "      <td>False</td>\n",
       "    </tr>\n",
       "    <tr>\n",
       "      <th>6</th>\n",
       "      <td>Update: Das Spiel ist jetzt schon seit einigen...</td>\n",
       "      <td>True</td>\n",
       "    </tr>\n",
       "    <tr>\n",
       "      <th>7</th>\n",
       "      <td>...</td>\n",
       "      <td>False</td>\n",
       "    </tr>\n",
       "    <tr>\n",
       "      <th>8</th>\n",
       "      <td>Ich bin nun wirklich kein Fan von \"Autospielen...</td>\n",
       "      <td>True</td>\n",
       "    </tr>\n",
       "    <tr>\n",
       "      <th>9</th>\n",
       "      <td>Die aktuelle Version von \"Interstellar Marines...</td>\n",
       "      <td>True</td>\n",
       "    </tr>\n",
       "  </tbody>\n",
       "</table>\n",
       "</div>"
      ],
      "text/plain": [
       "                                        content_text recommended\n",
       "0                     Beschts spiu woni je ha gspiut        True\n",
       "1                         Best Game ever Kappa kappa       False\n",
       "2  Total verbuggtes Game, komme daher auch nicht ...       False\n",
       "3  leider ist die grafic für den absoluter mist u...       False\n",
       "4  Bei „Dust: An Elysian Tail“ handelt es sich um...        True\n",
       "5  Dieses Spiel ist kurz gesagt der schlimmste Dr...       False\n",
       "6  Update: Das Spiel ist jetzt schon seit einigen...        True\n",
       "7                                                ...       False\n",
       "8  Ich bin nun wirklich kein Fan von \"Autospielen...        True\n",
       "9  Die aktuelle Version von \"Interstellar Marines...        True"
      ]
     },
     "execution_count": 61,
     "metadata": {},
     "output_type": "execute_result"
    }
   ],
   "source": [
    "#Read Datasets for all Areas\n",
    "dir = '/Users/juliusstahnke/Documents/HTW/Analytics/Analytics/Aufgabe4'\n",
    "games = pd.read_json(dir + '/games/games.json', orient='records', encoding='utf8')\n",
    "music = pd.read_json(dir + '/music/music.json', orient='records', encoding='utf8')\n",
    "apps = pd.read_json(dir + '/apps/apps.json', orient='records', encoding='utf8')\n",
    "\n",
    "\n",
    "games[:10]"
   ]
  },
  {
   "cell_type": "code",
   "execution_count": 59,
   "metadata": {
    "collapsed": false
   },
   "outputs": [],
   "source": [
    "#Set Randomn State\n",
    "random_state = 100\n",
    "\n",
    "#Set Traindata for games\n",
    "train_games_positiv = games[games.recommended==True].sample(frac=0.8, random_state=random_state)\n",
    "train_games_negativ = games[games.recommended==False].sample(frac=0.8, random_state=random_state)\n",
    "train_games = pd.concat([train_games_positiv, train_games_negativ])\n",
    "test_games = games.drop(train_games.index)\n",
    "\n",
    "#Set Traindata for music\n",
    "train_music_positiv = music[music.rating.isin(['8', '9', '10', '11', '12', '13', '14', '15'])].sample(frac=0.8, random_state=random_state)\n",
    "train_music_negativ = music[music.rating.isin(['1', '2', '3', '4', '5', '6', '7'])].sample(frac=0.8, random_state=random_state)\n",
    "train_music = pd.concat([train_music_positiv, train_music_negativ])\n",
    "test_music = music.drop(train_music.index)\n",
    "\n",
    "#Set Traindata for apps\n",
    "train_apps_positiv = apps[apps.Rating >= 3].sample(frac=0.8, random_state=random_state)\n",
    "train_apps_negativ = apps[apps.Rating < 3].sample(frac=0.8, random_state=random_state)\n",
    "train_apps = pd.concat([train_apps_positiv, train_apps_negativ])\n",
    "test_apps = apps.drop(train_apps.index)"
   ]
  },
  {
   "cell_type": "code",
   "execution_count": 63,
   "metadata": {
    "collapsed": false
   },
   "outputs": [
    {
     "data": {
      "text/plain": [
       "0.75987306064880111"
      ]
     },
     "execution_count": 63,
     "metadata": {},
     "output_type": "execute_result"
    }
   ],
   "source": [
    "#Vectorizer Games\n",
    "vectorizer = CountVectorizer(min_df=10, max_df=200, token_pattern='\\w+')\n",
    "vectorizer.fit(train_games.content_text)\n",
    "\n",
    "X = vectorizer.transform(train_games.content_text)\n",
    "y = train_games.recommended\n",
    "clf = MultinomialNB().fit(X, y)\n",
    "actuals = test_games.recommended\n",
    "predicted = clf.predict(vectorizer.transform(test_games.content_text))\n",
    "accuracy_score(actuals, predicted)"
   ]
  },
  {
   "cell_type": "code",
   "execution_count": null,
   "metadata": {
    "collapsed": true
   },
   "outputs": [],
   "source": []
  }
 ],
 "metadata": {
  "kernelspec": {
   "display_name": "Python [conda root]",
   "language": "python",
   "name": "conda-root-py"
  },
  "language_info": {
   "codemirror_mode": {
    "name": "ipython",
    "version": 3
   },
   "file_extension": ".py",
   "mimetype": "text/x-python",
   "name": "python",
   "nbconvert_exporter": "python",
   "pygments_lexer": "ipython3",
   "version": "3.5.2"
  }
 },
 "nbformat": 4,
 "nbformat_minor": 1
}
