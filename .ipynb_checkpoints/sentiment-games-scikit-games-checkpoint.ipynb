{
 "cells": [
  {
   "cell_type": "code",
   "execution_count": 1,
   "metadata": {
    "collapsed": true
   },
   "outputs": [],
   "source": [
    "import pandas as pd\n",
    "from sklearn.feature_extraction.text import CountVectorizer\n",
    "from sklearn.naive_bayes import MultinomialNB\n",
    "from sklearn.metrics import accuracy_score"
   ]
  },
  {
   "cell_type": "code",
   "execution_count": 3,
   "metadata": {
    "collapsed": true
   },
   "outputs": [],
   "source": [
    "# Convenient function to output test items\n",
    "def show_test_item(clf, i, text=True, classify=True):\n",
    "    a = 'actual: ' + str(test.iloc[i].recommended)\n",
    "    p = ''\n",
    "    if classify:\n",
    "        p = ' / predicted: ' + str(clf.predict(vectorizer.transform([test.iloc[i].content_text]))[0])\n",
    "    print('[' + str(i) + '] ' +a + p)\n",
    "    if text:\n",
    "        print('\\n')\n",
    "        print(test.iloc[i].content_text)"
   ]
  },
  {
   "cell_type": "code",
   "execution_count": 4,
   "metadata": {
    "collapsed": false
   },
   "outputs": [
    {
     "name": "stdout",
     "output_type": "stream",
     "text": [
      "<class 'pandas.core.frame.DataFrame'>\n",
      "RangeIndex: 28364 entries, 0 to 28363\n",
      "Data columns (total 2 columns):\n",
      "content_text    28364 non-null object\n",
      "recommended     28364 non-null bool\n",
      "dtypes: bool(1), object(1)\n",
      "memory usage: 249.4+ KB\n"
     ]
    },
    {
     "data": {
      "text/html": [
       "<div>\n",
       "<table border=\"1\" class=\"dataframe\">\n",
       "  <thead>\n",
       "    <tr style=\"text-align: right;\">\n",
       "      <th></th>\n",
       "      <th>content_text</th>\n",
       "      <th>recommended</th>\n",
       "    </tr>\n",
       "  </thead>\n",
       "  <tbody>\n",
       "    <tr>\n",
       "      <th>0</th>\n",
       "      <td>Beschts spiu woni je ha gspiut</td>\n",
       "      <td>True</td>\n",
       "    </tr>\n",
       "    <tr>\n",
       "      <th>1</th>\n",
       "      <td>Best Game ever Kappa kappa</td>\n",
       "      <td>False</td>\n",
       "    </tr>\n",
       "    <tr>\n",
       "      <th>2</th>\n",
       "      <td>Total verbuggtes Game, komme daher auch nicht ...</td>\n",
       "      <td>False</td>\n",
       "    </tr>\n",
       "    <tr>\n",
       "      <th>3</th>\n",
       "      <td>leider ist die grafic für den absoluter mist u...</td>\n",
       "      <td>False</td>\n",
       "    </tr>\n",
       "    <tr>\n",
       "      <th>4</th>\n",
       "      <td>Bei „Dust: An Elysian Tail“ handelt es sich um...</td>\n",
       "      <td>True</td>\n",
       "    </tr>\n",
       "    <tr>\n",
       "      <th>5</th>\n",
       "      <td>Dieses Spiel ist kurz gesagt der schlimmste Dr...</td>\n",
       "      <td>False</td>\n",
       "    </tr>\n",
       "    <tr>\n",
       "      <th>6</th>\n",
       "      <td>Update: Das Spiel ist jetzt schon seit einigen...</td>\n",
       "      <td>True</td>\n",
       "    </tr>\n",
       "    <tr>\n",
       "      <th>7</th>\n",
       "      <td>...</td>\n",
       "      <td>False</td>\n",
       "    </tr>\n",
       "    <tr>\n",
       "      <th>8</th>\n",
       "      <td>Ich bin nun wirklich kein Fan von \"Autospielen...</td>\n",
       "      <td>True</td>\n",
       "    </tr>\n",
       "    <tr>\n",
       "      <th>9</th>\n",
       "      <td>Die aktuelle Version von \"Interstellar Marines...</td>\n",
       "      <td>True</td>\n",
       "    </tr>\n",
       "  </tbody>\n",
       "</table>\n",
       "</div>"
      ],
      "text/plain": [
       "                                        content_text recommended\n",
       "0                     Beschts spiu woni je ha gspiut        True\n",
       "1                         Best Game ever Kappa kappa       False\n",
       "2  Total verbuggtes Game, komme daher auch nicht ...       False\n",
       "3  leider ist die grafic für den absoluter mist u...       False\n",
       "4  Bei „Dust: An Elysian Tail“ handelt es sich um...        True\n",
       "5  Dieses Spiel ist kurz gesagt der schlimmste Dr...       False\n",
       "6  Update: Das Spiel ist jetzt schon seit einigen...        True\n",
       "7                                                ...       False\n",
       "8  Ich bin nun wirklich kein Fan von \"Autospielen...        True\n",
       "9  Die aktuelle Version von \"Interstellar Marines...        True"
      ]
     },
     "execution_count": 4,
     "metadata": {},
     "output_type": "execute_result"
    }
   ],
   "source": [
    "dir = 'C:/Users/stahn/Documents/HTW/Analytics/Aufgabe 4/games/'\n",
    "games = pd.read_json(dir + 'games.json', orient='records', encoding='utf8')\n",
    "games.info()\n",
    "games[:10]"
   ]
  },
  {
   "cell_type": "code",
   "execution_count": 6,
   "metadata": {
    "collapsed": true
   },
   "outputs": [],
   "source": [
    "random_state = 100\n",
    "train_positiv = games[games.recommended==True].sample(frac=0.8, random_state=random_state)\n",
    "train_negativ = games[games.recommended==False].sample(frac=0.8, random_state=random_state)\n",
    "train = pd.concat([train_positiv, train_negativ])\n",
    "test = games.drop(train.index)"
   ]
  },
  {
   "cell_type": "code",
   "execution_count": 7,
   "metadata": {
    "collapsed": false
   },
   "outputs": [
    {
     "data": {
      "text/plain": [
       "CountVectorizer(analyzer='word', binary=False, decode_error='strict',\n",
       "        dtype=<class 'numpy.int64'>, encoding='utf-8', input='content',\n",
       "        lowercase=True, max_df=200, max_features=None, min_df=10,\n",
       "        ngram_range=(1, 1), preprocessor=None, stop_words=None,\n",
       "        strip_accents=None, token_pattern='\\\\w+', tokenizer=None,\n",
       "        vocabulary=None)"
      ]
     },
     "execution_count": 7,
     "metadata": {},
     "output_type": "execute_result"
    }
   ],
   "source": [
    "vectorizer = CountVectorizer(min_df=10, max_df=200, token_pattern='\\w+')\n",
    "vectorizer.fit(train.content_text)"
   ]
  },
  {
   "cell_type": "code",
   "execution_count": null,
   "metadata": {
    "collapsed": false
   },
   "outputs": [],
   "source": [
    "X = vectorizer.transform(train.content_text)\n",
    "y = train.recommended\n",
    "clf = MultinomialNB().fit(X, y)\n",
    "actuals = test.recommended\n",
    "predicted = clf.predict(vectorizer.transform(test.content_text))\n",
    "accuracy_score(actuals, predicted)"
   ]
  },
  {
   "cell_type": "code",
   "execution_count": 7,
   "metadata": {
    "collapsed": false
   },
   "outputs": [
    {
     "name": "stdout",
     "output_type": "stream",
     "text": [
      "[0] actual: False / predicted: False\n",
      "\n",
      "\n",
      "leider ist die grafic für den absoluter mist und nicht richtig zu fixen daher kann ich es nicht emfpehlen\n"
     ]
    }
   ],
   "source": [
    "show_test_item(clf, 0)"
   ]
  },
  {
   "cell_type": "code",
   "execution_count": 8,
   "metadata": {
    "collapsed": false
   },
   "outputs": [
    {
     "name": "stdout",
     "output_type": "stream",
     "text": [
      "[1] actual: True / predicted: True\n",
      "\n",
      "\n",
      "nice the game!\n"
     ]
    }
   ],
   "source": [
    "show_test_item(clf, 1)"
   ]
  },
  {
   "cell_type": "code",
   "execution_count": 9,
   "metadata": {
    "collapsed": false
   },
   "outputs": [
    {
     "name": "stdout",
     "output_type": "stream",
     "text": [
      "[4] actual: False / predicted: True\n",
      "\n",
      "\n",
      "Das is scheiße!!!! Holt es euch nicht!\n",
      "\n",
      "\n",
      "\n",
      "[14] actual: True / predicted: False\n",
      "\n",
      "\n",
      "Ich sah den Trailer und dachte: Ach ne,wieder n Rip off ! Ich sah den Preis und dachte: Für n 5er kannste nix falsch machen. Ich habs angetestet und dachte:Ach du Schande,gleich 23:30Uhr. Bauspaß ohne Ende.Selbst in dieser abgespeckten Version. Wer Phantasie hat und ein wenig konstruktiv ist, kann sich hier austoben. Ja,es hängt sich dann und wann auf.Ja,es hat Glitches/Bugs. Wer sich diesen ungeschliffenen Diamanten zulegen möchte: Denkt immer dran,es ist Early Access ! Fehlender Inhalt gehört in diesem Entwicklungsstadium dazu. Mir macht das Bauen hier jetzt schon mehr Spaß als beim 'Vorzeigespiel'. Von meiner Seite : Thumbs Up ! :)\n",
      "\n",
      "\n",
      "\n",
      "[17] actual: False / predicted: True\n",
      "\n",
      "\n",
      "♥♥♥♥ game\n",
      "\n",
      "\n",
      "\n",
      "[21] actual: True / predicted: False\n",
      "\n",
      "\n",
      "Interessantes Spiel im Apha Stadium. Leider noch wirklich sehr \"Alpha\" das Ganze. Ich würde fast meinen \"Pre-Alpha\". Klare Empfehlung da ich sehr viel Potential in diesem Titel sehe, aber von einem Kauf würde ich derzeit noch abraten. Obwohl es sich bei Maja um ein \"Early Access\" Spiel handelt ist die KI nichtmal in der Lage Bauaufträge von Gebäuden und Objekten sachgemäß auszuführen. Stattdessen kann man der KI zusehen wie sie stundenlang im Kreis läuft oder durch pure Dummheit Selbstmord begeht. Das frustriert noch sehr und macht Maia unspielbar.\n",
      "\n",
      "\n",
      "\n",
      "[29] actual: True / predicted: False\n",
      "\n",
      "\n",
      "besser als Civ V\n",
      "\n",
      "\n",
      "\n",
      "[30] actual: False / predicted: True\n",
      "\n",
      "\n",
      "früher gut jetzt durch zu viele patches nur noch mist\n",
      "\n",
      "\n",
      "\n",
      "[32] actual: False / predicted: True\n",
      "\n",
      "\n",
      "ich würd eher die free to play version empfehlen\n",
      "\n",
      "\n",
      "\n",
      "[36] actual: True / predicted: False\n",
      "\n",
      "\n",
      "Fun: 8/10 Gameplay (simulation): 9/10 Graphics: 7/10 Replayability: 8/10 Controls: 10/10 Total: 7/10 Comment: Nice game, good simulation of cities and make fun. It is worth to buy\n",
      "\n",
      "\n",
      "\n",
      "[46] actual: True / predicted: False\n",
      "\n",
      "\n",
      "EA - The Video Game.\n",
      "\n",
      "\n",
      "\n",
      "[48] actual: False / predicted: True\n",
      "\n",
      "\n",
      "Kann ich nicht empfehlen.\n",
      "\n",
      "\n",
      "\n"
     ]
    }
   ],
   "source": [
    "for i in range(0,50):\n",
    "    x = clf.predict(vectorizer.transform([test.iloc[i].content_text]))[0]\n",
    "    if test.iloc[i].recommended != x:\n",
    "        show_test_item(clf, i)\n",
    "        print('\\n\\n')"
   ]
  }
 ],
 "metadata": {
  "anaconda-cloud": {},
  "kernelspec": {
   "display_name": "Python [default]",
   "language": "python",
   "name": "python3"
  },
  "language_info": {
   "codemirror_mode": {
    "name": "ipython",
    "version": 3
   },
   "file_extension": ".py",
   "mimetype": "text/x-python",
   "name": "python",
   "nbconvert_exporter": "python",
   "pygments_lexer": "ipython3",
   "version": "3.5.2"
  }
 },
 "nbformat": 4,
 "nbformat_minor": 0
}
