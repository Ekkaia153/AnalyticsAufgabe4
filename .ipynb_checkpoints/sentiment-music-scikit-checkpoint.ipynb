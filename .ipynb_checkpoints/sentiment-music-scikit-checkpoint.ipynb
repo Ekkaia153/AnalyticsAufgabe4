{
 "cells": [
  {
   "cell_type": "code",
   "execution_count": 1,
   "metadata": {
    "collapsed": true
   },
   "outputs": [],
   "source": [
    "import numpy as np\n",
    "import pandas as pd\n",
    "from sklearn.feature_extraction.text import CountVectorizer\n",
    "from sklearn.naive_bayes import MultinomialNB\n",
    "from sklearn.metrics import accuracy_score"
   ]
  },
  {
   "cell_type": "code",
   "execution_count": 2,
   "metadata": {
    "collapsed": true
   },
   "outputs": [],
   "source": [
    "# Convenient function to output test items\n",
    "def show_test_item(clf, i, text=True, classify=True):\n",
    "    a = 'actual: ' + str(test.iloc[i].positiv)\n",
    "    p = ''\n",
    "    if classify:\n",
    "        p = ' / predicted: ' + str(clf.predict(vectorizer.transform([test.iloc[i].description]))[0])\n",
    "    print('[' + str(i) + '] ' +a + p)\n",
    "    if text:\n",
    "        print('\\n')\n",
    "        print(test.iloc[i].description)"
   ]
  },
  {
   "cell_type": "code",
   "execution_count": 3,
   "metadata": {
    "collapsed": false
   },
   "outputs": [
    {
     "name": "stdout",
     "output_type": "stream",
     "text": [
      "<class 'pandas.core.frame.DataFrame'>\n",
      "RangeIndex: 13652 entries, 0 to 13651\n",
      "Data columns (total 3 columns):\n",
      "description    13652 non-null object\n",
      "rating         13652 non-null object\n",
      "summary        13652 non-null object\n",
      "dtypes: object(3)\n",
      "memory usage: 320.0+ KB\n"
     ]
    },
    {
     "data": {
      "text/html": [
       "<div>\n",
       "<table border=\"1\" class=\"dataframe\">\n",
       "  <thead>\n",
       "    <tr style=\"text-align: right;\">\n",
       "      <th></th>\n",
       "      <th>description</th>\n",
       "      <th>rating</th>\n",
       "      <th>summary</th>\n",
       "    </tr>\n",
       "  </thead>\n",
       "  <tbody>\n",
       "    <tr>\n",
       "      <th>0</th>\n",
       "      <td>Es gibt Neuigkeiten aus Texas! Nein, nicht die...</td>\n",
       "      <td>12</td>\n",
       "      <td>FAZIT: Fünf Jahre mussten die zahlreichen Fans...</td>\n",
       "    </tr>\n",
       "    <tr>\n",
       "      <th>1</th>\n",
       "      <td>Der Sticker auf dieser   offeriert uns sofort,...</td>\n",
       "      <td>-</td>\n",
       "      <td>FAZIT: Der holländische Hardcore-Fünfer SUPERH...</td>\n",
       "    </tr>\n",
       "    <tr>\n",
       "      <th>2</th>\n",
       "      <td>Unser Fazit zu dem nunmehr auch schon zwei Jah...</td>\n",
       "      <td>12</td>\n",
       "      <td>FAZIT: Eine der dienstältesten deutschen Prog-...</td>\n",
       "    </tr>\n",
       "    <tr>\n",
       "      <th>3</th>\n",
       "      <td>Ein abschreckender Titel! Abschreckend für all...</td>\n",
       "      <td>-</td>\n",
       "      <td>FAZIT: Das Doppelalbum „Ballett 1 &amp; 2“ von   e...</td>\n",
       "    </tr>\n",
       "    <tr>\n",
       "      <th>4</th>\n",
       "      <td>„Der Instrumental-König entfesselt einen Monsu...</td>\n",
       "      <td>12</td>\n",
       "      <td>FAZIT: So sollte klassischer instrumentaler Pr...</td>\n",
       "    </tr>\n",
       "    <tr>\n",
       "      <th>5</th>\n",
       "      <td>Der italienische Pianist, Akkordeonspieler und...</td>\n",
       "      <td>12</td>\n",
       "      <td>FAZIT: „TangoOstinato“ von LUCA ALETTA bietet ...</td>\n",
       "    </tr>\n",
       "    <tr>\n",
       "      <th>6</th>\n",
       "      <td>Während der Franzose JEAN-BAPTISTE CALLUAUD se...</td>\n",
       "      <td>11</td>\n",
       "      <td>FAZIT zum Vorgänger von „ “ - „Living Ends“ - ...</td>\n",
       "    </tr>\n",
       "    <tr>\n",
       "      <th>7</th>\n",
       "      <td>Es ist dieses Cover, das einen abschreckt.  Ei...</td>\n",
       "      <td>11</td>\n",
       "      <td>FAZIT: Wenn an einem „Thursday Afternoon“ BRIA...</td>\n",
       "    </tr>\n",
       "    <tr>\n",
       "      <th>8</th>\n",
       "      <td>Drei Jahre Zeit steckten   in dieses erste Alb...</td>\n",
       "      <td>11</td>\n",
       "      <td>FAZIT: Überdurchschnittlich gute Platte im zei...</td>\n",
       "    </tr>\n",
       "    <tr>\n",
       "      <th>9</th>\n",
       "      <td>Als Garant für Roots Rock von hoher Güte gilt ...</td>\n",
       "      <td>10</td>\n",
       "      <td>FAZIT:  s aktuelles Album ist ein durchweg tra...</td>\n",
       "    </tr>\n",
       "  </tbody>\n",
       "</table>\n",
       "</div>"
      ],
      "text/plain": [
       "                                         description rating  \\\n",
       "0  Es gibt Neuigkeiten aus Texas! Nein, nicht die...     12   \n",
       "1  Der Sticker auf dieser   offeriert uns sofort,...      -   \n",
       "2  Unser Fazit zu dem nunmehr auch schon zwei Jah...     12   \n",
       "3  Ein abschreckender Titel! Abschreckend für all...      -   \n",
       "4  „Der Instrumental-König entfesselt einen Monsu...     12   \n",
       "5  Der italienische Pianist, Akkordeonspieler und...     12   \n",
       "6  Während der Franzose JEAN-BAPTISTE CALLUAUD se...     11   \n",
       "7  Es ist dieses Cover, das einen abschreckt.  Ei...     11   \n",
       "8  Drei Jahre Zeit steckten   in dieses erste Alb...     11   \n",
       "9  Als Garant für Roots Rock von hoher Güte gilt ...     10   \n",
       "\n",
       "                                             summary  \n",
       "0  FAZIT: Fünf Jahre mussten die zahlreichen Fans...  \n",
       "1  FAZIT: Der holländische Hardcore-Fünfer SUPERH...  \n",
       "2  FAZIT: Eine der dienstältesten deutschen Prog-...  \n",
       "3  FAZIT: Das Doppelalbum „Ballett 1 & 2“ von   e...  \n",
       "4  FAZIT: So sollte klassischer instrumentaler Pr...  \n",
       "5  FAZIT: „TangoOstinato“ von LUCA ALETTA bietet ...  \n",
       "6  FAZIT zum Vorgänger von „ “ - „Living Ends“ - ...  \n",
       "7  FAZIT: Wenn an einem „Thursday Afternoon“ BRIA...  \n",
       "8  FAZIT: Überdurchschnittlich gute Platte im zei...  \n",
       "9  FAZIT:  s aktuelles Album ist ein durchweg tra...  "
      ]
     },
     "execution_count": 3,
     "metadata": {},
     "output_type": "execute_result"
    }
   ],
   "source": [
    "dir = 'd:/repository/daten/sentiment/'\n",
    "music = pd.read_json(dir + 'music.json', orient='records', encoding='utf8')\n",
    "music.info()\n",
    "music[:10]"
   ]
  },
  {
   "cell_type": "code",
   "execution_count": 4,
   "metadata": {
    "collapsed": false
   },
   "outputs": [],
   "source": [
    "music = music[music.rating != '-'].copy()\n",
    "music['rating'] = music.rating.astype(np.uint8)\n",
    "music = music[(music.rating>10) | (music.rating<8)].copy()\n",
    "music['positiv'] = (music.rating > 10)"
   ]
  },
  {
   "cell_type": "code",
   "execution_count": 5,
   "metadata": {
    "collapsed": true
   },
   "outputs": [],
   "source": [
    "random_state = 100\n",
    "train_positiv = music[music.positiv==True].sample(frac=0.8, random_state=random_state)\n",
    "train_negativ = music[music.positiv==False].sample(frac=0.8, random_state=random_state)\n",
    "train = pd.concat([train_positiv, train_negativ])\n",
    "test = music.drop(train.index)"
   ]
  },
  {
   "cell_type": "code",
   "execution_count": 6,
   "metadata": {
    "collapsed": false
   },
   "outputs": [
    {
     "data": {
      "text/plain": [
       "CountVectorizer(analyzer='word', binary=False, decode_error='strict',\n",
       "        dtype=<class 'numpy.int64'>, encoding='utf-8', input='content',\n",
       "        lowercase=True, max_df=200, max_features=None, min_df=10,\n",
       "        ngram_range=(1, 1), preprocessor=None, stop_words=None,\n",
       "        strip_accents=None, token_pattern='\\\\w+', tokenizer=None,\n",
       "        vocabulary=None)"
      ]
     },
     "execution_count": 6,
     "metadata": {},
     "output_type": "execute_result"
    }
   ],
   "source": [
    "vectorizer = CountVectorizer(min_df=10, max_df=200, token_pattern='\\w+')\n",
    "vectorizer.fit(train.description)"
   ]
  },
  {
   "cell_type": "code",
   "execution_count": 7,
   "metadata": {
    "collapsed": false
   },
   "outputs": [
    {
     "data": {
      "text/plain": [
       "0.87062187276626157"
      ]
     },
     "execution_count": 7,
     "metadata": {},
     "output_type": "execute_result"
    }
   ],
   "source": [
    "X = vectorizer.transform(train.description)\n",
    "y = train.positiv\n",
    "clf = MultinomialNB().fit(X, y)\n",
    "actuals = test.positiv\n",
    "predicted = clf.predict(vectorizer.transform(test.description))\n",
    "accuracy_score(actuals, predicted)"
   ]
  },
  {
   "cell_type": "code",
   "execution_count": 8,
   "metadata": {
    "collapsed": false
   },
   "outputs": [
    {
     "name": "stdout",
     "output_type": "stream",
     "text": [
      "[0] actual: True / predicted: True\n",
      "\n",
      "\n",
      "„Der Instrumental-König entfesselt einen Monsun von Melodien, während er uns zugleich mit einem konstanten Fluss wechselnder musikalischer Genres fesselt.“ - genauso steht es auf dem Begleitblatt für uns Kritiker zu „ “,   des ukrainischen Bombast-Keyboarders ANTONY KALUGIN, der mit der Unterstützung einer Vielzahl professioneller Musiker unter dem Namen   regelmäßig seine symphonischen Kunstrock-Werke allen Freunden keyboard-orientierter Musik von RICK WAKEMAN bis THE NICE offenbart.  Mit   ist ihm diesmal ein sehr abwechslungsreiches, zurecht in drei unterschiedliche Phasen unterteiltes Werk gelungen, das dem Promo-Satz in seiner ganzen vergleichenden Schönheit ohne Übertreibung entspricht.  Eine der absoluten Stärken von „ “ ist die sehr breite Instrumentierung des Albums. So geht die Musik nicht in bombastischen Keyboard-Breitwand-Sounds unter, sondern wird ständig durch viele akustische Instrumente, wie Akkordeon, Flöten, Saxofonen, Violinen, aber auch klassischem Piano, akustischen Gitarren und einer Triangel konterkariert, wogegen immer wieder E-Gitarren für metallische Effekte sorgen. „Dionis“ kommt sogar mit einem Schlagzeug-Solo und einem sich rundum austobenden Schlagzeuger daher, dem als beruhigendes Moment Flöten und akustische Gitarren gegenübergestellt werden, nur damit ein Akkordeon dieses stil“volle“ Stück zum Ende führen darf.  Größte Überraschung aber ist „Terra Incognita“ mit Chor-Gesang und E-Gitarren-Duell, das einen bei dem wilden Hin und Her zwischen den Boxen schier in den Wahnsinn treibt. Einen begeisterten Wahnsinn natürlich. Spätestens, wenn man sich entscheidet, „ “ auch einen Hördurchgang unter hochwertigen Kopfhörern zu widmen, wartet ein weiteres begeisterndes Element auf einen: der Sound. Einerseits ist er sehr voluminös und die Vielzahl der Instrumente sind hervorragend aufeinander abgestimmt und andererseits lebt er von ausgezeichneten Stereo-Effekten, die einen fast schwindelig machen.  Am beeindruckendsten ist in dieser Beziehung die „Phase 2“, in der Kalugin über 20 Minuten lang den musikalischen Götterboten spielt und bei der das Schlagzeug am intensivsten zum Einsatz kommt. Ganz kurz taucht auch in „Aurora“ noch einmal ein Männerchor auf, um uns mit „In vino veritas“ mitzuteilen, dass die „Wahrheit im Weine liegt“ und diese Erkenntnis mit einem akustischen Bass druckvoll – ein wenig barjazzig – untermalt wird, bis dann eine E-Gitarre uns mit einem himmlischen Melodiebogen in Richtung „Homonymous (Pert 2)“ verabschiedet, einem klassischen Akustik-Gitarrenstück in bester STEVE HACKETT-“Horizons“-Manier!  Damit bricht auch schon die letzte, zugleich ruhigste und akustischste Phase des Albums an – eingestimmt von einem Akkordeon und einem zarten Shanty-Rhythmus. Unglaublich stark dieser Kalugin-Mut zu solch einem Stimmungswechsel. Wer sich einseitig auf Prog-Gleisen bewegt, der wird mit diesen eingängigen Melodien nicht viel anfangen können. Wer aber harmonische, fast klassische Musik liebt, den wird gerade diese Phase begeistern, auch wenn sie überraschend für eine knappe Minute lang in „Natural Charm“ noch einmal gehörig einen mit der Keyboard-Bombast-Keule übergezogen bekommt, die dann zarte Flötentöne davonblasen.  Den Abschluss von „ “ macht ein live im Studio eingespieltes Stück, das einer ruhigen Bar-Jazz-Nummer, die mit Piano und Wellenrauschen, akustischem Bass und zarten Synthie-Flächen eingespielt wird, sehr nahe kommt. Ein Stück zum Träumen am Strand, während am Horizont die Sonne untergeht. Ein gelungener Schluss für ein abwechslungsreiches, gelungenes Album in den schönster „ “(l)-Farben.  [ ]\n"
     ]
    }
   ],
   "source": [
    "show_test_item(clf, 0)"
   ]
  },
  {
   "cell_type": "code",
   "execution_count": 9,
   "metadata": {
    "collapsed": false
   },
   "outputs": [
    {
     "name": "stdout",
     "output_type": "stream",
     "text": [
      "[4] actual: False / predicted: False\n",
      "\n",
      "\n",
      "Mit ihrer näselnden Stimme und aufgrund der Art, wie sie im Rahmen der Produktion gedoppelt wurde, erinnert Sängerin Steph an COHEED AND CAMBRIAs Claudio Sanchez, ob man es glaubt oder nicht, und auch musikalisch ist ihr Projekt   (gemeinsam mit Bruderherz) nicht allzu weit vom Sound der Amerikaner entfernt … obgleich weniger proggy. In den Sinn kommen auch andere nordamerikanische Adressen aus dem Modern-Rock-Bereich, seien es nun die offensichtlichen NICKELBACK und STAIND oder alternative Nachdenker wie THRICE, welche das Duo selbst als Inspirationsgeber nennt. So einfallsreich komponieren   leider zu keiner Sekunde, sondern außerordentlich berechnend und somit berechenbar. Der balladeske Beginn mit dem Titelstück trügt, denn spätere Tracks wie 'Car Spin' oder die bombastische Breitband-Hymne 'Safe Haven' warten mit gehöriger Gitarrenpower auf, wiewohl die Scheibe immer hübsch poliert anmutet, während die süßliche, dank Mainstream-Sound immer leicht künstlich anmutende Stimme erhalten bleibt. Der akustische Schmalztopf 'Stitch On My Wings' markiert im Verlauf der Scheibe allerspätestens einen für ihre Rezeption und Bewertung signifikanten Punkt: Die Luft ist raus, das Material \" \" fällt nach hinten latent ab … respektive man durchschaut die Gleichförmigkeit des Zeugs endgültig.  [ ]\n"
     ]
    }
   ],
   "source": [
    "show_test_item(clf, 4)"
   ]
  },
  {
   "cell_type": "code",
   "execution_count": 10,
   "metadata": {
    "collapsed": false
   },
   "outputs": [
    {
     "name": "stdout",
     "output_type": "stream",
     "text": [
      "[6] actual: True / predicted: False\n",
      "\n",
      "\n",
      "Da ist er wieder, der deutsche Blueser, dem wir hier schon hohe musikalische Qualität bescheinigt haben, und auch sein neues Werk \" \", mit dem sich der Osnabrücker selbst gut genug ist, zeugt sowohl von gediegenem Handwerk, wie man so schön floskelt, als auch beseeltem Songwriting. Die Vorbilder von Matt dürften dabei klar sein - Strat-Spieler wie Jimi Hendrix (das schmatzende Titelstück) oder Ritchie Blackmore, wobei Hard Rock oder gar Metal auf \" \" definitiv allenthalben marginal stattfinden. Die Produktion steht ganz im Zeichen des eher britischen als amerikanischen Blues Rock, wie auch die Kompositionen sehr traditionell gehalten sind. Wie für den Vorgänger dieses Albums gilt bei den neuen Tracks:   tun erst gar nicht so, als ob sie anderswoher kämen als der Mitte Europas, doch das haben sie auch gar nicht nötig. Das Trio hat die Historie der abgefrühstückten Stilistiken wenn nicht mit der Muttermilch aufgesogen, so doch auf jeden Fall fest verinnerlicht. Das Wichtige dabei: Eigenkolorit, denn so sehr sich der Namengeber bemüht, prägende Merkmale der Klassiker im optischen Bereich zu emulieren (seine überkommene Internetpräsenz und der Mangel an weiterführenden Infos sprechen dahingehend auf sympathische Weise Bände), so individuell klingt seine Musik im gegebenen Rahmen. Das bedingt allein schon seine näselnde Stimme und setzt sich im völligen Verzicht auf Fremdkompositionen fort. Dass Matt und Co. selbst gleichermaßen witzige wie spielerisch raffinierte Tracks der Marke 'No Chance For Sideburns' schreiben können, adelt sie als traditionsbewusste Künstler mit einem Willen zur Selbstverwirklichung.  Auf \" \" werden letztlich eine Menge Klischees geritten, angefangen beim ewig ersehnten \"Mojo\" über das im Weiblichen gesuchte Heil des gebeutelten Mannes ('I've Got An Angel', ein abgeklärter Schleicher) bis zur fast progressiven Abfahrt am Schluss. Dort bezeugt 'You're The One' dann vor allem eines: einen eigenständigen Gitarrenstil, und was kann sich ein Klampfer mehr wünschen?  [ ]\n",
      "\n",
      "\n",
      "\n",
      "[20] actual: True / predicted: False\n",
      "\n",
      "\n",
      "TURBOSTAAT spielen bei Joko und Klaas, Deutschrock krankt an flapsig ironisch dargebotenem Indie-Pflicht-Weltschmerz einerseits und gutbürgerlichem Plastik-Schlagerrock andererseits – „ist das noch Punk-Rock?“ Und nachdem Bela B. sich lieber damit vergnügt, mit Jan Böhmermann Plätzchen zu backen oder Hörspiele zu produzieren (und das letzte ÄRZTE-Album sowieso eine eher unerfreuliche Angelegenheit war), muss es halt jemand anderes machen.  Und - voilà! Aus dem Saarland erhebt sich ein torkelnder Mittelfinger mit Tinte und Popeln unter den Nägeln:  ! Musikalisch bewegt man sich gar nicht soweit weg von TURBOSTAAT, oder auch (ansatzweise und noch ein gutes Stück von deren musikalischen Dimensionen entfernt) dem amerikanischen Post-Hardcore (z.B. TOUCHÉ AMORÉ): Auf einem oft harten kargen Brett werden die wirklich gelungenen Texte serviert, um mit schlafwandlerischer Sicherheit in grandiose Hooks überzugehen, die die HOSEN sicher nicht besser drauf haben.  Inhaltlich wird das Feld zwischen politischen und introspektiven Themen bestellt, plakativ wird in „Kaufhausware Mensch“ das menschenunwürdige Dasein der Flüchtlinge besungen, aber: Nicht „das wird man wohl noch sagen dürfen“ gilt hier, sondern „das kann nicht oft genug gesagt werden“! „Ich sitze hier am Citystrand/Mit grünem Fernet in der Hand/Der große Fluss spült alles weg/Rattenkot und Dancefloordreck“ ist der Single „Stadt im Glück“ entnommen, die wesentlich durchdachter und düsterer rüberkommt, als man von einer Band, die ihren Hauptzweck laut eigener Angabe in Spaß und Bier sieht, erwarten würde. „Zurück“ wartet mit einem Refrain auf, die unweigerlich an „Altes Fieber“, den ultimativen Klassentreffen-Hit der TOTEN HOSEN, erinnert, nur dass die hier zum Ausdruck gebrachte Angst, die möglicherweise falschen Entscheidungen, überhaupt Entscheidungen zu treffen, doch etwas tiefergehende Schichten ankratzt. „Herr Karoshi“: „Zähne geputzt und dann übergeben/Zwischen Haustür und Bahnsteig ein handfestes Leben/Und am Abend da spiegeln sich all deine Jahre im Glas/Das noch nie richtig voll war, na klar, das Leben macht Spaß.“ Das Ganze getragen von passend schleppenden, kraftlosen Riffs – sehr gelungen.  „Bitte bitte“ ist ein wahres Highlight der Scheibe: Ein hyperaktives, bitterböse geiferndes Fuck-You an die Hipster dieser Welt, die mit ihrer 24/7-Selbstdarstellung Ignoranz und Empathielosigkeit zelebrieren: „Du bist so frisch und superneu und kennst dich richtig gut hier aus/kennst alle neuen Scheißdrecks-Songs und man spendet dir Applaus/In einer Welt in der dein Turnbeutel viel mehr zu sagen hat/Als dein Verstand, doch das ist kein Problem, denn dir gehört die Nacht“. „Captain Risiko“ kommt als einer der musikalisch ausgefeiltesten und volltönensten Tracks daher, hier ist Abwechslung geboten, auf dem Fundament aus unbequemen Riffs prescht man zum Refrain, der wie immer beste Mitsing-Qualitäten bietet: „Frag doch nicht nach morgen, es wird heut‘ zu Ende gehen/Nur die Toten haben den Krieg gesehen“. „Absturz“ ist das was der Titel vermuten lässt: Eine unwiderstehliche Alles-ist-scheiße-und-wir-tanzen-drauf-Hymne, die zwar nicht zu den spannendsten Songs des Albums gehört, aber förmlich nach einer Bühne und vielen Kehlen, die mitbrüllen, lechzt. Das abschließende „Aus Hass wird Heimat“ thematisiert was der Titel vermuten lässt, jedoch bleibt man hier sowohl textlich als auch musikalisch etwas im Vagen, die Gitarrenmelodie kommt einem langsam schon etwas zu bekannt vor: Ein etwas schwacher Schlusspunkt.  [ ]\n",
      "\n",
      "\n",
      "\n",
      "[28] actual: True / predicted: False\n",
      "\n",
      "\n",
      "Diese Finnen … Irgendwo befindet sich dort oben ein Nest aus jungen, spielgeilen Metal-Begeisterten, die den alten Speed so authentisch aufleben lassen wie niemand sonst auf dem ganzen Planeten.  s \"Frühwerke\" (vermessen angesichts der Jugend der Mitglieder, diese Benennung) waren schon der Stein der Weisen für Freunde des Sounds der ganz alten EXCITER oder RAZOR, und \"Speed And Violence\" - nomen est omen - steht dem in nichts nach, so abgegriffen sich diese Floskel lesen mag. Hofft nicht auf einen druckvollen oder gar irgendwie modernen Sound, denn die Scheibe kommt ziemlich blechern daher, was man aber abgesehen davon, dass der Bass im Mix sträflich vernachlässigt wurde, nicht als Manko zu empfinden braucht. Bienenschwarm-Riffs und im Gegenzug erstaunlich melodische Solos, teilweise gedoppelt, bietet die Platte zuhauf, wobei   aber zum Glück auch kompositorisch (im gegebenen Rahmen) nichts anbrennen lassen. \"Speed And Violence\" ist nicht für zehn Cent originell, macht aber gehörig Spaß und bietet mit dem langen wie überdrehten 'Satanic Panic' (eine Band am Limit ihrer spielerischen Fähigkeiten?) sowie dem unverhofft kontrolliert wirkenden MAIDEN-auf-LSD-Kracher 'Last Breath' am Ende mindestens zwei Stücke, die jeder Nietenträger kennen sollte.  [ ]\n",
      "\n",
      "\n",
      "\n",
      "[39] actual: True / predicted: False\n",
      "\n",
      "\n",
      "IHRE MOTIVE ist ein rätselhafter Name, der erst einmal durchgeistigten Diskurspop erwarten (beziehungsweise eher befürchten) lässt und das Cover trägt seinen Anteil dazu bei. Dankenswerterweise stellt sich beim Hören von   jedoch schnell heraus, dass hier doch ehrlicher, geradliniger Punkrock geboten wird. Diese Musik ist im Jahr 2016 der „Drei Akkorde-A.C.A.B. –Deutschland verrecke!“-Phase lange entwachsen und, wie der Erfolg von den BROILERS oder FEINE SAHNE FISCHFILET zeigt, durchaus in dem Mainstream angekommen, den er einmal bekämpft hat. Sie sind eben  . Aber wie schon klügere Menschen als ich festgestellt haben, liegt das Erfolgsgeheimnis des Kapitalismus ja genau darin, widerständige Strömungen weichzuklopfen und der Verwertbarkeit anheim zu führen.  Zur Musik:   spielen radiotauglichen Punkrock, bei dem immer mal wieder DIE ÄRZTE und DIE TOTEN HOSEN durchscheinen – allerdings ohne den Witz der einen oder das Charisma der anderen aufbieten zu können. Das ist nicht als Vorwurf gemeint, denn es wäre unfair, das Debüt-Album einer Band an Szenegrößen zu messen, die sich diesen Status über Jahre hinweg erarbeitet haben.   Beim Hören der Texte wird deutlich, dass hier aufgeweckte Zeitgenossen mit der Fähigkeit  zur Gegenwartsdiagnose am Werk sind. So üben sie einerseits wie im Song „Erso“ Gesellschaftskritik, die sich am Materialismus und dem sich immer schneller beschleunigendem Konsum (denn irgendwo muss das allein seligmachende Wachstum ja herkommen) abarbeitet, sehen andererseits aber auch die kulturelle Zukunftslosigkeit einer Gesellschaft, die sich in Remakes und Nostalgie ergeht („Reste von gestern“) und schon lange keine Vision mehr hat, die darüber hinausgeht, den Rubel so lange wie möglich rollen zu lassen. Solche Kritik wird zumeist kämpferisch vorgetragen und in eingängigen Refrains formuliert.  Im starken Song „Seifenblase“ erfolgt außerdem ein dezenter Einsatz elektronischer Komponenten, was zumindest leicht an KRAFTKLUB erinnert.  Stellenweise klingt die Musik allerdings nach feinfühligem Betroffenheits-Pop, wie er in Deutschland gerade en vogue ist. Glücklicherweise sind die Stellen nur sehr selten – so im Titel-Track und bei „Angekommen“. Zum allergrößten Teil gibt es aber sehr beschwingte Lieder zu hören, die inhaltlich zwischen Zerstörungswut und Beziehungsproblem ein breites Spektrum umreißen.   Die Bandmitglieder haben überwiegend bereits Erfahrungen im Musikbusiness gesammelt und das ist der Platte auch anzumerken. Dafür, dass es sich hier um ein Debüt handelt, wirkt das schon alles sehr professionell und abgeklärt. Den Charme des Unperfekten, wie ihn Erstlinge – gerade im Punk - sonst bisweilen versprühen, sucht man hier vergeblich. Was man bei   jedoch bekommt, ist ein gelungenes Album, das es verdient hat, gehört zu werden. Dass sie dabei trotz aller Kritik an der Gesellschaft immer mal wieder Richtung Kommerz schielen, ist eine Dialektik, welche die Populärmusik schon lange begleitet und die eigentlich kaum aufgelöst werden kann.   [ ]\n",
      "\n",
      "\n",
      "\n",
      "[60] actual: False / predicted: True\n",
      "\n",
      "\n",
      "SCHANDMAUL machen mal wieder ihrem Namen alle Ehre und präsentieren auf   die gewohnt frech-mittelalterlichen Texte und ihren verrückten Spielmanns-Rock-Pop, bei dem der Dudelsack genauso wie die Drehleier und Flöten sowie Violinen einen wichtigen Platz neben dem harten Rockinstrumentarium einnehmen.  Nach wie vor wird der Gesang des Oberschandmauls THOMAS LINDNER nicht jeden in akustische Glücksgefühle versetzen. Doch das ist nicht die wahre Crux an „Leuchtfeuer“, sondern die extrem miese Produktion des Albums, das völlig dumpf, ohne vernünftige Kanaltrennungen und mit einem plumpen Schlagzeug-Wummern daherkommt, dass jeder, der vor einer hochwertigen Anlage sitzt, nur mitleidig die Stirn runzeln und sich über solche Schluderei ärgern kann. Selbst wenn die Gestaltung im fetten Digipak mit 24seitigem Booklet sehr ansprechend ist, so kommt es doch auf den Inhalt – die Musik – an und der ist selbst bei der „Limited Edition“ mit Bonus-CD samt 13 Demo-Versionen dieses Albums regelrecht mies. Nur wenn die Musik ruhig wird und bleibt, wie bei den schönen Balladen   oder „Tjark Evers“, wo der Gesang nur von Piano und Kontrabass begleitet wird, funktioniert auch der Sound.  Angenehm ist auch, dass bei den vielen historischen Bezügen, auf denen die Texte basieren, immer eine kurze Einleitung oder Erklärung beigefügt ist, wie beispielsweise zu besagtem „Tjark Evers“, dem mit Abstand besten Song des Albums - „23. Dezember 1866; In einem fürchterlichen Nebel und bei eisiger Kälte wird der junge Mann fälschlicherweise auf einer Sandbank, statt auf der Insel abgesetzt und ward nicht mehr gesehen. Zeugnis der Tragödie geben allein ein Abschiedsbrief und eine Zigarrenkiste, die angespült werden und im Heimatverein von Baltrum noch heute zu begutachten sind...“ Dafür gibt‘s einen echten Pluspunkt! Damit aber die „schreibende Zunft“ nicht von vornherein ihren Kritiker-Käse in punkto   ablässt, eröffnet das Album ein selbstverliebtes  -Vorwort im Booklet, auf dem wie gewohnt allen Fans gedankt und gleich für alle anderen, die vielleicht nicht ganz so begeistert von „Leuchtfeuer“ sind, klargestellt wird: „Und jedes Mal aufs Neue kommt die Frage der schreibenden Zunft: ‚Was ist anders an diesem Album, was können die Leute von diesem Album erwarten?‘ etc. pp. Was soll man denn als Musiker auf eine solche Frage antworten? Ist doch klar: Es ist unser bestes Album aller Zeiten, den geneigten Zuhörern wird alles geboten, was sie erwarten, es ist unglaublich vielseitig... Was denn sonst?“ Na ja, dann können wir uns ja alles Weitere bezüglich einer Besprechung dieses Albums sparen und einfach feststellen, dass alle, die   schon immer mochten auch dieses Album mögen werden, denn es bleibt alles beim Alten, nur der Sound ist gruselig, denn die einzigen wirklichen Höhen verbreiten neben den ruhigen Songs die Flöten und Dudelsäcke, ansonsten mulmt der Sound aus den Boxen und bereitet einem beim Hören des „besten  -Albums aller Zeiten“ wahrhaft keine Freude. Allerdings fällt das weniger auf, wenn man‘s an ein paar eingestöpselten Handy- bzw. Computer-Boxen hört.  Wem das reicht, der wird wohl mit diesem „Leuchtfeuer“, das mehr nach  einer Sternschnuppe klingt, glücklich werden, für alle Anderen gilt die Weisheit des letzten Stücks  : „Wo komm‘ ich her, wo will ich hin, macht das denn alles hier noch Sinn?“ Im Falle des neuen Albums von   jedenfalls nicht, auf dem sogar die Demos der Bonus-CD qualitativ den gleichen Sound wie das Original erreichen!  Eigentlich ein Armutszeugnis für eine Band, die, egal was der Zunft-Schreiber hier auch vom Stapel lässt, sowieso die deutschen Charts stürmen wird.  [ ]\n",
      "\n",
      "\n",
      "\n",
      "[61] actual: True / predicted: False\n",
      "\n",
      "\n",
      "Fesseln   auch ohne das Überraschungsmoment ihres galligen Debüts? Fest steht, dass \" \" noch unbequemer anmutet, denn die Band hat diesmal ausgesprochen sperriges Material zusammengestellt, bei dem man fast meinen könnte, es handle sich um Schnellschüsse, doch andererseits steckt hinter der Inszenierung und der inhaltlichen Ebene solches Kalkül, dass wohl keineswegs irgendetwas dem Zufall überlassen wurde. Im Grunde bleibt alles beim Alten: monochrome Optik außen, Brutalität im Spannungsfeld zwischen Doom, (Post) Hardcore und Black bzw. Death Metal aus der Gruft innen. Das Tempo wurde merklich herausgenommen, was   der Vorgängerband OMEGA MASSIF wieder ein Stück näherbringt, auch wenn beide nur im Ansatz miteinander zu tun haben. Die neue Formation ist bei aller Stringenz variabler aufgestellt und vielleicht sogar noch unkommerzieller, was jetzt weder als Gütesiegel noch Makel verstanden werden sollte, sondern schlicht eine Feststellung ist. Wieder \"schmücken\" Zitate/Samples (u.a. von Emma Goldman, Philip Pullman oder Ian Curtis respektive aus dem 2009er Streifen \"The Road\" nach Cormac McCarthy) Booklet und Musik, letztere ein verhallter Wust, der dennoch alle Instrumente präsent bleiben lässt. Dabei bezeugen   unterschiedliche Emotionen, etwa fast Trauer in \"The Darkest Clan\" oder einfach nur Wut im walzenden Titelstück. \"Black Hole Scum\" (nette Anspielung) ist als noisiger Drone gewissermaßen Neuland für die Band - karg und unwirtlich wie der Rest natürlich. Herzzerreißende Harmonien hin, Melodieansätze (\"Bombing The Witches\") her: \" \" bietet genau das, was der Titel verspricht - Verzückung für Lichtscheue Gestalten, Katharsis für solche, die es nicht werden möchten.  [ ]\n",
      "\n",
      "\n",
      "\n",
      "[62] actual: True / predicted: False\n",
      "\n",
      "\n",
      "Neues aus Niedersachsen: TRACK DOWN TRACY präsentieren mit ihrer selbstbetitelten EP ein starkes, erfrischendes Debüt. Die Band, deren Mitglieder allesamt schon mit verschiedenen anderen Kapellen unterwegs waren, gibt es zwar erst seit einem Jahr, beim „Emergenza Musik-Wettbewerb“ konnten sie aber im Nord-Ost-Finale gleich den zweiten Platz abstauben.  Die fünf spielen Metal ohne Schnörkel, ohne Bombast und Posertum. Dafür mit Stilsicherheit, Energie und einem Gespür für den schmalen Grad zwischen catchy und belanglos, zwischen Sich-Seiner-Wurzeln-Bewusst-Sein und langweiligem Neuaufguss. Oft sind Einflüsse von 90er/00er-Metal zu hören – PANTERA, DOWN, MACHINE HEAD. So startet die EP sehr überzeugend mit „Alone“ und „Drowning“: Vor allem Sänger Cookie reißt mit, er stockt das grundsolide Instrumentalfundament mit einem gehörigen Maß an Kraft und Melodie auf, manchmal noch begleitet von einem Gitarren-Lead wird das Refrain-Mitgrölen zur wahren Freude. Nur schade, dass es immer wieder den Anschein hat, als könnte eine bessere Produktion noch mehr aus dem Ganzen gemacht haben, vor allem Gesang und Schlagzeug vermitteln den Eindruck, als wäre da Etliches im Mikrophon steckengeblieben. Das ist natürlich vor allem eine finanzielle Sache. Deshalb gilt: Einfach direkt über die bei uns verlinkte Facebook-Seite der Band zuschlagen! Für 6,50€ kann man sich selbst und den Jungs etwas Gutes tun.  Mit „My Dead Letter“ legen TRACK DOWN TRACY nach dem schwächeren „World Beyond“, das etwas ziellos auf AC/DC-Pfaden wandelt, noch einen drauf: Flüsternd beginnt Cookie, KORN lassen grüßen, Steigerung und dann, yeah! Dieser Refrain! Geil. „Blackmotorpferd“ ist, wie der Titel ahnen lässt, ein Bastard aus deutschen und englischen Texten – allgemeines Schimpfen über allgemeine Themen: „Meinungsfreiheit zählt doch hier schon längst nicht mehr.“ Aber vor allem geht es ja um die Musik und die vermag zu begeistern: Der Song versprüht düsteren BLACK-SABBATH-Gedächtnis-Groove mit Ohrwurm-Qualität und bildet zum Abschluss und mit „My Dead Letter“ Höhepunkt der EP.  [ ]\n",
      "\n",
      "\n",
      "\n"
     ]
    }
   ],
   "source": [
    "for i in range(0,100):\n",
    "    x = clf.predict(vectorizer.transform([test.iloc[i].description]))[0]\n",
    "    if test.iloc[i].positiv != x:\n",
    "        show_test_item(clf, i)\n",
    "        print('\\n\\n')"
   ]
  }
 ],
 "metadata": {
  "anaconda-cloud": {},
  "kernelspec": {
   "display_name": "Python [default]",
   "language": "python",
   "name": "python3"
  },
  "language_info": {
   "codemirror_mode": {
    "name": "ipython",
    "version": 3
   },
   "file_extension": ".py",
   "mimetype": "text/x-python",
   "name": "python",
   "nbconvert_exporter": "python",
   "pygments_lexer": "ipython3",
   "version": "3.5.2"
  }
 },
 "nbformat": 4,
 "nbformat_minor": 0
}
