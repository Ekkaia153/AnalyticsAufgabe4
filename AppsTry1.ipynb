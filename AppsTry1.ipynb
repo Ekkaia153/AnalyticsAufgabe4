{
 "cells": [
  {
   "cell_type": "code",
   "execution_count": 1,
   "metadata": {
    "collapsed": true
   },
   "outputs": [],
   "source": [
    "import pandas as pd\n",
    "from sklearn.feature_extraction.text import CountVectorizer\n",
    "from sklearn.naive_bayes import MultinomialNB\n",
    "from sklearn.metrics import accuracy_score"
   ]
  },
  {
   "cell_type": "code",
   "execution_count": 2,
   "metadata": {
    "collapsed": true
   },
   "outputs": [],
   "source": [
    "# Convenient function to output test items\n",
    "def show_test_item(clf, i, text=True, classify=True):\n",
    "    a = 'actual: ' + str(test.iloc[i].recommended)\n",
    "    p = ''\n",
    "    if classify:\n",
    "        p = ' / predicted: ' + str(clf.predict(vectorizer.transform([test.iloc[i].content_text]))[0])\n",
    "    print('[' + str(i) + '] ' +a + p)\n",
    "    if text:\n",
    "        print('\\n')\n",
    "        print(test.iloc[i].content_text)"
   ]
  },
  {
   "cell_type": "code",
   "execution_count": 5,
   "metadata": {
    "collapsed": false
   },
   "outputs": [
    {
     "name": "stdout",
     "output_type": "stream",
     "text": [
      "<class 'pandas.core.frame.DataFrame'>\n",
      "Int64Index: 17965 entries, 0 to 17964\n",
      "Data columns (total 3 columns):\n",
      "Heading    12405 non-null object\n",
      "Rating     17965 non-null int64\n",
      "Text       17965 non-null object\n",
      "dtypes: int64(1), object(2)\n",
      "memory usage: 561.4+ KB\n"
     ]
    },
    {
     "data": {
      "text/html": [
       "<div>\n",
       "<table border=\"1\" class=\"dataframe\">\n",
       "  <thead>\n",
       "    <tr style=\"text-align: right;\">\n",
       "      <th></th>\n",
       "      <th>Heading</th>\n",
       "      <th>Rating</th>\n",
       "      <th>Text</th>\n",
       "    </tr>\n",
       "  </thead>\n",
       "  <tbody>\n",
       "    <tr>\n",
       "      <th>0</th>\n",
       "      <td>Widgets?</td>\n",
       "      <td>4</td>\n",
       "      <td>App ist hervorragend designt, mir fehlt aber d...</td>\n",
       "    </tr>\n",
       "    <tr>\n",
       "      <th>1</th>\n",
       "      <td>Super</td>\n",
       "      <td>5</td>\n",
       "      <td>Passt</td>\n",
       "    </tr>\n",
       "    <tr>\n",
       "      <th>2</th>\n",
       "      <td>Klasse Wecker</td>\n",
       "      <td>4</td>\n",
       "      <td>Er ist recht einfach zu bedienen, selbst im Ha...</td>\n",
       "    </tr>\n",
       "    <tr>\n",
       "      <th>3</th>\n",
       "      <td>None</td>\n",
       "      <td>5</td>\n",
       "      <td>Echt super.nur zum ausstellen des Weckers muss...</td>\n",
       "    </tr>\n",
       "    <tr>\n",
       "      <th>4</th>\n",
       "      <td>Echt cool</td>\n",
       "      <td>5</td>\n",
       "      <td>Das ist der erste wecker den man hört :D also ...</td>\n",
       "    </tr>\n",
       "    <tr>\n",
       "      <th>5</th>\n",
       "      <td>Theoretisch sehr gute App</td>\n",
       "      <td>3</td>\n",
       "      <td>Ich benutze die App seit langem und bin sehr z...</td>\n",
       "    </tr>\n",
       "    <tr>\n",
       "      <th>6</th>\n",
       "      <td>Sehr guter app</td>\n",
       "      <td>5</td>\n",
       "      <td>Welle gelek rind e. Morovan ji xewê radike.</td>\n",
       "    </tr>\n",
       "    <tr>\n",
       "      <th>7</th>\n",
       "      <td>Klasse</td>\n",
       "      <td>5</td>\n",
       "      <td>Klasse</td>\n",
       "    </tr>\n",
       "    <tr>\n",
       "      <th>8</th>\n",
       "      <td>Sehr gut</td>\n",
       "      <td>5</td>\n",
       "      <td>Wecker, Countdown, Stoppuhr als Erweiterung. M...</td>\n",
       "    </tr>\n",
       "    <tr>\n",
       "      <th>9</th>\n",
       "      <td>None</td>\n",
       "      <td>5</td>\n",
       "      <td>Testversion verspricht viel, soweit funzt alle...</td>\n",
       "    </tr>\n",
       "  </tbody>\n",
       "</table>\n",
       "</div>"
      ],
      "text/plain": [
       "                     Heading  Rating  \\\n",
       "0                   Widgets?       4   \n",
       "1                      Super       5   \n",
       "2              Klasse Wecker       4   \n",
       "3                       None       5   \n",
       "4                  Echt cool       5   \n",
       "5  Theoretisch sehr gute App       3   \n",
       "6             Sehr guter app       5   \n",
       "7                     Klasse       5   \n",
       "8                   Sehr gut       5   \n",
       "9                       None       5   \n",
       "\n",
       "                                                Text  \n",
       "0  App ist hervorragend designt, mir fehlt aber d...  \n",
       "1                                              Passt  \n",
       "2  Er ist recht einfach zu bedienen, selbst im Ha...  \n",
       "3  Echt super.nur zum ausstellen des Weckers muss...  \n",
       "4  Das ist der erste wecker den man hört :D also ...  \n",
       "5  Ich benutze die App seit langem und bin sehr z...  \n",
       "6        Welle gelek rind e. Morovan ji xewê radike.  \n",
       "7                                             Klasse  \n",
       "8  Wecker, Countdown, Stoppuhr als Erweiterung. M...  \n",
       "9  Testversion verspricht viel, soweit funzt alle...  "
      ]
     },
     "execution_count": 5,
     "metadata": {},
     "output_type": "execute_result"
    }
   ],
   "source": [
    "dir = '/Users/juliusstahnke/Documents/HTW/Analytics/Analytics/Aufgabe4/apps/'\n",
    "apps = pd.read_json(dir + 'apps.json', orient='records', encoding='utf8')\n",
    "apps.info()\n",
    "apps[:10]"
   ]
  },
  {
   "cell_type": "code",
   "execution_count": 6,
   "metadata": {
    "collapsed": true
   },
   "outputs": [],
   "source": [
    "apps = apps[apps.Rating!=3]\n",
    "apps.reset_index(inplace=True)\n",
    "apps['positiv'] = (apps.Rating > 3)"
   ]
  },
  {
   "cell_type": "code",
   "execution_count": 7,
   "metadata": {
    "collapsed": true
   },
   "outputs": [],
   "source": [
    "#Erstellen von Trainings- und Testdaten\n",
    "\n",
    "random_state = 100\n",
    "train_positiv = games[games.recommended==True].sample(frac=0.8, random_state=random_state)\n",
    "train_negativ = games[games.recommended==False].sample(frac=0.8, random_state=random_state)\n",
    "train = pd.concat([train_positiv, train_negativ])\n",
    "test = games.drop(train.index)"
   ]
  },
  {
   "cell_type": "code",
   "execution_count": 8,
   "metadata": {
    "collapsed": false
   },
   "outputs": [
    {
     "data": {
      "text/plain": [
       "CountVectorizer(analyzer='word', binary=False, decode_error='strict',\n",
       "        dtype=<class 'numpy.int64'>, encoding='utf-8', input='content',\n",
       "        lowercase=True, max_df=200, max_features=None, min_df=10,\n",
       "        ngram_range=(1, 1), preprocessor=None, stop_words=None,\n",
       "        strip_accents=None, token_pattern='\\\\w+', tokenizer=None,\n",
       "        vocabulary=None)"
      ]
     },
     "execution_count": 8,
     "metadata": {},
     "output_type": "execute_result"
    }
   ],
   "source": [
    "#Vorgegebene Werte\n",
    "vectorizer = CountVectorizer(min_df=10, max_df=200, token_pattern='\\w+')\n",
    "vectorizer.fit(train.content_text)"
   ]
  },
  {
   "cell_type": "code",
   "execution_count": 9,
   "metadata": {
    "collapsed": false
   },
   "outputs": [
    {
     "data": {
      "text/plain": [
       "0.75987306064880111"
      ]
     },
     "execution_count": 9,
     "metadata": {},
     "output_type": "execute_result"
    }
   ],
   "source": [
    "X = vectorizer.transform(train.content_text)\n",
    "y = train.recommended\n",
    "clf = MultinomialNB().fit(X, y)\n",
    "actuals = test.recommended\n",
    "predicted = clf.predict(vectorizer.transform(test.content_text))\n",
    "accuracy_score(actuals, predicted)"
   ]
  },
  {
   "cell_type": "code",
   "execution_count": 10,
   "metadata": {
    "collapsed": false
   },
   "outputs": [
    {
     "name": "stdout",
     "output_type": "stream",
     "text": [
      "[12] actual: True / predicted: True\n",
      "\n",
      "\n",
      "Zeitloser Klassiker und damalige beste Alternative zu Diablo! Viele Quest, 8 Rassen die den Anfang der Story beeinflussen. Sammeltrieb, Gegner, Umgebung. Es sieht und fühlt sich immer noch gut an! Nur das es etwas gestottert hat beim spielen :/ 25-30 FPS, wären es 60 gewesen würde ich es totsuchten! Schönes Game!\n"
     ]
    }
   ],
   "source": [
    "show_test_item(clf, 12)"
   ]
  },
  {
   "cell_type": "code",
   "execution_count": 11,
   "metadata": {
    "collapsed": false
   },
   "outputs": [
    {
     "data": {
      "text/html": [
       "<div>\n",
       "<table border=\"1\" class=\"dataframe\">\n",
       "  <thead>\n",
       "    <tr style=\"text-align: right;\">\n",
       "      <th></th>\n",
       "      <th>content_text</th>\n",
       "      <th>recommended</th>\n",
       "    </tr>\n",
       "  </thead>\n",
       "  <tbody>\n",
       "    <tr>\n",
       "      <th>0</th>\n",
       "      <td>Beschts spiu woni je ha gspiut</td>\n",
       "      <td>True</td>\n",
       "    </tr>\n",
       "    <tr>\n",
       "      <th>1</th>\n",
       "      <td>Best Game ever Kappa kappa</td>\n",
       "      <td>False</td>\n",
       "    </tr>\n",
       "    <tr>\n",
       "      <th>2</th>\n",
       "      <td>Total verbuggtes Game, komme daher auch nicht ...</td>\n",
       "      <td>False</td>\n",
       "    </tr>\n",
       "    <tr>\n",
       "      <th>3</th>\n",
       "      <td>leider ist die grafic für den absoluter mist u...</td>\n",
       "      <td>False</td>\n",
       "    </tr>\n",
       "    <tr>\n",
       "      <th>4</th>\n",
       "      <td>Bei „Dust: An Elysian Tail“ handelt es sich um...</td>\n",
       "      <td>True</td>\n",
       "    </tr>\n",
       "    <tr>\n",
       "      <th>5</th>\n",
       "      <td>Dieses Spiel ist kurz gesagt der schlimmste Dr...</td>\n",
       "      <td>False</td>\n",
       "    </tr>\n",
       "    <tr>\n",
       "      <th>6</th>\n",
       "      <td>Update: Das Spiel ist jetzt schon seit einigen...</td>\n",
       "      <td>True</td>\n",
       "    </tr>\n",
       "    <tr>\n",
       "      <th>7</th>\n",
       "      <td>...</td>\n",
       "      <td>False</td>\n",
       "    </tr>\n",
       "    <tr>\n",
       "      <th>8</th>\n",
       "      <td>Ich bin nun wirklich kein Fan von \"Autospielen...</td>\n",
       "      <td>True</td>\n",
       "    </tr>\n",
       "    <tr>\n",
       "      <th>9</th>\n",
       "      <td>Die aktuelle Version von \"Interstellar Marines...</td>\n",
       "      <td>True</td>\n",
       "    </tr>\n",
       "    <tr>\n",
       "      <th>10</th>\n",
       "      <td>Zu große Fußstapfen Company of Heroes 2 (kurz ...</td>\n",
       "      <td>False</td>\n",
       "    </tr>\n",
       "    <tr>\n",
       "      <th>11</th>\n",
       "      <td>Ein wirklich spaßiges und auch kniffliges Spie...</td>\n",
       "      <td>True</td>\n",
       "    </tr>\n",
       "    <tr>\n",
       "      <th>12</th>\n",
       "      <td>nice the game!</td>\n",
       "      <td>True</td>\n",
       "    </tr>\n",
       "    <tr>\n",
       "      <th>13</th>\n",
       "      <td>Super Spiel</td>\n",
       "      <td>True</td>\n",
       "    </tr>\n",
       "    <tr>\n",
       "      <th>14</th>\n",
       "      <td>Im Angebot gekauft ist dieses Spiel kein Fehlk...</td>\n",
       "      <td>True</td>\n",
       "    </tr>\n",
       "    <tr>\n",
       "      <th>15</th>\n",
       "      <td>Bei  Alice: Madness Returns  ist der Wechsel z...</td>\n",
       "      <td>True</td>\n",
       "    </tr>\n",
       "    <tr>\n",
       "      <th>16</th>\n",
       "      <td>MMO im Stile von Fallout 3/ New Vegas.</td>\n",
       "      <td>True</td>\n",
       "    </tr>\n",
       "    <tr>\n",
       "      <th>17</th>\n",
       "      <td>Ein tolles Spiel aber Codemasters muss nachleg...</td>\n",
       "      <td>True</td>\n",
       "    </tr>\n",
       "    <tr>\n",
       "      <th>18</th>\n",
       "      <td>Leider ein Fehlkauf ;-(</td>\n",
       "      <td>False</td>\n",
       "    </tr>\n",
       "    <tr>\n",
       "      <th>19</th>\n",
       "      <td>Kaufen Sie F1 2013 Classic Edition, Codemaster...</td>\n",
       "      <td>True</td>\n",
       "    </tr>\n",
       "    <tr>\n",
       "      <th>20</th>\n",
       "      <td>Besser als Call of Duty Ghosts!!!</td>\n",
       "      <td>True</td>\n",
       "    </tr>\n",
       "    <tr>\n",
       "      <th>21</th>\n",
       "      <td>Singleplayer: Tomb Raider ist sehr gut gelunge...</td>\n",
       "      <td>True</td>\n",
       "    </tr>\n",
       "    <tr>\n",
       "      <th>22</th>\n",
       "      <td>Nette Idee,aber noch \"Under Construction\". Wen...</td>\n",
       "      <td>True</td>\n",
       "    </tr>\n",
       "    <tr>\n",
       "      <th>23</th>\n",
       "      <td>Das is scheiße!!!! Holt es euch nicht!</td>\n",
       "      <td>False</td>\n",
       "    </tr>\n",
       "    <tr>\n",
       "      <th>24</th>\n",
       "      <td>Der aktuell beste Farming Simulator mit vielen...</td>\n",
       "      <td>True</td>\n",
       "    </tr>\n",
       "    <tr>\n",
       "      <th>25</th>\n",
       "      <td>Your life can't be complete wihout playing Hal...</td>\n",
       "      <td>True</td>\n",
       "    </tr>\n",
       "    <tr>\n",
       "      <th>26</th>\n",
       "      <td>Nach dem Hype bei den Spielemagazinen um das S...</td>\n",
       "      <td>False</td>\n",
       "    </tr>\n",
       "    <tr>\n",
       "      <th>27</th>\n",
       "      <td>Also eines der besten Sonic Spiele die ich jem...</td>\n",
       "      <td>True</td>\n",
       "    </tr>\n",
       "    <tr>\n",
       "      <th>28</th>\n",
       "      <td>Veröffentlichung: 3 Juni 2013 Spielzeit 10,2 S...</td>\n",
       "      <td>True</td>\n",
       "    </tr>\n",
       "    <tr>\n",
       "      <th>29</th>\n",
       "      <td>Auf keinen Fall die deutsche Version kaufen -f...</td>\n",
       "      <td>False</td>\n",
       "    </tr>\n",
       "    <tr>\n",
       "      <th>...</th>\n",
       "      <td>...</td>\n",
       "      <td>...</td>\n",
       "    </tr>\n",
       "    <tr>\n",
       "      <th>28334</th>\n",
       "      <td>ist purer Scheiß digggahhh</td>\n",
       "      <td>False</td>\n",
       "    </tr>\n",
       "    <tr>\n",
       "      <th>28335</th>\n",
       "      <td>Many paid microtransactions in the game? Well,...</td>\n",
       "      <td>False</td>\n",
       "    </tr>\n",
       "    <tr>\n",
       "      <th>28336</th>\n",
       "      <td>Vor Steam-Release habe ich über mehrere Jahre ...</td>\n",
       "      <td>True</td>\n",
       "    </tr>\n",
       "    <tr>\n",
       "      <th>28337</th>\n",
       "      <td>Keine Lenkrad Unterstützung No steering wheel ...</td>\n",
       "      <td>False</td>\n",
       "    </tr>\n",
       "    <tr>\n",
       "      <th>28338</th>\n",
       "      <td>Also als aller erstes. Dieses Spiel ist schwer...</td>\n",
       "      <td>True</td>\n",
       "    </tr>\n",
       "    <tr>\n",
       "      <th>28339</th>\n",
       "      <td>Wie man an meiner ingame Zeit sehen kann bin i...</td>\n",
       "      <td>False</td>\n",
       "    </tr>\n",
       "    <tr>\n",
       "      <th>28340</th>\n",
       "      <td>demdemdmdmdmdmmdmdmdmdmdm dadadadadadadadadadd...</td>\n",
       "      <td>False</td>\n",
       "    </tr>\n",
       "    <tr>\n",
       "      <th>28341</th>\n",
       "      <td>\"The Deer\" ist ein... nein, entschuldigung... ...</td>\n",
       "      <td>False</td>\n",
       "    </tr>\n",
       "    <tr>\n",
       "      <th>28342</th>\n",
       "      <td>Mittelalterliches Point &amp; Click-Abenteuerspiel...</td>\n",
       "      <td>True</td>\n",
       "    </tr>\n",
       "    <tr>\n",
       "      <th>28343</th>\n",
       "      <td>Insurgency ist das Geld wert! wollte ich nur m...</td>\n",
       "      <td>True</td>\n",
       "    </tr>\n",
       "    <tr>\n",
       "      <th>28344</th>\n",
       "      <td>Mein Fazit zu allen die unschlüssig sind sich ...</td>\n",
       "      <td>True</td>\n",
       "    </tr>\n",
       "    <tr>\n",
       "      <th>28345</th>\n",
       "      <td>Iegendwie kein richtiges total war, Ich habe m...</td>\n",
       "      <td>False</td>\n",
       "    </tr>\n",
       "    <tr>\n",
       "      <th>28346</th>\n",
       "      <td>Das neue D00M ist D00M &amp; bleibt D00M! Verstehe...</td>\n",
       "      <td>True</td>\n",
       "    </tr>\n",
       "    <tr>\n",
       "      <th>28347</th>\n",
       "      <td>Mein erster Eindruck? WOW!!! Ich war verliebt,...</td>\n",
       "      <td>True</td>\n",
       "    </tr>\n",
       "    <tr>\n",
       "      <th>28348</th>\n",
       "      <td>Also: Zuerst einmal ein kurzer Satz um meine G...</td>\n",
       "      <td>True</td>\n",
       "    </tr>\n",
       "    <tr>\n",
       "      <th>28349</th>\n",
       "      <td>Warthunder ist ein ganz nettes Spiel, ich pers...</td>\n",
       "      <td>False</td>\n",
       "    </tr>\n",
       "    <tr>\n",
       "      <th>28350</th>\n",
       "      <td>Mein Senf! Dabei mag ich Senf nichmal... War T...</td>\n",
       "      <td>False</td>\n",
       "    </tr>\n",
       "    <tr>\n",
       "      <th>28351</th>\n",
       "      <td>Ich habe mittlerweile gut 200h gespielt und ha...</td>\n",
       "      <td>False</td>\n",
       "    </tr>\n",
       "    <tr>\n",
       "      <th>28352</th>\n",
       "      <td>CITIES SKYLINES REVIEW Stellt euch vor ihr wol...</td>\n",
       "      <td>True</td>\n",
       "    </tr>\n",
       "    <tr>\n",
       "      <th>28353</th>\n",
       "      <td>Ich finde es bisher ein super Game! Habe es je...</td>\n",
       "      <td>True</td>\n",
       "    </tr>\n",
       "    <tr>\n",
       "      <th>28354</th>\n",
       "      <td>NOPE! NOPE! NOPE! NOPE! Wenn ihr ein Spiel aeh...</td>\n",
       "      <td>False</td>\n",
       "    </tr>\n",
       "    <tr>\n",
       "      <th>28355</th>\n",
       "      <td>Das spiel wurde kaputt gepatcht. Es war mal me...</td>\n",
       "      <td>False</td>\n",
       "    </tr>\n",
       "    <tr>\n",
       "      <th>28356</th>\n",
       "      <td>Lediglich die verzweifelte SEHNSUCHT nach eine...</td>\n",
       "      <td>False</td>\n",
       "    </tr>\n",
       "    <tr>\n",
       "      <th>28357</th>\n",
       "      <td>Sehr sehr geiles Spiel! Wer ein Youtuber ist o...</td>\n",
       "      <td>True</td>\n",
       "    </tr>\n",
       "    <tr>\n",
       "      <th>28358</th>\n",
       "      <td>This sucks shrimpballs.</td>\n",
       "      <td>False</td>\n",
       "    </tr>\n",
       "    <tr>\n",
       "      <th>28359</th>\n",
       "      <td>Ich kann Griechen terrorisieren</td>\n",
       "      <td>True</td>\n",
       "    </tr>\n",
       "    <tr>\n",
       "      <th>28360</th>\n",
       "      <td>Das beste Total War aller Zeiten! Ich war sehr...</td>\n",
       "      <td>True</td>\n",
       "    </tr>\n",
       "    <tr>\n",
       "      <th>28361</th>\n",
       "      <td>ich würde mich gerne positiv zu blood and wine...</td>\n",
       "      <td>False</td>\n",
       "    </tr>\n",
       "    <tr>\n",
       "      <th>28362</th>\n",
       "      <td>\"Far Cry 3\" ist ein Open-World First-Person Sh...</td>\n",
       "      <td>True</td>\n",
       "    </tr>\n",
       "    <tr>\n",
       "      <th>28363</th>\n",
       "      <td>Entgegen der Werbung des Publishers und von Ma...</td>\n",
       "      <td>False</td>\n",
       "    </tr>\n",
       "  </tbody>\n",
       "</table>\n",
       "<p>28364 rows × 2 columns</p>\n",
       "</div>"
      ],
      "text/plain": [
       "                                            content_text recommended\n",
       "0                         Beschts spiu woni je ha gspiut        True\n",
       "1                             Best Game ever Kappa kappa       False\n",
       "2      Total verbuggtes Game, komme daher auch nicht ...       False\n",
       "3      leider ist die grafic für den absoluter mist u...       False\n",
       "4      Bei „Dust: An Elysian Tail“ handelt es sich um...        True\n",
       "5      Dieses Spiel ist kurz gesagt der schlimmste Dr...       False\n",
       "6      Update: Das Spiel ist jetzt schon seit einigen...        True\n",
       "7                                                    ...       False\n",
       "8      Ich bin nun wirklich kein Fan von \"Autospielen...        True\n",
       "9      Die aktuelle Version von \"Interstellar Marines...        True\n",
       "10     Zu große Fußstapfen Company of Heroes 2 (kurz ...       False\n",
       "11     Ein wirklich spaßiges und auch kniffliges Spie...        True\n",
       "12                                        nice the game!        True\n",
       "13                                           Super Spiel        True\n",
       "14     Im Angebot gekauft ist dieses Spiel kein Fehlk...        True\n",
       "15     Bei  Alice: Madness Returns  ist der Wechsel z...        True\n",
       "16                MMO im Stile von Fallout 3/ New Vegas.        True\n",
       "17     Ein tolles Spiel aber Codemasters muss nachleg...        True\n",
       "18                               Leider ein Fehlkauf ;-(       False\n",
       "19     Kaufen Sie F1 2013 Classic Edition, Codemaster...        True\n",
       "20                     Besser als Call of Duty Ghosts!!!        True\n",
       "21     Singleplayer: Tomb Raider ist sehr gut gelunge...        True\n",
       "22     Nette Idee,aber noch \"Under Construction\". Wen...        True\n",
       "23                Das is scheiße!!!! Holt es euch nicht!       False\n",
       "24     Der aktuell beste Farming Simulator mit vielen...        True\n",
       "25     Your life can't be complete wihout playing Hal...        True\n",
       "26     Nach dem Hype bei den Spielemagazinen um das S...       False\n",
       "27     Also eines der besten Sonic Spiele die ich jem...        True\n",
       "28     Veröffentlichung: 3 Juni 2013 Spielzeit 10,2 S...        True\n",
       "29     Auf keinen Fall die deutsche Version kaufen -f...       False\n",
       "...                                                  ...         ...\n",
       "28334                         ist purer Scheiß digggahhh       False\n",
       "28335  Many paid microtransactions in the game? Well,...       False\n",
       "28336  Vor Steam-Release habe ich über mehrere Jahre ...        True\n",
       "28337  Keine Lenkrad Unterstützung No steering wheel ...       False\n",
       "28338  Also als aller erstes. Dieses Spiel ist schwer...        True\n",
       "28339  Wie man an meiner ingame Zeit sehen kann bin i...       False\n",
       "28340  demdemdmdmdmdmmdmdmdmdmdm dadadadadadadadadadd...       False\n",
       "28341  \"The Deer\" ist ein... nein, entschuldigung... ...       False\n",
       "28342  Mittelalterliches Point & Click-Abenteuerspiel...        True\n",
       "28343  Insurgency ist das Geld wert! wollte ich nur m...        True\n",
       "28344  Mein Fazit zu allen die unschlüssig sind sich ...        True\n",
       "28345  Iegendwie kein richtiges total war, Ich habe m...       False\n",
       "28346  Das neue D00M ist D00M & bleibt D00M! Verstehe...        True\n",
       "28347  Mein erster Eindruck? WOW!!! Ich war verliebt,...        True\n",
       "28348  Also: Zuerst einmal ein kurzer Satz um meine G...        True\n",
       "28349  Warthunder ist ein ganz nettes Spiel, ich pers...       False\n",
       "28350  Mein Senf! Dabei mag ich Senf nichmal... War T...       False\n",
       "28351  Ich habe mittlerweile gut 200h gespielt und ha...       False\n",
       "28352  CITIES SKYLINES REVIEW Stellt euch vor ihr wol...        True\n",
       "28353  Ich finde es bisher ein super Game! Habe es je...        True\n",
       "28354  NOPE! NOPE! NOPE! NOPE! Wenn ihr ein Spiel aeh...       False\n",
       "28355  Das spiel wurde kaputt gepatcht. Es war mal me...       False\n",
       "28356  Lediglich die verzweifelte SEHNSUCHT nach eine...       False\n",
       "28357  Sehr sehr geiles Spiel! Wer ein Youtuber ist o...        True\n",
       "28358                            This sucks shrimpballs.       False\n",
       "28359                    Ich kann Griechen terrorisieren        True\n",
       "28360  Das beste Total War aller Zeiten! Ich war sehr...        True\n",
       "28361  ich würde mich gerne positiv zu blood and wine...       False\n",
       "28362  \"Far Cry 3\" ist ein Open-World First-Person Sh...        True\n",
       "28363  Entgegen der Werbung des Publishers und von Ma...       False\n",
       "\n",
       "[28364 rows x 2 columns]"
      ]
     },
     "execution_count": 11,
     "metadata": {},
     "output_type": "execute_result"
    }
   ],
   "source": [
    "games"
   ]
  },
  {
   "cell_type": "markdown",
   "metadata": {},
   "source": [
    "# Min Werte geändert games"
   ]
  },
  {
   "cell_type": "markdown",
   "metadata": {},
   "source": [
    "vectorizer = CountVectorizer(min_df=1, max_df=200, token_pattern='\\w+')\n",
    "vectorizer.fit(train.content_text)"
   ]
  },
  {
   "cell_type": "code",
   "execution_count": 12,
   "metadata": {
    "collapsed": false
   },
   "outputs": [
    {
     "data": {
      "text/plain": [
       "0.75987306064880111"
      ]
     },
     "execution_count": 12,
     "metadata": {},
     "output_type": "execute_result"
    }
   ],
   "source": [
    "X = vectorizer.transform(train.content_text)\n",
    "y = train.recommended\n",
    "clf = MultinomialNB().fit(X, y)\n",
    "actuals = test.recommended\n",
    "predicted = clf.predict(vectorizer.transform(test.content_text))\n",
    "accuracy_score(actuals, predicted)"
   ]
  },
  {
   "cell_type": "code",
   "execution_count": 13,
   "metadata": {
    "collapsed": false
   },
   "outputs": [
    {
     "data": {
      "text/plain": [
       "CountVectorizer(analyzer='word', binary=False, decode_error='strict',\n",
       "        dtype=<class 'numpy.int64'>, encoding='utf-8', input='content',\n",
       "        lowercase=True, max_df=200, max_features=None, min_df=50,\n",
       "        ngram_range=(1, 1), preprocessor=None, stop_words=None,\n",
       "        strip_accents=None, token_pattern='\\\\w+', tokenizer=None,\n",
       "        vocabulary=None)"
      ]
     },
     "execution_count": 13,
     "metadata": {},
     "output_type": "execute_result"
    }
   ],
   "source": [
    "vectorizer = CountVectorizer(min_df=50, max_df=200, token_pattern='\\w+')\n",
    "vectorizer.fit(train.content_text)"
   ]
  },
  {
   "cell_type": "code",
   "execution_count": 14,
   "metadata": {
    "collapsed": false
   },
   "outputs": [
    {
     "data": {
      "text/plain": [
       "0.72320169252468269"
      ]
     },
     "execution_count": 14,
     "metadata": {},
     "output_type": "execute_result"
    }
   ],
   "source": [
    "X = vectorizer.transform(train.content_text)\n",
    "y = train.recommended\n",
    "clf = MultinomialNB().fit(X, y)\n",
    "actuals = test.recommended\n",
    "predicted = clf.predict(vectorizer.transform(test.content_text))\n",
    "accuracy_score(actuals, predicted)"
   ]
  },
  {
   "cell_type": "code",
   "execution_count": 15,
   "metadata": {
    "collapsed": false
   },
   "outputs": [
    {
     "data": {
      "text/plain": [
       "CountVectorizer(analyzer='word', binary=False, decode_error='strict',\n",
       "        dtype=<class 'numpy.int64'>, encoding='utf-8', input='content',\n",
       "        lowercase=True, max_df=200, max_features=None, min_df=100,\n",
       "        ngram_range=(1, 1), preprocessor=None, stop_words=None,\n",
       "        strip_accents=None, token_pattern='\\\\w+', tokenizer=None,\n",
       "        vocabulary=None)"
      ]
     },
     "execution_count": 15,
     "metadata": {},
     "output_type": "execute_result"
    }
   ],
   "source": [
    "vectorizer = CountVectorizer(min_df=100, max_df=200, token_pattern='\\w+')\n",
    "vectorizer.fit(train.content_text)"
   ]
  },
  {
   "cell_type": "code",
   "execution_count": null,
   "metadata": {
    "collapsed": false
   },
   "outputs": [],
   "source": [
    "X = vectorizer.transform(train.content_text)\n",
    "y = train.recommended\n",
    "clf = MultinomialNB().fit(X, y)\n",
    "actuals = test.recommended\n",
    "predicted = clf.predict(vectorizer.transform(test.content_text))\n",
    "accuracy_score(actuals, predicted)"
   ]
  },
  {
   "cell_type": "markdown",
   "metadata": {},
   "source": [
    "# Max Werte geändert games"
   ]
  },
  {
   "cell_type": "code",
   "execution_count": null,
   "metadata": {
    "collapsed": false
   },
   "outputs": [],
   "source": [
    "vectorizer = CountVectorizer(min_df=10, max_df=100, token_pattern='\\w+')\n",
    "vectorizer.fit(train.content_text)"
   ]
  },
  {
   "cell_type": "code",
   "execution_count": null,
   "metadata": {
    "collapsed": false
   },
   "outputs": [],
   "source": [
    "X = vectorizer.transform(train.content_text)\n",
    "y = train.recommended\n",
    "clf = MultinomialNB().fit(X, y)\n",
    "actuals = test.recommended\n",
    "predicted = clf.predict(vectorizer.transform(test.content_text))\n",
    "accuracy_score(actuals, predicted)"
   ]
  },
  {
   "cell_type": "code",
   "execution_count": null,
   "metadata": {
    "collapsed": false
   },
   "outputs": [],
   "source": [
    "vectorizer = CountVectorizer(min_df=10, max_df=50, token_pattern='\\w+')\n",
    "vectorizer.fit(train.content_text)"
   ]
  },
  {
   "cell_type": "code",
   "execution_count": null,
   "metadata": {
    "collapsed": false
   },
   "outputs": [],
   "source": [
    "X = vectorizer.transform(train.content_text)\n",
    "y = train.recommended\n",
    "clf = MultinomialNB().fit(X, y)\n",
    "actuals = test.recommended\n",
    "predicted = clf.predict(vectorizer.transform(test.content_text))\n",
    "accuracy_score(actuals, predicted)"
   ]
  },
  {
   "cell_type": "code",
   "execution_count": null,
   "metadata": {
    "collapsed": false
   },
   "outputs": [],
   "source": [
    "vectorizer = CountVectorizer(min_df=10, max_df=300, token_pattern='\\w+')\n",
    "vectorizer.fit(train.content_text) "
   ]
  },
  {
   "cell_type": "code",
   "execution_count": null,
   "metadata": {
    "collapsed": false
   },
   "outputs": [],
   "source": [
    "X = vectorizer.transform(train.content_text)\n",
    "y = train.recommended\n",
    "clf = MultinomialNB().fit(X, y)\n",
    "actuals = test.recommended\n",
    "predicted = clf.predict(vectorizer.transform(test.content_text))\n",
    "accuracy_score(actuals, predicted)"
   ]
  },
  {
   "cell_type": "markdown",
   "metadata": {},
   "source": [
    "# Initialisierung und Standardwerte apps"
   ]
  },
  {
   "cell_type": "code",
   "execution_count": null,
   "metadata": {
    "collapsed": false
   },
   "outputs": [],
   "source": [
    "apps"
   ]
  },
  {
   "cell_type": "code",
   "execution_count": null,
   "metadata": {
    "collapsed": true
   },
   "outputs": [],
   "source": [
    "# Convenient function to output test items\n",
    "def show_test_item(clf, i, text=True, classify=True):\n",
    "    a = 'actual: ' + str(test.iloc[i].recommended)\n",
    "    p = ''\n",
    "    if classify:\n",
    "        p = ' / predicted: ' + str(clf.predict(vectorizer.transform([test.iloc[i].content_text]))[0])\n",
    "    print('[' + str(i) + '] ' +a + p)\n",
    "    if text:\n",
    "        print('\\n')\n",
    "        print(test.iloc[i].content_text)"
   ]
  },
  {
   "cell_type": "code",
   "execution_count": null,
   "metadata": {
    "collapsed": false
   },
   "outputs": [],
   "source": [
    "random_state = 100\n",
    "train_positiv = apps[apps.positiv==True].sample(frac=0.8, random_state=random_state)\n",
    "train_negativ = apps[apps.positiv==False].sample(frac=0.8, random_state=random_state)\n",
    "train = pd.concat([train_positiv, train_negativ])\n",
    "test = apps.drop(train.index)"
   ]
  },
  {
   "cell_type": "code",
   "execution_count": null,
   "metadata": {
    "collapsed": false
   },
   "outputs": [],
   "source": [
    "vectorizer = CountVectorizer(min_df=10, max_df=200, token_pattern='\\w+')\n",
    "vectorizer.fit(train.Text)\n",
    "\n"
   ]
  },
  {
   "cell_type": "code",
   "execution_count": null,
   "metadata": {
    "collapsed": false
   },
   "outputs": [],
   "source": [
    "X = vectorizer.transform(train.Text)\n",
    "y = train.positiv\n",
    "clf = MultinomialNB().fit(X, y)\n",
    "actuals = test.positiv\n",
    "predicted = clf.predict(vectorizer.transform(test.Text))\n",
    "accuracy_score(actuals, predicted)"
   ]
  },
  {
   "cell_type": "markdown",
   "metadata": {},
   "source": [
    "# Min Werte geändert apps"
   ]
  },
  {
   "cell_type": "code",
   "execution_count": null,
   "metadata": {
    "collapsed": false
   },
   "outputs": [],
   "source": [
    "vectorizer = CountVectorizer(min_df=1, max_df=200, token_pattern='\\w+')\n",
    "vectorizer.fit(train.Text)"
   ]
  },
  {
   "cell_type": "code",
   "execution_count": null,
   "metadata": {
    "collapsed": false
   },
   "outputs": [],
   "source": [
    "X = vectorizer.transform(train.Text)\n",
    "y = train.positiv\n",
    "clf = MultinomialNB().fit(X, y)\n",
    "actuals = test.positiv\n",
    "predicted = clf.predict(vectorizer.transform(test.Text))\n",
    "accuracy_score(actuals, predicted)"
   ]
  },
  {
   "cell_type": "code",
   "execution_count": null,
   "metadata": {
    "collapsed": false
   },
   "outputs": [],
   "source": [
    "vectorizer = CountVectorizer(min_df=50, max_df=200, token_pattern='\\w+')\n",
    "vectorizer.fit(train.Text)"
   ]
  },
  {
   "cell_type": "code",
   "execution_count": null,
   "metadata": {
    "collapsed": false
   },
   "outputs": [],
   "source": [
    "X = vectorizer.transform(train.Text)\n",
    "y = train.positiv\n",
    "clf = MultinomialNB().fit(X, y)\n",
    "actuals = test.positiv\n",
    "predicted = clf.predict(vectorizer.transform(test.Text))\n",
    "accuracy_score(actuals, predicted)"
   ]
  },
  {
   "cell_type": "code",
   "execution_count": null,
   "metadata": {
    "collapsed": false
   },
   "outputs": [],
   "source": [
    "vectorizer = CountVectorizer(min_df=100, max_df=200, token_pattern='\\w+')\n",
    "vectorizer.fit(train.Text)"
   ]
  },
  {
   "cell_type": "code",
   "execution_count": null,
   "metadata": {
    "collapsed": false
   },
   "outputs": [],
   "source": [
    "X = vectorizer.transform(train.Text)\n",
    "y = train.positiv\n",
    "clf = MultinomialNB().fit(X, y)\n",
    "actuals = test.positiv\n",
    "predicted = clf.predict(vectorizer.transform(test.Text))\n",
    "accuracy_score(actuals, predicted)"
   ]
  },
  {
   "cell_type": "markdown",
   "metadata": {},
   "source": [
    "# Max Werte geändert apps"
   ]
  },
  {
   "cell_type": "code",
   "execution_count": null,
   "metadata": {
    "collapsed": false
   },
   "outputs": [],
   "source": [
    "vectorizer = CountVectorizer(min_df=10, max_df=100, token_pattern='\\w+')\n",
    "vectorizer.fit(train.Text)"
   ]
  },
  {
   "cell_type": "code",
   "execution_count": null,
   "metadata": {
    "collapsed": false
   },
   "outputs": [],
   "source": [
    "X = vectorizer.transform(train.Text)\n",
    "y = train.positiv\n",
    "clf = MultinomialNB().fit(X, y)\n",
    "actuals = test.positiv\n",
    "predicted = clf.predict(vectorizer.transform(test.Text))\n",
    "accuracy_score(actuals, predicted)"
   ]
  },
  {
   "cell_type": "code",
   "execution_count": null,
   "metadata": {
    "collapsed": false
   },
   "outputs": [],
   "source": [
    "vectorizer = CountVectorizer(min_df=10, max_df=50, token_pattern='\\w+')\n",
    "vectorizer.fit(train.Text)"
   ]
  },
  {
   "cell_type": "code",
   "execution_count": null,
   "metadata": {
    "collapsed": false
   },
   "outputs": [],
   "source": [
    "X = vectorizer.transform(train.Text)\n",
    "y = train.positiv\n",
    "clf = MultinomialNB().fit(X, y)\n",
    "actuals = test.positiv\n",
    "predicted = clf.predict(vectorizer.transform(test.Text))\n",
    "accuracy_score(actuals, predicted)"
   ]
  },
  {
   "cell_type": "code",
   "execution_count": null,
   "metadata": {
    "collapsed": false
   },
   "outputs": [],
   "source": [
    "vectorizer = CountVectorizer(min_df=10, max_df=300, token_pattern='\\w+')\n",
    "vectorizer.fit(train.Text)"
   ]
  },
  {
   "cell_type": "code",
   "execution_count": null,
   "metadata": {
    "collapsed": false
   },
   "outputs": [],
   "source": [
    "X = vectorizer.transform(train.Text)\n",
    "y = train.positiv\n",
    "clf = MultinomialNB().fit(X, y)\n",
    "actuals = test.positiv\n",
    "predicted = clf.predict(vectorizer.transform(test.Text))\n",
    "accuracy_score(actuals, predicted)"
   ]
  },
  {
   "cell_type": "markdown",
   "metadata": {
    "collapsed": true
   },
   "source": [
    "# 2 Varianten Min- und Max Anzahlen, was auch immer das heisst"
   ]
  },
  {
   "cell_type": "code",
   "execution_count": null,
   "metadata": {
    "collapsed": true
   },
   "outputs": [],
   "source": []
  },
  {
   "cell_type": "markdown",
   "metadata": {},
   "source": [
    "# Beschränkung nur auf Adjektive"
   ]
  },
  {
   "cell_type": "code",
   "execution_count": null,
   "metadata": {
    "collapsed": true
   },
   "outputs": [],
   "source": []
  }
 ],
 "metadata": {
  "anaconda-cloud": {},
  "kernelspec": {
   "display_name": "Python [default]",
   "language": "python",
   "name": "python3"
  },
  "language_info": {
   "codemirror_mode": {
    "name": "ipython",
    "version": 3
   },
   "file_extension": ".py",
   "mimetype": "text/x-python",
   "name": "python",
   "nbconvert_exporter": "python",
   "pygments_lexer": "ipython3",
   "version": "3.5.2"
  }
 },
 "nbformat": 4,
 "nbformat_minor": 1
}
