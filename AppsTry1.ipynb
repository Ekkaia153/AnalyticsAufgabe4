{
 "cells": [
  {
   "cell_type": "code",
   "execution_count": null,
   "metadata": {
    "collapsed": true
   },
   "outputs": [],
   "source": [
    "import pandas as pd\n",
    "from sklearn.feature_extraction.text import CountVectorizer\n",
    "from sklearn.naive_bayes import MultinomialNB\n",
    "from sklearn.metrics import accuracy_score"
   ]
  },
  {
   "cell_type": "code",
   "execution_count": null,
   "metadata": {
    "collapsed": true
   },
   "outputs": [],
   "source": [
    "# Convenient function to output test items\n",
    "def show_test_item(clf, i, text=True, classify=True):\n",
    "    a = 'actual: ' + str(test.iloc[i].recommended)\n",
    "    p = ''\n",
    "    if classify:\n",
    "        p = ' / predicted: ' + str(clf.predict(vectorizer.transform([test.iloc[i].content_text]))[0])\n",
    "    print('[' + str(i) + '] ' +a + p)\n",
    "    if text:\n",
    "        print('\\n')\n",
    "        print(test.iloc[i].content_text)"
   ]
  },
  {
   "cell_type": "code",
   "execution_count": null,
   "metadata": {
    "collapsed": false
   },
   "outputs": [],
   "source": [
    "dir = 'C:/Users/IBM_ADMIN/Documents/Studium/1.Semester/Analytics/Aufgabe4-final/'\n",
    "games = pd.read_json(dir + 'games.json', orient='records', encoding='utf8')\n",
    "apps = pd.read_json(dir + 'apps.json', orient='records', encoding='utf8')\n",
    "music = pd.read_json(dir + 'music.json', orient='records', encoding='utf8')\n",
    "games.info()\n",
    "games[:10]"
   ]
  },
  {
   "cell_type": "code",
   "execution_count": null,
   "metadata": {
    "collapsed": true
   },
   "outputs": [],
   "source": [
    "apps = apps[apps.Rating!=3]\n",
    "apps.reset_index(inplace=True)\n",
    "apps['positiv'] = (apps.Rating > 3)"
   ]
  },
  {
   "cell_type": "code",
   "execution_count": null,
   "metadata": {
    "collapsed": true
   },
   "outputs": [],
   "source": [
    "#Erstellen von Trainings- und Testdaten\n",
    "\n",
    "random_state = 100\n",
    "train_positiv = games[games.recommended==True].sample(frac=0.8, random_state=random_state)\n",
    "train_negativ = games[games.recommended==False].sample(frac=0.8, random_state=random_state)\n",
    "train = pd.concat([train_positiv, train_negativ])\n",
    "test = games.drop(train.index)"
   ]
  },
  {
   "cell_type": "code",
   "execution_count": null,
   "metadata": {
    "collapsed": false
   },
   "outputs": [],
   "source": [
    "#Vorgegebene Werte\n",
    "vectorizer = CountVectorizer(min_df=10, max_df=200, token_pattern='\\w+')\n",
    "vectorizer.fit(train.content_text)"
   ]
  },
  {
   "cell_type": "code",
   "execution_count": null,
   "metadata": {
    "collapsed": false
   },
   "outputs": [],
   "source": [
    "X = vectorizer.transform(train.content_text)\n",
    "y = train.recommended\n",
    "clf = MultinomialNB().fit(X, y)\n",
    "actuals = test.recommended\n",
    "predicted = clf.predict(vectorizer.transform(test.content_text))\n",
    "accuracy_score(actuals, predicted)"
   ]
  },
  {
   "cell_type": "code",
   "execution_count": null,
   "metadata": {
    "collapsed": false
   },
   "outputs": [],
   "source": [
    "show_test_item(clf, 12)"
   ]
  },
  {
   "cell_type": "code",
   "execution_count": null,
   "metadata": {
    "collapsed": false
   },
   "outputs": [],
   "source": [
    "games"
   ]
  },
  {
   "cell_type": "markdown",
   "metadata": {},
   "source": [
    "# Min Werte geändert games"
   ]
  },
  {
   "cell_type": "markdown",
   "metadata": {},
   "source": [
    "vectorizer = CountVectorizer(min_df=1, max_df=200, token_pattern='\\w+')\n",
    "vectorizer.fit(train.content_text)"
   ]
  },
  {
   "cell_type": "code",
   "execution_count": null,
   "metadata": {
    "collapsed": false
   },
   "outputs": [],
   "source": [
    "X = vectorizer.transform(train.content_text)\n",
    "y = train.recommended\n",
    "clf = MultinomialNB().fit(X, y)\n",
    "actuals = test.recommended\n",
    "predicted = clf.predict(vectorizer.transform(test.content_text))\n",
    "accuracy_score(actuals, predicted)"
   ]
  },
  {
   "cell_type": "code",
   "execution_count": null,
   "metadata": {
    "collapsed": false
   },
   "outputs": [],
   "source": [
    "vectorizer = CountVectorizer(min_df=50, max_df=200, token_pattern='\\w+')\n",
    "vectorizer.fit(train.content_text)"
   ]
  },
  {
   "cell_type": "code",
   "execution_count": null,
   "metadata": {
    "collapsed": false
   },
   "outputs": [],
   "source": [
    "X = vectorizer.transform(train.content_text)\n",
    "y = train.recommended\n",
    "clf = MultinomialNB().fit(X, y)\n",
    "actuals = test.recommended\n",
    "predicted = clf.predict(vectorizer.transform(test.content_text))\n",
    "accuracy_score(actuals, predicted)"
   ]
  },
  {
   "cell_type": "code",
   "execution_count": null,
   "metadata": {
    "collapsed": false
   },
   "outputs": [],
   "source": [
    "vectorizer = CountVectorizer(min_df=100, max_df=200, token_pattern='\\w+')\n",
    "vectorizer.fit(train.content_text)"
   ]
  },
  {
   "cell_type": "code",
   "execution_count": null,
   "metadata": {
    "collapsed": false
   },
   "outputs": [],
   "source": [
    "X = vectorizer.transform(train.content_text)\n",
    "y = train.recommended\n",
    "clf = MultinomialNB().fit(X, y)\n",
    "actuals = test.recommended\n",
    "predicted = clf.predict(vectorizer.transform(test.content_text))\n",
    "accuracy_score(actuals, predicted)"
   ]
  },
  {
   "cell_type": "markdown",
   "metadata": {},
   "source": [
    "# Max Werte geändert games"
   ]
  },
  {
   "cell_type": "code",
   "execution_count": null,
   "metadata": {
    "collapsed": false
   },
   "outputs": [],
   "source": [
    "vectorizer = CountVectorizer(min_df=10, max_df=100, token_pattern='\\w+')\n",
    "vectorizer.fit(train.content_text)"
   ]
  },
  {
   "cell_type": "code",
   "execution_count": null,
   "metadata": {
    "collapsed": false
   },
   "outputs": [],
   "source": [
    "X = vectorizer.transform(train.content_text)\n",
    "y = train.recommended\n",
    "clf = MultinomialNB().fit(X, y)\n",
    "actuals = test.recommended\n",
    "predicted = clf.predict(vectorizer.transform(test.content_text))\n",
    "accuracy_score(actuals, predicted)"
   ]
  },
  {
   "cell_type": "code",
   "execution_count": null,
   "metadata": {
    "collapsed": false
   },
   "outputs": [],
   "source": [
    "vectorizer = CountVectorizer(min_df=10, max_df=50, token_pattern='\\w+')\n",
    "vectorizer.fit(train.content_text)"
   ]
  },
  {
   "cell_type": "code",
   "execution_count": null,
   "metadata": {
    "collapsed": false
   },
   "outputs": [],
   "source": [
    "X = vectorizer.transform(train.content_text)\n",
    "y = train.recommended\n",
    "clf = MultinomialNB().fit(X, y)\n",
    "actuals = test.recommended\n",
    "predicted = clf.predict(vectorizer.transform(test.content_text))\n",
    "accuracy_score(actuals, predicted)"
   ]
  },
  {
   "cell_type": "code",
   "execution_count": null,
   "metadata": {
    "collapsed": false
   },
   "outputs": [],
   "source": [
    "vectorizer = CountVectorizer(min_df=10, max_df=300, token_pattern='\\w+')\n",
    "vectorizer.fit(train.content_text) "
   ]
  },
  {
   "cell_type": "code",
   "execution_count": null,
   "metadata": {
    "collapsed": false
   },
   "outputs": [],
   "source": [
    "X = vectorizer.transform(train.content_text)\n",
    "y = train.recommended\n",
    "clf = MultinomialNB().fit(X, y)\n",
    "actuals = test.recommended\n",
    "predicted = clf.predict(vectorizer.transform(test.content_text))\n",
    "accuracy_score(actuals, predicted)"
   ]
  },
  {
   "cell_type": "markdown",
   "metadata": {},
   "source": [
    "# Initialisierung und Standardwerte apps"
   ]
  },
  {
   "cell_type": "code",
   "execution_count": null,
   "metadata": {
    "collapsed": false
   },
   "outputs": [],
   "source": [
    "apps"
   ]
  },
  {
   "cell_type": "code",
   "execution_count": null,
   "metadata": {
    "collapsed": true
   },
   "outputs": [],
   "source": [
    "# Convenient function to output test items\n",
    "def show_test_item(clf, i, text=True, classify=True):\n",
    "    a = 'actual: ' + str(test.iloc[i].recommended)\n",
    "    p = ''\n",
    "    if classify:\n",
    "        p = ' / predicted: ' + str(clf.predict(vectorizer.transform([test.iloc[i].content_text]))[0])\n",
    "    print('[' + str(i) + '] ' +a + p)\n",
    "    if text:\n",
    "        print('\\n')\n",
    "        print(test.iloc[i].content_text)"
   ]
  },
  {
   "cell_type": "code",
   "execution_count": null,
   "metadata": {
    "collapsed": false
   },
   "outputs": [],
   "source": [
    "random_state = 100\n",
    "train_positiv = apps[apps.positiv==True].sample(frac=0.8, random_state=random_state)\n",
    "train_negativ = apps[apps.positiv==False].sample(frac=0.8, random_state=random_state)\n",
    "train = pd.concat([train_positiv, train_negativ])\n",
    "test = apps.drop(train.index)"
   ]
  },
  {
   "cell_type": "code",
   "execution_count": null,
   "metadata": {
    "collapsed": false
   },
   "outputs": [],
   "source": [
    "vectorizer = CountVectorizer(min_df=10, max_df=200, token_pattern='\\w+')\n",
    "vectorizer.fit(train.Text)\n",
    "\n"
   ]
  },
  {
   "cell_type": "code",
   "execution_count": null,
   "metadata": {
    "collapsed": false
   },
   "outputs": [],
   "source": [
    "X = vectorizer.transform(train.Text)\n",
    "y = train.positiv\n",
    "clf = MultinomialNB().fit(X, y)\n",
    "actuals = test.positiv\n",
    "predicted = clf.predict(vectorizer.transform(test.Text))\n",
    "accuracy_score(actuals, predicted)"
   ]
  },
  {
   "cell_type": "markdown",
   "metadata": {},
   "source": [
    "# Min Werte geändert apps"
   ]
  },
  {
   "cell_type": "code",
   "execution_count": null,
   "metadata": {
    "collapsed": false
   },
   "outputs": [],
   "source": [
    "vectorizer = CountVectorizer(min_df=1, max_df=200, token_pattern='\\w+')\n",
    "vectorizer.fit(train.Text)"
   ]
  },
  {
   "cell_type": "code",
   "execution_count": null,
   "metadata": {
    "collapsed": false
   },
   "outputs": [],
   "source": [
    "X = vectorizer.transform(train.Text)\n",
    "y = train.positiv\n",
    "clf = MultinomialNB().fit(X, y)\n",
    "actuals = test.positiv\n",
    "predicted = clf.predict(vectorizer.transform(test.Text))\n",
    "accuracy_score(actuals, predicted)"
   ]
  },
  {
   "cell_type": "code",
   "execution_count": null,
   "metadata": {
    "collapsed": false
   },
   "outputs": [],
   "source": [
    "vectorizer = CountVectorizer(min_df=50, max_df=200, token_pattern='\\w+')\n",
    "vectorizer.fit(train.Text)"
   ]
  },
  {
   "cell_type": "code",
   "execution_count": null,
   "metadata": {
    "collapsed": false
   },
   "outputs": [],
   "source": [
    "X = vectorizer.transform(train.Text)\n",
    "y = train.positiv\n",
    "clf = MultinomialNB().fit(X, y)\n",
    "actuals = test.positiv\n",
    "predicted = clf.predict(vectorizer.transform(test.Text))\n",
    "accuracy_score(actuals, predicted)"
   ]
  },
  {
   "cell_type": "code",
   "execution_count": null,
   "metadata": {
    "collapsed": false
   },
   "outputs": [],
   "source": [
    "vectorizer = CountVectorizer(min_df=100, max_df=200, token_pattern='\\w+')\n",
    "vectorizer.fit(train.Text)"
   ]
  },
  {
   "cell_type": "code",
   "execution_count": null,
   "metadata": {
    "collapsed": false
   },
   "outputs": [],
   "source": [
    "X = vectorizer.transform(train.Text)\n",
    "y = train.positiv\n",
    "clf = MultinomialNB().fit(X, y)\n",
    "actuals = test.positiv\n",
    "predicted = clf.predict(vectorizer.transform(test.Text))\n",
    "accuracy_score(actuals, predicted)"
   ]
  },
  {
   "cell_type": "markdown",
   "metadata": {},
   "source": [
    "# Max Werte geändert apps"
   ]
  },
  {
   "cell_type": "code",
   "execution_count": null,
   "metadata": {
    "collapsed": false
   },
   "outputs": [],
   "source": [
    "vectorizer = CountVectorizer(min_df=10, max_df=100, token_pattern='\\w+')\n",
    "vectorizer.fit(train.Text)"
   ]
  },
  {
   "cell_type": "code",
   "execution_count": null,
   "metadata": {
    "collapsed": false
   },
   "outputs": [],
   "source": [
    "X = vectorizer.transform(train.Text)\n",
    "y = train.positiv\n",
    "clf = MultinomialNB().fit(X, y)\n",
    "actuals = test.positiv\n",
    "predicted = clf.predict(vectorizer.transform(test.Text))\n",
    "accuracy_score(actuals, predicted)"
   ]
  },
  {
   "cell_type": "code",
   "execution_count": null,
   "metadata": {
    "collapsed": false
   },
   "outputs": [],
   "source": [
    "vectorizer = CountVectorizer(min_df=10, max_df=50, token_pattern='\\w+')\n",
    "vectorizer.fit(train.Text)"
   ]
  },
  {
   "cell_type": "code",
   "execution_count": null,
   "metadata": {
    "collapsed": false
   },
   "outputs": [],
   "source": [
    "X = vectorizer.transform(train.Text)\n",
    "y = train.positiv\n",
    "clf = MultinomialNB().fit(X, y)\n",
    "actuals = test.positiv\n",
    "predicted = clf.predict(vectorizer.transform(test.Text))\n",
    "accuracy_score(actuals, predicted)"
   ]
  },
  {
   "cell_type": "code",
   "execution_count": null,
   "metadata": {
    "collapsed": false
   },
   "outputs": [],
   "source": [
    "vectorizer = CountVectorizer(min_df=10, max_df=300, token_pattern='\\w+')\n",
    "vectorizer.fit(train.Text)"
   ]
  },
  {
   "cell_type": "code",
   "execution_count": null,
   "metadata": {
    "collapsed": false
   },
   "outputs": [],
   "source": [
    "X = vectorizer.transform(train.Text)\n",
    "y = train.positiv\n",
    "clf = MultinomialNB().fit(X, y)\n",
    "actuals = test.positiv\n",
    "predicted = clf.predict(vectorizer.transform(test.Text))\n",
    "accuracy_score(actuals, predicted)"
   ]
  },
  {
   "cell_type": "markdown",
   "metadata": {
    "collapsed": true
   },
   "source": [
    "# 2 Varianten Min- und Max Anzahlen, was auch immer das heisst"
   ]
  },
  {
   "cell_type": "code",
   "execution_count": null,
   "metadata": {
    "collapsed": true
   },
   "outputs": [],
   "source": []
  },
  {
   "cell_type": "markdown",
   "metadata": {},
   "source": [
    "# Beschränkung nur auf Adjektive"
   ]
  },
  {
   "cell_type": "code",
   "execution_count": null,
   "metadata": {
    "collapsed": true
   },
   "outputs": [],
   "source": []
  }
 ],
 "metadata": {
  "anaconda-cloud": {},
  "kernelspec": {
   "display_name": "Python [default]",
   "language": "python",
   "name": "python3"
  },
  "language_info": {
   "codemirror_mode": {
    "name": "ipython",
    "version": 3
   },
   "file_extension": ".py",
   "mimetype": "text/x-python",
   "name": "python",
   "nbconvert_exporter": "python",
   "pygments_lexer": "ipython3",
   "version": "3.5.2"
  }
 },
 "nbformat": 4,
 "nbformat_minor": 1
}
