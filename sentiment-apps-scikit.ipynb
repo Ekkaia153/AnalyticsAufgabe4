{
 "cells": [
  {
   "cell_type": "code",
   "execution_count": 1,
   "metadata": {
    "collapsed": true
   },
   "outputs": [],
   "source": [
    "import pandas as pd\n",
    "from sklearn.feature_extraction.text import CountVectorizer\n",
    "from sklearn.naive_bayes import MultinomialNB\n",
    "from sklearn.metrics import accuracy_score"
   ]
  },
  {
   "cell_type": "code",
   "execution_count": 2,
   "metadata": {
    "collapsed": true
   },
   "outputs": [],
   "source": [
    "# Convenient function to output test items\n",
    "def show_test_item(clf, i, text=True, classify=True):\n",
    "    a = 'actual: ' + str(test.iloc[i].positiv)\n",
    "    p = ''\n",
    "    if classify:\n",
    "        p = ' / predicted: ' + str(clf.predict(vectorizer.transform([test.iloc[i].Text]))[0])\n",
    "    print('[' + str(i) + '] ' +a + p)\n",
    "    if text:\n",
    "        print('\\n')\n",
    "        print(test.iloc[i].Text)"
   ]
  },
  {
   "cell_type": "code",
   "execution_count": 3,
   "metadata": {
    "collapsed": false
   },
   "outputs": [
    {
     "name": "stdout",
     "output_type": "stream",
     "text": [
      "<class 'pandas.core.frame.DataFrame'>\n",
      "RangeIndex: 16743 entries, 0 to 16742\n",
      "Data columns (total 5 columns):\n",
      "index      16743 non-null int64\n",
      "Heading    11467 non-null object\n",
      "Rating     16743 non-null int64\n",
      "Text       16743 non-null object\n",
      "positiv    16743 non-null bool\n",
      "dtypes: bool(1), int64(2), object(2)\n",
      "memory usage: 539.6+ KB\n"
     ]
    },
    {
     "data": {
      "text/html": [
       "<div>\n",
       "<table border=\"1\" class=\"dataframe\">\n",
       "  <thead>\n",
       "    <tr style=\"text-align: right;\">\n",
       "      <th></th>\n",
       "      <th>index</th>\n",
       "      <th>Heading</th>\n",
       "      <th>Rating</th>\n",
       "      <th>Text</th>\n",
       "      <th>positiv</th>\n",
       "    </tr>\n",
       "  </thead>\n",
       "  <tbody>\n",
       "    <tr>\n",
       "      <th>0</th>\n",
       "      <td>0</td>\n",
       "      <td>Widgets?</td>\n",
       "      <td>4</td>\n",
       "      <td>App ist hervorragend designt, mir fehlt aber d...</td>\n",
       "      <td>True</td>\n",
       "    </tr>\n",
       "    <tr>\n",
       "      <th>1</th>\n",
       "      <td>1</td>\n",
       "      <td>Super</td>\n",
       "      <td>5</td>\n",
       "      <td>Passt</td>\n",
       "      <td>True</td>\n",
       "    </tr>\n",
       "    <tr>\n",
       "      <th>2</th>\n",
       "      <td>2</td>\n",
       "      <td>Klasse Wecker</td>\n",
       "      <td>4</td>\n",
       "      <td>Er ist recht einfach zu bedienen, selbst im Ha...</td>\n",
       "      <td>True</td>\n",
       "    </tr>\n",
       "    <tr>\n",
       "      <th>3</th>\n",
       "      <td>3</td>\n",
       "      <td>None</td>\n",
       "      <td>5</td>\n",
       "      <td>Echt super.nur zum ausstellen des Weckers muss...</td>\n",
       "      <td>True</td>\n",
       "    </tr>\n",
       "    <tr>\n",
       "      <th>4</th>\n",
       "      <td>4</td>\n",
       "      <td>Echt cool</td>\n",
       "      <td>5</td>\n",
       "      <td>Das ist der erste wecker den man hört :D also ...</td>\n",
       "      <td>True</td>\n",
       "    </tr>\n",
       "    <tr>\n",
       "      <th>5</th>\n",
       "      <td>6</td>\n",
       "      <td>Sehr guter app</td>\n",
       "      <td>5</td>\n",
       "      <td>Welle gelek rind e. Morovan ji xewê radike.</td>\n",
       "      <td>True</td>\n",
       "    </tr>\n",
       "    <tr>\n",
       "      <th>6</th>\n",
       "      <td>7</td>\n",
       "      <td>Klasse</td>\n",
       "      <td>5</td>\n",
       "      <td>Klasse</td>\n",
       "      <td>True</td>\n",
       "    </tr>\n",
       "    <tr>\n",
       "      <th>7</th>\n",
       "      <td>8</td>\n",
       "      <td>Sehr gut</td>\n",
       "      <td>5</td>\n",
       "      <td>Wecker, Countdown, Stoppuhr als Erweiterung. M...</td>\n",
       "      <td>True</td>\n",
       "    </tr>\n",
       "    <tr>\n",
       "      <th>8</th>\n",
       "      <td>9</td>\n",
       "      <td>None</td>\n",
       "      <td>5</td>\n",
       "      <td>Testversion verspricht viel, soweit funzt alle...</td>\n",
       "      <td>True</td>\n",
       "    </tr>\n",
       "    <tr>\n",
       "      <th>9</th>\n",
       "      <td>10</td>\n",
       "      <td>Bitte um Fehlerbehebung</td>\n",
       "      <td>2</td>\n",
       "      <td>Ich nutze diese APP seid Jahren ,war immer sup...</td>\n",
       "      <td>False</td>\n",
       "    </tr>\n",
       "  </tbody>\n",
       "</table>\n",
       "</div>"
      ],
      "text/plain": [
       "   index                  Heading  Rating  \\\n",
       "0      0                 Widgets?       4   \n",
       "1      1                    Super       5   \n",
       "2      2            Klasse Wecker       4   \n",
       "3      3                     None       5   \n",
       "4      4                Echt cool       5   \n",
       "5      6           Sehr guter app       5   \n",
       "6      7                   Klasse       5   \n",
       "7      8                 Sehr gut       5   \n",
       "8      9                     None       5   \n",
       "9     10  Bitte um Fehlerbehebung       2   \n",
       "\n",
       "                                                Text positiv  \n",
       "0  App ist hervorragend designt, mir fehlt aber d...    True  \n",
       "1                                              Passt    True  \n",
       "2  Er ist recht einfach zu bedienen, selbst im Ha...    True  \n",
       "3  Echt super.nur zum ausstellen des Weckers muss...    True  \n",
       "4  Das ist der erste wecker den man hört :D also ...    True  \n",
       "5        Welle gelek rind e. Morovan ji xewê radike.    True  \n",
       "6                                             Klasse    True  \n",
       "7  Wecker, Countdown, Stoppuhr als Erweiterung. M...    True  \n",
       "8  Testversion verspricht viel, soweit funzt alle...    True  \n",
       "9  Ich nutze diese APP seid Jahren ,war immer sup...   False  "
      ]
     },
     "execution_count": 3,
     "metadata": {},
     "output_type": "execute_result"
    }
   ],
   "source": [
    "dir = 'd:/repository/daten/sentiment/'\n",
    "apps = pd.read_json(dir + 'apps.json', orient='records', encoding='utf8')\n",
    "apps = apps[apps.Rating!=3]\n",
    "apps.reset_index(inplace=True)\n",
    "apps['positiv'] = (apps.Rating > 3)\n",
    "apps.info()\n",
    "apps[:10]"
   ]
  },
  {
   "cell_type": "code",
   "execution_count": 4,
   "metadata": {
    "collapsed": true
   },
   "outputs": [],
   "source": [
    "random_state = 100\n",
    "train_positiv = apps[apps.positiv==True].sample(frac=0.8, random_state=random_state)\n",
    "train_negativ = apps[apps.positiv==False].sample(frac=0.8, random_state=random_state)\n",
    "train = pd.concat([train_positiv, train_negativ])\n",
    "test = apps.drop(train.index)"
   ]
  },
  {
   "cell_type": "code",
   "execution_count": 5,
   "metadata": {
    "collapsed": false
   },
   "outputs": [
    {
     "data": {
      "text/plain": [
       "CountVectorizer(analyzer='word', binary=False, decode_error='strict',\n",
       "        dtype=<class 'numpy.int64'>, encoding='utf-8', input='content',\n",
       "        lowercase=True, max_df=200, max_features=None, min_df=10,\n",
       "        ngram_range=(1, 1), preprocessor=None, stop_words=None,\n",
       "        strip_accents=None, token_pattern='\\\\w+', tokenizer=None,\n",
       "        vocabulary=None)"
      ]
     },
     "execution_count": 5,
     "metadata": {},
     "output_type": "execute_result"
    }
   ],
   "source": [
    "vectorizer = CountVectorizer(min_df=10, max_df=200, token_pattern='\\w+')\n",
    "vectorizer.fit(train.Text)"
   ]
  },
  {
   "cell_type": "code",
   "execution_count": 6,
   "metadata": {
    "collapsed": false
   },
   "outputs": [
    {
     "data": {
      "text/plain": [
       "0.8945639187574671"
      ]
     },
     "execution_count": 6,
     "metadata": {},
     "output_type": "execute_result"
    }
   ],
   "source": [
    "X = vectorizer.transform(train.Text)\n",
    "y = train.positiv\n",
    "clf = MultinomialNB().fit(X, y)\n",
    "actuals = test.positiv\n",
    "predicted = clf.predict(vectorizer.transform(test.Text))\n",
    "accuracy_score(actuals, predicted)"
   ]
  },
  {
   "cell_type": "code",
   "execution_count": 7,
   "metadata": {
    "collapsed": false
   },
   "outputs": [
    {
     "name": "stdout",
     "output_type": "stream",
     "text": [
      "[0] actual: True / predicted: True\n",
      "\n",
      "\n",
      "Er ist recht einfach zu bedienen, selbst im Halbschlaf. Dank Mathe am Morgen bin ich fitter im rechnen und habe seit dem auch nicht mehr verpennt!^^Nachteil ist die blöde Werbung.\n"
     ]
    }
   ],
   "source": [
    "show_test_item(clf, 0)"
   ]
  },
  {
   "cell_type": "code",
   "execution_count": 8,
   "metadata": {
    "collapsed": false
   },
   "outputs": [
    {
     "name": "stdout",
     "output_type": "stream",
     "text": [
      "[35] actual: False / predicted: False\n",
      "\n",
      "\n",
      "Nutzte die App seit zwei Jahren, ohne jegliche Probleme. Leider schaltet die App seit dem letzten Update bei jedem klingeln alle Lautstärken auf 0! Daher nicht mehr wirklich brauchbar.\n"
     ]
    }
   ],
   "source": [
    "show_test_item(clf, 35)"
   ]
  },
  {
   "cell_type": "code",
   "execution_count": 9,
   "metadata": {
    "collapsed": false
   },
   "outputs": [
    {
     "name": "stdout",
     "output_type": "stream",
     "text": [
      "[6] actual: False / predicted: True\n",
      "\n",
      "\n",
      "Neue Version ist gut gelungen. Thumps up\n",
      "\n",
      "\n",
      "\n",
      "[7] actual: True / predicted: False\n",
      "\n",
      "\n",
      "Klasse Wecker, aber nach einem Wipe kommt trotz gekaufter Pro immer nur die Lite Version mit Werbung - wie krieg ich das weg?\n",
      "\n",
      "\n",
      "\n",
      "[16] actual: False / predicted: True\n",
      "\n",
      "\n",
      "Wie viele Updates eigentlich noch ?!?!\n",
      "\n",
      "\n",
      "\n",
      "[21] actual: False / predicted: True\n",
      "\n",
      "\n",
      "Viele Funktionen aber die wichtigste versagt. Weckt nicht mehr zuverlässig!!\n",
      "\n",
      "\n",
      "\n",
      "[22] actual: False / predicted: True\n",
      "\n",
      "\n",
      "Der Wecker ist genau das was ich gesucht habe. Gutes Design, übersichtlich, Fade-In und Snozze lassen sich sehr individuell einstellen und das Beste ist, dass man für einen kleinen Betrag die Werbung wegbekommt. Allerdings hängt sich das Handy beim Weckvorgang ständig auf, so das ich es neu starten muss um den Wecker aus zu machen. Deshalb leider nutzlos.\n",
      "\n",
      "\n",
      "\n",
      "[36] actual: False / predicted: True\n",
      "\n",
      "\n",
      "Auf nexus4 bleibt der Wecker des öfteren lautlos.\n",
      "\n",
      "\n",
      "\n",
      "[40] actual: False / predicted: True\n",
      "\n",
      "\n",
      "Das ist der beste Wecker app\n",
      "\n",
      "\n",
      "\n",
      "[48] actual: False / predicted: True\n",
      "\n",
      "\n",
      "Wenn die Leute gierig werden... Und weg damit!\n",
      "\n",
      "\n",
      "\n",
      "[49] actual: False / predicted: True\n",
      "\n",
      "\n",
      "Wecker funktioniert nicht mehr, trotz mehrmaligen neuinstalation, schon 3 mal verschlafen deswegen... schade\n",
      "\n",
      "\n",
      "\n"
     ]
    }
   ],
   "source": [
    "for i in range(0,50):\n",
    "    x = clf.predict(vectorizer.transform([test.iloc[i].Text]))[0]\n",
    "    if test.iloc[i].positiv != x:\n",
    "        show_test_item(clf, i)\n",
    "        print('\\n\\n')"
   ]
  },
  {
   "cell_type": "code",
   "execution_count": null,
   "metadata": {
    "collapsed": true
   },
   "outputs": [],
   "source": []
  }
 ],
 "metadata": {
  "anaconda-cloud": {},
  "kernelspec": {
   "display_name": "Python [default]",
   "language": "python",
   "name": "python3"
  },
  "language_info": {
   "codemirror_mode": {
    "name": "ipython",
    "version": 3
   },
   "file_extension": ".py",
   "mimetype": "text/x-python",
   "name": "python",
   "nbconvert_exporter": "python",
   "pygments_lexer": "ipython3",
   "version": "3.5.2"
  }
 },
 "nbformat": 4,
 "nbformat_minor": 0
}
